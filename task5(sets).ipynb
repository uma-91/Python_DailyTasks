{
 "cells": [
  {
   "cell_type": "markdown",
   "id": "2615074b-7d73-4aec-98db-848f3c16cc0d",
   "metadata": {},
   "source": [
    "## 1.  Set Creation Create a Python set containing the first 10 even numbers {2, 4, 6,8,10}. Write a program to display this set.\n"
   ]
  },
  {
   "cell_type": "code",
   "execution_count": 5,
   "id": "9b4b4f7e-f4d7-46ed-821e-0375dea42ad5",
   "metadata": {},
   "outputs": [
    {
     "name": "stdout",
     "output_type": "stream",
     "text": [
      "{2, 4, 6, 8, 10}\n"
     ]
    }
   ],
   "source": [
    "numbers={2,4,6,8,10}\n",
    "print(numbers)"
   ]
  },
  {
   "cell_type": "markdown",
   "id": "98840b3c-27c2-4646-9520-d26de6c847ae",
   "metadata": {},
   "source": [
    "## 2. Set Operations Given two sets, write a Python program to find the union, intersection, and difference of these sets.\n"
   ]
  },
  {
   "cell_type": "code",
   "execution_count": 21,
   "id": "c1545c28-68e0-4a9d-8736-22474efe3157",
   "metadata": {},
   "outputs": [
    {
     "name": "stdout",
     "output_type": "stream",
     "text": [
      "union of two sets. {1, 2, 3, 4, 'a', 'c', 'b'}\n",
      "intersection of two sets. {1, 'a', 4}\n",
      "difference of two sets. {'c', 'b'}\n",
      "symmetric difference. {2, 3, 'b', 'c'}\n"
     ]
    }
   ],
   "source": [
    "set_1={\"a\",\"b\",\"c\",1,4} #creating two sets.\n",
    "set_2={\"a\",1,2,3,4}\n",
    "#set operations union,intersection,difference.\n",
    "print(\"union of two sets.\",set_1.union(set_2)) #.union() combine two sets \n",
    "print(\"intersection of two sets.\",set_1.intersection(set_2)) #.intersection() displys common values in between two sets.\n",
    "print(\"difference of two sets.\",set_1.difference(set_2)) #.difference() displays the values from the first set which are not common in second set.\n",
    "print(\"symmetric difference.\",set_1.symmetric_difference(set_2)) #.symmetric_difference() display values from the both sets which are not common in both sets. "
   ]
  },
  {
   "cell_type": "markdown",
   "id": "6f32392a-1d1d-48fa-ab5a-ba0dbaf362b8",
   "metadata": {},
   "source": [
    "## 3.Set Operations and Methods Write a Python program that takes a set of numbers and performs the following operations:\n",
    "##       Add a new number to the set.\n",
    "##       Remove a number from the set.\n",
    "##       Check if a specific number is in the set.\n",
    "##       Find the size of the set.\n"
   ]
  },
  {
   "cell_type": "code",
   "execution_count": 50,
   "id": "cda56a96-5276-4125-b79a-d07dbef0f083",
   "metadata": {},
   "outputs": [
    {
     "name": "stdout",
     "output_type": "stream",
     "text": [
      "{40, 10, 20, 30}\n",
      "{70, 40, 10, 20, 30}\n",
      "{70, 40, 20, 30}\n"
     ]
    },
    {
     "name": "stdin",
     "output_type": "stream",
     "text": [
      "enter number to check that number exists in the list or not. 50\n"
     ]
    },
    {
     "name": "stdout",
     "output_type": "stream",
     "text": [
      "50 not found in the set.\n",
      "size of th set is. 4\n"
     ]
    }
   ],
   "source": [
    " # set operations are to perform some operations on sets below are some of set operations\n",
    "#      1.   set1.union(set2) - combines set1 with set2 and returns result as set and removes duplicate values.\n",
    "#      2.   set1.intersection(set2) - returns common values from the both set1 and set2.\n",
    "#      3.   set1.difference(set2) - returns values from the first set which are not included in the second set.\n",
    "#      4.   set1.symmetric_difference(set2) - returns values from the both sets which are not common in both sets. \n",
    "\n",
    "# set methods are.\n",
    "    # 1. set.add(element) - adds element to the set.\n",
    "    # 2. set.remove(element) - deletes element from the set if exists.if not raises an error of keyerror- key does not exists.\n",
    "    # 3. set.discard(element) - deletes element from the set if exists if does not exists it does not raise any error.\n",
    "    # 4. set.clear() - empty the set.\n",
    "    # 5. set1=set.copy() - returns the shallow copy of the set.\n",
    "numbers={10,20,30,40}\n",
    "print(numbers)\n",
    "numbers.add(70) # adds 70 to numbers set.\n",
    "print(numbers)\n",
    "numbers.remove(10) # removes 10 from the set.\n",
    "print(numbers)\n",
    "#numbers.discard(80) # removes 80 if exists if not does not return any error\n",
    "number_to_check=int(input(\"enter number to check that number exists in the list or not.\"))\n",
    "if number_to_check in numbers:\n",
    "    print(f\"{number_to_check}  found in the set.\")\n",
    "else:\n",
    "    print(f\"{number_to_check} not found in the set.\")\n",
    "print(\"size of th set is.\",len(numbers))"
   ]
  },
  {
   "cell_type": "markdown",
   "id": "fd63f696-0796-47a3-b8c9-3e482dfab55b",
   "metadata": {},
   "source": [
    "## 4.Set Operations with Lists Create a Python list with duplicate elements and convert it into a set to remove duplicates. Then, write a program to count how many duplicates were removed.\n"
   ]
  },
  {
   "cell_type": "code",
   "execution_count": 67,
   "id": "ae4cbeae-0a91-42b2-9da4-bd16abf1b180",
   "metadata": {},
   "outputs": [
    {
     "name": "stdout",
     "output_type": "stream",
     "text": [
      "[10, 'apple', 'banana', 'apple', 20, 30, 20]\n",
      "{10, 'banana', 20, 30, 'apple'}\n",
      "number of duplicate values removed. 2\n"
     ]
    }
   ],
   "source": [
    "list_1=[10,\"apple\",\"banana\",\"apple\",20,30,20]\n",
    "print(list_1)\n",
    "set_1=set(list_1) #set() is used to convert list to set.\n",
    "print(set_1)\n",
    "count_of_removed=len(list_1)-len(set_1)\n",
    "print(\"number of duplicate values removed.\",count_of_removed)\n",
    "#count=0\n",
    "#for item in set_1:\n",
    "#    if item in list_1:\n",
    "#        count+=1\n",
    "#    if count>1:\n",
    " #       print(\"removed element is.\",item)"
   ]
  },
  {
   "cell_type": "markdown",
   "id": "83af11fc-3dc3-4ce5-ae2d-0bd6e217297a",
   "metadata": {},
   "source": [
    "## 5.Explain the concept of Sets and their properties in Python. Provide a one-line definition of each set method with examples.\n"
   ]
  },
  {
   "cell_type": "markdown",
   "id": "d92f8a86-5ec1-4f1f-9960-4f1d1dd0a8a3",
   "metadata": {},
   "source": [
    "sets:\n",
    "------\n",
    "    set is a non primitive data type.set elements are collection of primitive(integer,string,float) data type and non primitive data type of tuple only\n",
    "    sets does not support indexing.so we are unable to perform slicing the set values.set does not allow duplicate values.sets are mutable means we can \n",
    "    add/remove elements from the set.but set elements are immutable.\n",
    "\n",
    "characteristics of sets:\n",
    "------------------------\n",
    "    indexing : sets does not support indexing because unorder nature.\n",
    "    unorders : set values are unordered.while iterating over the set every time the order of sets may differ.\n",
    "    no duplicate : it automatically removes duplicates while printing the sets.set ignores if we want to add duplacate element to the set.  \n",
    "    immutability of set elements : set elements are immutable in nature means we can not change the value.\n",
    "creation of set:\n",
    "----------------\n",
    "         sets are created in two ways\n",
    "             1. by using {} \n",
    "                     set_1={\"a\",\"b\",1,2,(10,20,30)}\n",
    "             2. by using set()\n",
    "                     names=set([\"raj\",\"ravi\",\"ram\"])  \n",
    "operators of sets:\n",
    "-----------------\n",
    "    1. set1.union(set2) - combines set1 values with set2 values and returns the set by deleteing the duplicate values.\n",
    "                eample:\n",
    "                -------\n",
    "                        set1={1,\"a\",\"b\",\"c\",2,3,4}\n",
    "                        set2={\"a\",1,5,6,7}\n",
    "                        union_result=set1.union(set2) \n",
    "                        print(union_result)\n",
    "                        ouput: {1,2,3,4,5,6,7,\"a\",\"b\",\"c\"}\n",
    "    2. set1.intersection(set2) - return common values fron the both sets.\n",
    "                exmple:\n",
    "                ------\n",
    "                        intersection_result=set1.intersection(set2)\n",
    "                        print(intersection_result)\n",
    "                        ouptput:{\"a\" ,1}\n",
    "    3. set1.difference(set2) - returns first set values which are not in second set\n",
    "                example:\n",
    "                -------\n",
    "                        difference_result=set1.difference(set2)\n",
    "                        print(difference_result)\n",
    "                        output: {\"b\",\"c\",2,3,4}\n",
    "    4.set1.symmetricdifference(set2) - returns values from the both set which are not common in both sets\n",
    "                 example:\n",
    "                 -------\n",
    "                         symmetric_diffrence=set1.symmetric_difference(set2)\n",
    "                         print(symmetric_diffrence)\n",
    "                         output: {\"b\",\"c\",2,3,4,5,6,7}\n",
    "set methods:\n",
    "------------\n",
    "    1.set1.add(element) - adds element to the set\n",
    "            example:\n",
    "            -------\n",
    "                    set1={10,20,30}\n",
    "                    set1.add(40)\n",
    "                    print(set1)\n",
    "                    output:{10,20,30,40}\n",
    "    2.set1.remove(element) - removes element from the set .if element not found it raises error.\n",
    "            example:\n",
    "            -------\n",
    "                    set1.remove(10)\n",
    "                    print(set1)\n",
    "                    output:{20,30,40}\n",
    "    3.set1.discard(element) - removes element from the set if exists if not ignores it does not raise error.\n",
    "            example:\n",
    "            -------\n",
    "                    set1.discard(90) # it does not raise an error\n",
    "    4.set1.clear() - clears the set\n",
    "            example:\n",
    "            ------- \n",
    "                    set1.clear()\n",
    "                    print(set1)\n",
    "                    o/p:{}\n",
    "    5.set1.copy() - shallow copy the set\n",
    "            example:\n",
    "            -------\n",
    "                    set1={10,20,30}\n",
    "                    set_copy=set1.copy()\n",
    "                    print(set_copy)\n",
    "                    o/p:{10,20,30}\n",
    "                    \n",
    "                            "
   ]
  },
  {
   "cell_type": "code",
   "execution_count": 77,
   "id": "dd0c3c36-85a1-47df-9541-78063d0fc9f8",
   "metadata": {},
   "outputs": [
    {
     "name": "stdout",
     "output_type": "stream",
     "text": [
      "{1, 2, 'b', 'a', (10, 20, 30)}\n"
     ]
    },
    {
     "data": {
      "text/plain": [
       "{'raj', 'ram', 'ravi'}"
      ]
     },
     "execution_count": 77,
     "metadata": {},
     "output_type": "execute_result"
    }
   ],
   "source": [
    " set_1={\"a\",\"b\",1,2,(10,20,30)}\n",
    "print(set_1)\n",
    "names=set([\"raj\",\"ravi\",\"ram\"]) \n",
    "names"
   ]
  },
  {
   "cell_type": "code",
   "execution_count": 89,
   "id": "3e50896b-b617-4880-b6ba-6ff86841e223",
   "metadata": {},
   "outputs": [
    {
     "name": "stdout",
     "output_type": "stream",
     "text": [
      "union result: {1, 2, 3, 4, 5, 6, 7, 'a', 'c', 'b'}\n",
      "intesectopn: {1, 'a'}\n",
      "difference is: {2, 3, 4, 'c', 'b'}\n",
      "symmetric_difference: {2, 3, 4, 5, 6, 7, 'b', 'c'}\n"
     ]
    }
   ],
   "source": [
    "#operators of sets\n",
    "set1={1,\"a\",\"b\",\"c\",2,3,4}\n",
    "set2={\"a\",1,5,6,7}\n",
    "union_result=set1.union(set2)\n",
    "print(\"union result:\",union_result)\n",
    "intersection_result=set1.intersection(set2)\n",
    "print(\"intesectopn:\",intersection_result)\n",
    "difference_result=set1.difference(set2)\n",
    "print(\"difference is:\",difference_result)\n",
    "symmetric_difference=set1.symmetric_difference(set2)\n",
    "print(\"symmetric_difference:\",symmetric_difference)"
   ]
  },
  {
   "cell_type": "code",
   "execution_count": 95,
   "id": "6e3fd1c7-fff5-4b36-9745-7082628dd795",
   "metadata": {},
   "outputs": [
    {
     "name": "stdout",
     "output_type": "stream",
     "text": [
      "{40, 10, 20, 30}\n",
      "{40, 20, 30}\n",
      "{40, 20, 30}\n",
      "{40, 20, 30}\n",
      "set()\n"
     ]
    },
    {
     "data": {
      "text/plain": [
       "set()"
      ]
     },
     "execution_count": 95,
     "metadata": {},
     "output_type": "execute_result"
    }
   ],
   "source": [
    "#methos of sets\n",
    "set1={10,20,30}\n",
    "set1.add(40)\n",
    "print(set1)\n",
    "set1.remove(10) # it raise an error if does not exists.\n",
    "print(set1)\n",
    "set1.discard(90) # it does not raises an error.\n",
    "print(set1)\n",
    "set_copy=set1.copy()\n",
    "print(set_copy)\n",
    "set1.clear()\n",
    "print(set1)"
   ]
  },
  {
   "cell_type": "code",
   "execution_count": null,
   "id": "3a722d94-fd4b-47c7-99ef-e4fdf96b4586",
   "metadata": {},
   "outputs": [],
   "source": []
  }
 ],
 "metadata": {
  "kernelspec": {
   "display_name": "Python [conda env:base] *",
   "language": "python",
   "name": "conda-base-py"
  },
  "language_info": {
   "codemirror_mode": {
    "name": "ipython",
    "version": 3
   },
   "file_extension": ".py",
   "mimetype": "text/x-python",
   "name": "python",
   "nbconvert_exporter": "python",
   "pygments_lexer": "ipython3",
   "version": "3.12.7"
  }
 },
 "nbformat": 4,
 "nbformat_minor": 5
}
