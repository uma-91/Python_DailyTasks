{
 "cells": [
  {
   "cell_type": "markdown",
   "id": "1ca8b0f8-70cc-4677-b589-9e69626397ad",
   "metadata": {},
   "source": [
    "### 1. Create a new list containing only the even numbers from the original list below.\n",
    "### list1 = [10,31,40,75,82,37,89,20]\n"
   ]
  },
  {
   "cell_type": "code",
   "execution_count": 2,
   "id": "6749e762-4aa4-4239-a44d-b5a7a20f8b17",
   "metadata": {},
   "outputs": [
    {
     "data": {
      "text/plain": [
       "[10, 40, 82, 20]"
      ]
     },
     "execution_count": 2,
     "metadata": {},
     "output_type": "execute_result"
    }
   ],
   "source": [
    "list1=[10,31,40,75,82,37,89,20]\n",
    "[x for x in list1 if x%2==0]"
   ]
  },
  {
   "cell_type": "markdown",
   "id": "ab2a7491-ebb8-45ca-8d26-56cfc5dade94",
   "metadata": {},
   "source": [
    "### 2. Create a list that contains the lengths of each word in the sentence.\n",
    "### sentence = \"It matters not what someone is born, but what they grow to be\"\n",
    "### Expected output : [2, 7, 3, 4, 7, 2, 5, 3, 4, 4, 4, 2, 2]\n"
   ]
  },
  {
   "cell_type": "code",
   "execution_count": 4,
   "id": "4d2a30c0-2cf4-4e55-9f5b-746ef30b8a12",
   "metadata": {},
   "outputs": [
    {
     "data": {
      "text/plain": [
       "[2, 7, 3, 4, 7, 2, 5, 3, 4, 4, 4, 2, 2]"
      ]
     },
     "execution_count": 4,
     "metadata": {},
     "output_type": "execute_result"
    }
   ],
   "source": [
    "sentence = \"It matters not what someone is born, but what they grow to be\"\n",
    "[len(word) for word in sentence.split()]"
   ]
  },
  {
   "cell_type": "markdown",
   "id": "d24722cd-52c5-4562-9150-7307210c26d5",
   "metadata": {},
   "source": [
    "### 3.Remove all occurrences of element 40 from the list below using list comprehension.\n",
    "### list4= [30,40,52,40,62,78,90,40,56]\n"
   ]
  },
  {
   "cell_type": "code",
   "execution_count": 6,
   "id": "57a939fb-7334-42c0-812a-e14d217824d8",
   "metadata": {},
   "outputs": [
    {
     "data": {
      "text/plain": [
       "[30, 52, 62, 78, 90, 56]"
      ]
     },
     "execution_count": 6,
     "metadata": {},
     "output_type": "execute_result"
    }
   ],
   "source": [
    "list4= [30,40,52,40,62,78,90,40,56]\n",
    "[x for x in list4 if x!=40]"
   ]
  },
  {
   "cell_type": "markdown",
   "id": "60a4c23f-942a-4edf-bf1e-b3c3bd799eb1",
   "metadata": {},
   "source": [
    "### 4.Generate a dictionary using dictionary comprehension that contains only the even  numbers from 1 to 10 as keys, and their squares as values.\n",
    "### Expected Output : \n",
    "### {2: 4, 4: 16, 6: 36, 8: 64, 10: 100}\n"
   ]
  },
  {
   "cell_type": "code",
   "execution_count": 11,
   "id": "3483b694-589a-48b4-8d84-76bc6e2b096f",
   "metadata": {},
   "outputs": [
    {
     "data": {
      "text/plain": [
       "{2: 4, 4: 16, 6: 36, 8: 64, 10: 100}"
      ]
     },
     "execution_count": 11,
     "metadata": {},
     "output_type": "execute_result"
    }
   ],
   "source": [
    "{x:x**2 for x in range(1,11) if x%2==0}"
   ]
  },
  {
   "cell_type": "markdown",
   "id": "0e640164-08b3-49e3-ad7b-955d583ebb22",
   "metadata": {},
   "source": [
    "### 5.Create a dictionary where the values are squares of the keys. Say, keys range from 3 to 25.\n",
    "### Expected Output : \n"
   ]
  },
  {
   "cell_type": "code",
   "execution_count": 14,
   "id": "b1f32d23-ff75-4669-b09e-719f85991dac",
   "metadata": {},
   "outputs": [
    {
     "data": {
      "text/plain": [
       "{3: 9,\n",
       " 4: 16,\n",
       " 5: 25,\n",
       " 6: 36,\n",
       " 7: 49,\n",
       " 8: 64,\n",
       " 9: 81,\n",
       " 10: 100,\n",
       " 11: 121,\n",
       " 12: 144,\n",
       " 13: 169,\n",
       " 14: 196,\n",
       " 15: 225,\n",
       " 16: 256,\n",
       " 17: 289,\n",
       " 18: 324,\n",
       " 19: 361,\n",
       " 20: 400,\n",
       " 21: 441,\n",
       " 22: 484,\n",
       " 23: 529,\n",
       " 24: 576,\n",
       " 25: 625}"
      ]
     },
     "execution_count": 14,
     "metadata": {},
     "output_type": "execute_result"
    }
   ],
   "source": [
    "{x:x**2 for x in range(3,26)}"
   ]
  },
  {
   "cell_type": "code",
   "execution_count": null,
   "id": "464f4f90-833b-436d-a2b3-c03353001e89",
   "metadata": {},
   "outputs": [],
   "source": []
  },
  {
   "cell_type": "code",
   "execution_count": null,
   "id": "e69be519-036a-4cdc-afe2-4c58492cd12e",
   "metadata": {},
   "outputs": [],
   "source": []
  },
  {
   "cell_type": "code",
   "execution_count": null,
   "id": "0a89545c-c8cd-4435-bbd3-e6599a9f043d",
   "metadata": {},
   "outputs": [],
   "source": []
  }
 ],
 "metadata": {
  "kernelspec": {
   "display_name": "Python [conda env:base] *",
   "language": "python",
   "name": "conda-base-py"
  },
  "language_info": {
   "codemirror_mode": {
    "name": "ipython",
    "version": 3
   },
   "file_extension": ".py",
   "mimetype": "text/x-python",
   "name": "python",
   "nbconvert_exporter": "python",
   "pygments_lexer": "ipython3",
   "version": "3.12.7"
  }
 },
 "nbformat": 4,
 "nbformat_minor": 5
}
