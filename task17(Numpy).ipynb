{
 "cells": [
  {
   "cell_type": "markdown",
   "id": "1348ffc4-57b8-4cd3-a384-885d9df82a06",
   "metadata": {},
   "source": [
    "#### 1.   Describe the features of numpy.\n",
    "\n",
    "##### Numpy:\n",
    "    is the fundamental package of numerical computing in python.it porovides support for arrays and mtrices along with the mathematical functions to perform operations on arrays.\n",
    "\n",
    "-     N Dimensional Array :- Numpy main object is homogenious muiltidimensional array called \"ndarray\".These arrays can have any number of dimensions and contain                       elements of same data type.\n",
    "-     Effective operations :- Numpy provides wide range of mathematical functions that operate element wise in an array enabling efficient numerical computation\n",
    "-     Broadcastinng :- Numpy  Broadcasting allows operations between array of different shapes and sizes without explicitly iterate over them which can simplify code and performance.\n",
    "-     Indexing and slicing :- Numpy offers a poerful indexing and slicing to accessing and modifing of array elements including advanced techniques boolean indexing and fancy indexing\n",
    "-     Integration with the other libraries :- Numpy is the foundation of other scientific libraries of python such as scipy,Mathplotlib,scikit-learn it integrate with these libraries.\n",
    "  "
   ]
  },
  {
   "cell_type": "markdown",
   "id": "32c2b1e6-fbd1-4b83-becf-c8ad6b6ffb34",
   "metadata": {},
   "source": [
    " #### 2. Write the applications of numpy."
   ]
  },
  {
   "cell_type": "markdown",
   "id": "b804513a-b2b4-48e8-8be1-8803f78d4fb4",
   "metadata": {},
   "source": [
    "1.Mathematical and Statistical Operations:\n",
    "\n",
    "-      NumPy provides a vast range of mathematical functions, including basic arithmetic operations, statistical functions, and more complex mathematical computations.\n",
    "        \n",
    "-        Example: Calculating the mean, median, standard deviation, and correlation coefficients.\n",
    "\n",
    "2.Data Analysis:\n",
    "\n",
    "-    NumPy is used extensively in data analysis and manipulation, often as a foundational tool for other libraries like pandas.\n",
    "    \n",
    "-    Example: Efficiently handling and processing large datasets, cleaning data, and performing exploratory data analysis.\n",
    "\n",
    "3.Machine Learning:\n",
    "\n",
    "-    NumPy is a core component in many machine learning frameworks, providing support for matrix operations and linear algebra.\n",
    "    \n",
    "-    Example: Implementing algorithms like linear regression, neural networks, and other machine learning models.\n",
    "\n",
    "4.Scientific Computing:\n",
    "\n",
    "-    NumPy is essential for scientific computing, providing tools for numerical simulations, solving differential equations, and more.\n",
    "    \n",
    "-    Example: Simulating physical phenomena, modeling complex systems, and performing numerical experiments.\n",
    "5.Image Processing:\n",
    "\n",
    "-    NumPy is used in image processing tasks, enabling the manipulation and analysis of image data.\n",
    "    \n",
    "-    Example: Reading, transforming, and analyzing images, applying filters, and performing image segmentation.\n",
    "\n",
    "6.Financial Analysis:\n",
    "\n",
    "-    NumPy is widely used in financial analysis for tasks like calculating returns, risk metrics, and portfolio optimization.\n",
    "    \n",
    "-    Example: Analyzing stock prices, computing financial ratios, and optimizing investment portfolios.\n",
    "\n",
    "7.Signal Processing:\n",
    "\n",
    "-    NumPy supports signal processing tasks, including filtering, Fourier transforms, and convolution operations.\n",
    "    \n",
    "-    Example: Processing audio signals, analyzing time series data, and performing spectral analysis.\n",
    "\n",
    "8.Data Visualization:\n",
    "\n",
    "-    NumPy works seamlessly with data visualization libraries like Matplotlib to create visual representations of data.\n",
    "    \n",
    "-    Example: Plotting graphs, creating charts, and visualizing complex datasets.\n",
    "\n",
    "9.Linear Algebra:\n",
    "\n",
    "-    NumPy provides extensive support for linear algebra operations, including matrix multiplication, eigenvalue computation, and solving linear equations.\n",
    "    \n",
    "-    Example: Performing matrix factorizations, solving systems of linear equations, and working with eigenvectors and eigenvalues.\n",
    "\n",
    "10.Interfacing with Other Languages:\n",
    "\n",
    "-    NumPy can interface with other programming languages like C, C++, and Fortran, enabling high-performance computing.\n",
    "    \n",
    "-    Example: Integrating C/C++ code for performance-critical sections, using Fortran libraries, and extending Python with compiled code.\n",
    "\n"
   ]
  },
  {
   "cell_type": "markdown",
   "id": "85ca583b-bb69-4c8d-9670-863e92a13b5e",
   "metadata": {},
   "source": [
    "#### 3.How numpy is different from python sequences.\n",
    "\n",
    "        Numpy arrays and python lists are both used to store the collection data.but they are diffrent in terms of functionalities,data usage,performance\n",
    "        Here are differences:\n",
    "\n",
    "Here are some key differences between NumPy arrays and Python lists:\n",
    "\n",
    "1.Performance:\n",
    "\n",
    "-    NumPy Arrays: Optimized for numerical operations and can perform computations much faster than Python lists.\n",
    "    \n",
    "-    Python Lists: General-purpose containers that can hold different types of objects. Not optimized for numerical operations.\n",
    "\n",
    "2.Homogeneity:\n",
    "\n",
    "-    NumPy Arrays: Elements must be of the same data type.\n",
    "    \n",
    "-    Python Lists: Can contain elements of different data types (e.g., integers, strings, and floats).\n",
    "\n",
    "3.Memory Efficiency:\n",
    "\n",
    "-    NumPy Arrays: Use less memory to store data compared to Python lists.\n",
    "    \n",
    "-    Python Lists: Use more memory due to the overhead of storing type information and pointers for each element.\n",
    "\n",
    "4.Functionalities:\n",
    "\n",
    "-    NumPy Arrays: Provide a vast range of built-in mathematical functions and broadcasting capabilities.\n",
    "    \n",
    "-    Python Lists: Have fewer built-in functions for numerical operations.\n",
    "\n",
    "5.Mutability:\n",
    "\n",
    "-   Both: Both NumPy arrays and Python lists are mutable, meaning you can modify their elements.\n",
    "\n",
    "6.Dimensionality:\n",
    "\n",
    "-    NumPy Arrays: Support multi-dimensional arrays (e.g., 2D, 3D arrays) which are useful for scientific computing.\n",
    "    \n",
    "-    Python Lists: Can also represent multi-dimensional data using nested lists, but it is less efficient and less intuitive.\n",
    "\n",
    "7.Indexing and Slicing:\n",
    "\n",
    "-    NumPy Arrays: Support more advanced and efficient indexing and slicing operations.\n",
    "    \n",
    "-    Python Lists: Support basic slicing and indexing.\n",
    "\n",
    "8.Element-wise Operations:\n",
    "\n",
    "-    NumPy Arrays: Allow element-wise operations directly (e.g., addition, subtraction).\n",
    "    \n",
    "-    Python Lists: Require manual iteration to perform element-wise operations."
   ]
  },
  {
   "cell_type": "markdown",
   "id": "1185647d-f014-4c05-ad3e-9ed7ee660600",
   "metadata": {},
   "source": [
    "#### 4.Create two 1-D arrays with numbers and strings respectively."
   ]
  },
  {
   "cell_type": "code",
   "execution_count": 3,
   "id": "7698def1-19bd-4248-a842-782b9429603b",
   "metadata": {},
   "outputs": [],
   "source": [
    "import numpy as np"
   ]
  },
  {
   "cell_type": "code",
   "execution_count": 67,
   "id": "bf633081-6a4c-4c8d-87bc-bc5bb91a515f",
   "metadata": {},
   "outputs": [
    {
     "name": "stdout",
     "output_type": "stream",
     "text": [
      "Number array is: [1 2 3 4]\n",
      "String array is: ['Ram' 'Sita' 'lakshman']\n"
     ]
    }
   ],
   "source": [
    "#creatinf 1D number and string arrays\n",
    "number_array=np.array([1,2,3,4],dtype=\"i\")\n",
    "string_array=np.array([\"Ram\",\"Sita\",\"lakshman\"])\n",
    "\n",
    "print(\"Number array is:\",number_array)\n",
    "print(\"String array is:\",string_array)"
   ]
  },
  {
   "cell_type": "markdown",
   "id": "3aba3fd3-6397-4788-bc1f-dacc562017a8",
   "metadata": {},
   "source": [
    "#### 5.Create 2-D and 3-D arrays. And check their shape and dimensions using (shape and ndim methods).\n"
   ]
  },
  {
   "cell_type": "code",
   "execution_count": 76,
   "id": "553d9974-b001-4124-b99f-3d6f1c3112fa",
   "metadata": {},
   "outputs": [
    {
     "name": "stdout",
     "output_type": "stream",
     "text": [
      "Shape of 2D array: (2, 2)\n",
      "Shape of 3D array: (2, 2, 3)\n",
      "Dimension of 2D array: 2\n",
      "Dimension of 3D array: 3\n"
     ]
    }
   ],
   "source": [
    "#creating 2-D and 3-D arrays\n",
    "two_D_array=np.array([[1,2],[3,4]])\n",
    "three_D_array=np.array([[[1,2,3],[4,5,6]],[[3,2,1],[5,4,3]]])\n",
    "\n",
    "#checking shape and dimension \n",
    "print(\"Shape of 2D array:\",two_D_array.shape)\n",
    "print(\"Shape of 3D array:\",three_D_array.shape)\n",
    "print(\"Dimension of 2D array:\",two_D_array.ndim)\n",
    "print(\"Dimension of 3D array:\",three_D_array.ndim)"
   ]
  },
  {
   "cell_type": "markdown",
   "id": "8b339b54-64e1-4c28-b5c0-c0f3ea08ed4c",
   "metadata": {},
   "source": [
    "#### 6.Create a 1D NumPy array with elements from 1 to 10 using arange().\n",
    "#### Create a 2D array of size 3x3 filled with zeros using zeros().\n"
   ]
  },
  {
   "cell_type": "code",
   "execution_count": 102,
   "id": "b139536e-bb3a-46e0-8db0-d5f6054b5e16",
   "metadata": {},
   "outputs": [
    {
     "name": "stdout",
     "output_type": "stream",
     "text": [
      "1D array: [1 2 3 4 5 6 7 8 9]\n",
      "[[0 0 0]\n",
      " [0 0 0]\n",
      " [0 0 0]]\n"
     ]
    }
   ],
   "source": [
    "#creating 1D array using arange()\n",
    "x=np.arange(1,10)\n",
    "print(\"1D array:\",x)\n",
    "\n",
    "#creating 2D array 3*3 with zeros\n",
    "zero_matrix=np.zeros(shape=(3,3) ,dtype=\"i\")\n",
    "print(zero_matrix)"
   ]
  },
  {
   "cell_type": "markdown",
   "id": "4d1c6829-c28a-4037-a7e1-90d10800a9bb",
   "metadata": {},
   "source": [
    "#### 7.Create an array [5, 10, 15, 20, 25]. Find its size, item size, and total bytes used by the array.\n",
    "#### Use linspace() to generate an array of 7 equally spaced numbers between 0 and 14.\n"
   ]
  },
  {
   "cell_type": "code",
   "execution_count": 121,
   "id": "d3c7bc07-ecb7-4b64-b396-1743797a3973",
   "metadata": {},
   "outputs": [
    {
     "name": "stdout",
     "output_type": "stream",
     "text": [
      "Size: 5\n",
      "iem size: 4\n",
      "total number of bytes used: 20\n",
      "[ 0.          2.33333333  4.66666667  7.          9.33333333 11.66666667\n",
      " 14.        ]\n"
     ]
    }
   ],
   "source": [
    "# size - is used to find the size of array\n",
    "# itemsize - is used to find each item size in an array\n",
    "# nbytes - is used to find the array occupied bytes will display\n",
    "\n",
    "numbers=np.array([5,10,15,20,15])\n",
    "print(\"Size:\",numbers.size)\n",
    "print(\"iem size:\",numbers.itemsize)\n",
    "print(\"total number of bytes used:\",numbers.nbytes)\n",
    "\n",
    "\n",
    "# linespace()  - is used to generate an array of evenly spaced numbers\n",
    "# np.linspace(start,stop,num=50,endpoint=True,retstep=False,dtype=None,axis=0)\n",
    "\n",
    "x=np.linspace(0,14,num=7)\n",
    "print(x)"
   ]
  },
  {
   "cell_type": "markdown",
   "id": "74d57592-b5a9-4ec5-b161-1a480224aecf",
   "metadata": {},
   "source": [
    "#### 8.Create a 4x4 identity matrix using eye().\n",
    "#### Create a 3x3 diagonal matrix with the diagonal values [1, 2, 3] using diag().\n",
    "#### Create a 2x3 array filled with the value 9 using full().\n"
   ]
  },
  {
   "cell_type": "code",
   "execution_count": 135,
   "id": "b628e224-1ffc-458f-b83f-a75165ddf346",
   "metadata": {},
   "outputs": [
    {
     "name": "stdout",
     "output_type": "stream",
     "text": [
      "[[1 0 0 0]\n",
      " [0 1 0 0]\n",
      " [0 0 1 0]\n",
      " [0 0 0 1]]\n"
     ]
    }
   ],
   "source": [
    "# eye() - is used to create indentity matrix\n",
    "identitiy=np.eye(4,dtype=\"i\")\n",
    "print(identitiy)"
   ]
  },
  {
   "cell_type": "code",
   "execution_count": 143,
   "id": "6d911ae5-24bd-41cb-bef3-19c6e9bd517e",
   "metadata": {},
   "outputs": [
    {
     "name": "stdout",
     "output_type": "stream",
     "text": [
      "[[1 0 0]\n",
      " [0 2 0]\n",
      " [0 0 3]]\n"
     ]
    }
   ],
   "source": [
    "# diag() - is used to create diagonal matrix\n",
    "x=[1,2,3]\n",
    "diagonal=np.diag(x)\n",
    "print(diagonal)"
   ]
  },
  {
   "cell_type": "code",
   "execution_count": 147,
   "id": "b2b66f48-e9aa-4530-b0cb-e02606516b26",
   "metadata": {},
   "outputs": [
    {
     "name": "stdout",
     "output_type": "stream",
     "text": [
      "[[9 9 9]\n",
      " [9 9 9]]\n"
     ]
    }
   ],
   "source": [
    "#full()\n",
    "print(np.full((2,3),9,dtype=\"i\"))"
   ]
  },
  {
   "cell_type": "markdown",
   "id": "2525f2ed-ad7d-48b1-9dee-00fe44225aa1",
   "metadata": {},
   "source": [
    "#### 9.Generate a 3x3 array of random numbers between 0 and 1 using random.rand().\n",
    "#### Create a 4x4 array of random integers between 10 and 50 using random.randint().\n",
    "#### Generate a 1D array of 5 random numbers from a normal distribution using random.randn().\n",
    "#### Generate a 2D array of shape (2, 4) with random values uniformly distributed between -5 and 5 using random.uniform().\n"
   ]
  },
  {
   "cell_type": "code",
   "execution_count": 52,
   "id": "ed7d8bbf-331f-4534-9176-81717bed69a3",
   "metadata": {},
   "outputs": [
    {
     "name": "stdout",
     "output_type": "stream",
     "text": [
      "Random numbers between 0 and 1 is:\n",
      "[[0.85410476 0.37973148 0.53081372]\n",
      " [0.1867257  0.97626859 0.31506132]\n",
      " [0.71114298 0.3517593  0.40217339]]\n",
      "\n",
      "Random integers between 10 and 50:\n",
      "[[38 11 50 34]\n",
      " [39 47 38 39]\n",
      " [30 34 20 12]\n",
      " [10 50 17 23]]\n",
      "\n",
      "random numbers from normal distribution:\n",
      "[-0.62222623 -1.44502787 -1.52244184  1.59969973 -0.13728935]\n",
      "\n",
      "uniform random numbers:\n",
      "[[-4.42785918  2.52730029  0.71322529  0.08626968]\n",
      " [ 0.19025886 -0.89542884  0.54616591 -2.0888092 ]]\n"
     ]
    }
   ],
   "source": [
    "# to print random numbers between   0 and 1    use   -             rand(dinension1,dimension2,....) \n",
    "print(f\"Random numbers between 0 and 1 is:\\n{np.random.rand(3,3)}\\n\")\n",
    "\n",
    "\n",
    "#to print random integres use   -                                  randint(low,high=None,size=None dtype=int)\n",
    "print(f\"Random integers between 10 and 50:\\n{np.random.randint(10,51,size=(4,4))}\\n\")\n",
    "\n",
    "#to generate random numbers from normal distribution  we use    -  randn(dimension1,dimension2,.....)\n",
    "print(f\"random numbers from normal distribution:\\n{np.random.randn(5)}\\n\")\n",
    "\n",
    "#to generate uniform random values                              -    uniform(low=0,high=1.0,size=None)\n",
    "print(f\"uniform random numbers:\\n{np.random.uniform(-5,5,size=(2,4))}\")"
   ]
  },
  {
   "cell_type": "markdown",
   "id": "c2ad1705-a62a-4312-9721-2beb1fe595da",
   "metadata": {},
   "source": [
    "#### 11.Create a 1D array [10, 20, 30, 40, 50]. Access the third element and update it to 35.\n",
    "#### Create a 2D array of shape (3, 4) with values from 1 to 12. Slice and extract the second row.\n",
    "#### From the same array, extract all elements in the last column.\n"
   ]
  },
  {
   "cell_type": "code",
   "execution_count": 2,
   "id": "ae47910e-1b58-4a76-943f-90d3c349c45b",
   "metadata": {},
   "outputs": [
    {
     "name": "stdout",
     "output_type": "stream",
     "text": [
      "[10 20 35 40 50]\n"
     ]
    }
   ],
   "source": [
    "#creating 1D array\n",
    "import numpy as np\n",
    "numbers=np.array([10,20,30,40,50])\n",
    "#updating third element\n",
    "numbers[2]=35\n",
    "print(numbers)"
   ]
  },
  {
   "cell_type": "code",
   "execution_count": 4,
   "id": "961a77ec-73c8-4849-998f-4d3f83b6d8f5",
   "metadata": {},
   "outputs": [
    {
     "name": "stdout",
     "output_type": "stream",
     "text": [
      "[[ 1  2  3  4]\n",
      " [ 5  6  7  8]\n",
      " [ 9 10 11 12]]\n",
      "Extracting second row using slicing: [5 6 7 8]\n"
     ]
    }
   ],
   "source": [
    "#creating 2D array\n",
    "rangevalues=np.arange(1,13).reshape(3,4)\n",
    "print(rangevalues)\n",
    "print(\"Extracting second row using slicing:\",rangevalues[1,:])"
   ]
  },
  {
   "cell_type": "code",
   "execution_count": 10,
   "id": "7d246030-96cf-4127-994e-da8f89b38ed4",
   "metadata": {},
   "outputs": [
    {
     "name": "stdout",
     "output_type": "stream",
     "text": [
      "all elements from the last column: [ 4  8 12]\n",
      "[ 4  8 12]\n"
     ]
    }
   ],
   "source": [
    "print(\"all elements from the last column:\",rangevalues[:,-1])\n",
    "print(rangevalues[:,-1])"
   ]
  },
  {
   "cell_type": "markdown",
   "id": "f4179bc4-26b5-41b2-bc8d-81c9c292ce45",
   "metadata": {},
   "source": [
    "#### 11.Create a 3x3 array of ones using ones() and change its dtype to int.\n",
    "#### Create an array [1, 2, 3, 4, 5] and multiply each element by 2.\n"
   ]
  },
  {
   "cell_type": "code",
   "execution_count": 104,
   "id": "5066e2cb-bb71-4a72-8635-504f3ddb5e31",
   "metadata": {},
   "outputs": [
    {
     "name": "stdout",
     "output_type": "stream",
     "text": [
      "[[1 1 1]\n",
      " [1 1 1]\n",
      " [1 1 1]]\n",
      "Multiply each element by 2: [ 2  4  6  8 10]\n"
     ]
    }
   ],
   "source": [
    "#creating ones array   - ones((dimension),dtype=None)\n",
    "arr=np.ones((3,3),dtype=\"i\")\n",
    "print(arr)\n",
    "\n",
    "\n",
    "arr1=np.array([1,2,3,4,5])\n",
    "print(\"Multiply each element by 2:\",arr1*2)"
   ]
  },
  {
   "cell_type": "markdown",
   "id": "3c42c839-5ab5-4f05-82bd-9ee1aa5bc330",
   "metadata": {},
   "source": [
    "#### 12.Create a 1D NumPy array with values from 1 to 10. Access the elements at indices 2, 5, and 7\n",
    "#### Given an array `arr = np.array([10, 20, 30, 40, 50, 60, 70])`, extract a slice that contains the elements from index **2 to 5**.\n",
    "#### Create an array of 10 random integers between 1 and 20. Extract all elements greater than 10.\n"
   ]
  },
  {
   "cell_type": "code",
   "execution_count": 117,
   "id": "41e3a11d-e973-49f8-b943-400003139754",
   "metadata": {},
   "outputs": [
    {
     "name": "stdout",
     "output_type": "stream",
     "text": [
      "[ 1  2  3  4  5  6  7  8  9 10]\n",
      "Accessing 2,5,7 elements: [3 6 8]\n"
     ]
    }
   ],
   "source": [
    "numbers=np.arange(1,11)\n",
    "print(numbers)\n",
    "print(\"Accessing 2,5,7 elements:\",numbers[[2,5,7]])"
   ]
  },
  {
   "cell_type": "code",
   "execution_count": 119,
   "id": "715ce52e-3e52-4f35-a386-0eeee6f33f42",
   "metadata": {},
   "outputs": [
    {
     "name": "stdout",
     "output_type": "stream",
     "text": [
      "elements from index 2 to 5: [30 40 50 60]\n"
     ]
    }
   ],
   "source": [
    "arr = np.array([10, 20, 30, 40, 50, 60, 70])\n",
    "print(\"elements from index 2 to 5:\",arr[2:6])"
   ]
  },
  {
   "cell_type": "code",
   "execution_count": 131,
   "id": "bc1e2777-a4f3-4817-b794-670553ab62b6",
   "metadata": {},
   "outputs": [
    {
     "name": "stdout",
     "output_type": "stream",
     "text": [
      "[13 13  9 13 13 10 17 12  2  2]\n",
      "Random numbers >10 are: [13 13 13 13 17 12]\n"
     ]
    }
   ],
   "source": [
    "randomnumbers=np.random.randint(1,21, size=10)\n",
    "print(randomnumbers)\n",
    "\n",
    "print(\"Random numbers >10 are:\",randomnumbers[randomnumbers>10])"
   ]
  },
  {
   "cell_type": "markdown",
   "id": "ad1530e8-e52b-41f0-8596-b66471aed4bc",
   "metadata": {},
   "source": [
    "#### 13.Create a NumPy array of size 6.  \n",
    "#### Replace the second element with 99.\n",
    "#### Update a slice of elements from index 2 to 4 with 0.  \n",
    "#### Set the last three elements to 10.  \n"
   ]
  },
  {
   "cell_type": "code",
   "execution_count": 150,
   "id": "bf53cbaf-3f06-4961-927a-194eb4489366",
   "metadata": {},
   "outputs": [
    {
     "name": "stdout",
     "output_type": "stream",
     "text": [
      "[0 1 2 3 4 5]\n",
      "replace of second element by 99: [ 0 99  2  3  4  5]\n",
      "elements from index 2 to 4 with 0: [ 0 99  0  0  0  5]\n",
      "set last three element s to 10: [ 0 99  0 10 10 10]\n"
     ]
    }
   ],
   "source": [
    "arr=np.arange(6)\n",
    "print(arr)\n",
    "arr[1]=99\n",
    "print(\"replace of second element by 99:\",arr)\n",
    "arr[2:5]=0\n",
    "print(\"elements from index 2 to 4 with 0:\",arr)\n",
    "arr[-3:]=10\n",
    "print(\"set last three element s to 10:\",arr)\n",
    "\n"
   ]
  },
  {
   "cell_type": "markdown",
   "id": "dbfcf15b-c74f-4c67-8720-fff52a5e53ec",
   "metadata": {},
   "source": [
    "#### 14.Updating a 2D Array  \n",
    "#### Create a 3x3 NumPy array with values from 1 to 9  .\n",
    "#### Replace the second row with all 5s.  \n",
    "#### Update the third column with values [8, 9, 10.\n"
   ]
  },
  {
   "cell_type": "code",
   "execution_count": 163,
   "id": "41c788ae-1ae6-41bf-9b49-2f8d54a97919",
   "metadata": {},
   "outputs": [
    {
     "name": "stdout",
     "output_type": "stream",
     "text": [
      "[[1 2 3]\n",
      " [4 5 6]\n",
      " [7 8 9]]\n",
      "Replacing second row to 5's:\n",
      " [[1 2 3]\n",
      " [5 5 5]\n",
      " [7 8 9]]\n",
      "Upadating third column values to [8,9,10]:\n",
      " [[ 1  2  8]\n",
      " [ 5  5  9]\n",
      " [ 7  8 10]]\n"
     ]
    }
   ],
   "source": [
    "arr=np.arange(1,10).reshape(3,3)\n",
    "print(arr)\n",
    "arr[1,:]=5\n",
    "print(\"Replacing second row to 5's:\\n\",arr)\n",
    "arr[:,-1]=[8,9,10]\n",
    "print(\"Upadating third column values to [8,9,10]:\\n\",arr)"
   ]
  },
  {
   "cell_type": "markdown",
   "id": "8bdf89b4-049e-4ba2-826a-50e6f1f7d4ca",
   "metadata": {},
   "source": [
    "#### 15.Using a Condition to Modify Elements:  \n",
    "#### Create a NumPy array with random numbers from 1 to 20.  \n",
    "#### Set all values greater than 10 to zero.  \n"
   ]
  },
  {
   "cell_type": "code",
   "execution_count": 179,
   "id": "b319bb03-2880-4e9d-b033-77ea9d870509",
   "metadata": {},
   "outputs": [
    {
     "name": "stdout",
     "output_type": "stream",
     "text": [
      "random numbers from 1 to 20: [14 14 12  6 18 17 19 18 13  1 17  3  9  6 18  8  8  8  5 17]\n",
      "random umbers set to gretaer than 10: [14 14 12 18 17 19 18 13 17 18 17]\n"
     ]
    }
   ],
   "source": [
    "arr=np.random.randint(1,21,size=20)\n",
    "print(\"random numbers from 1 to 20:\",arr)\n",
    "print(\"random umbers set to gretaer than 10:\",arr[arr>10])"
   ]
  },
  {
   "cell_type": "markdown",
   "id": "a171aebf-4984-420a-98c6-831b36db16dc",
   "metadata": {},
   "source": [
    "#### 16.Create an array [10, 20, 30, 40] and insert 25 at index 2.  "
   ]
  },
  {
   "cell_type": "code",
   "execution_count": 184,
   "id": "dc3f42a1-c05c-4ae8-95b9-9321e9de5646",
   "metadata": {},
   "outputs": [
    {
     "name": "stdout",
     "output_type": "stream",
     "text": [
      "array after modification: [10 20 25 40]\n"
     ]
    }
   ],
   "source": [
    "arr=np.array([10,20,30,40])\n",
    "arr[2]=25\n",
    "print(\"array after modification:\",arr)"
   ]
  },
  {
   "cell_type": "markdown",
   "id": "8f0b1c81-f69d-4ced-a681-3bdfe8a4dc33",
   "metadata": {},
   "source": [
    "#### 17.Create an array [1, 2, 3] and append [4, 5, 6] to it. "
   ]
  },
  {
   "cell_type": "code",
   "execution_count": 187,
   "id": "82b1edf0-c119-427f-a8bf-2677bddd5fa4",
   "metadata": {},
   "outputs": [
    {
     "name": "stdout",
     "output_type": "stream",
     "text": [
      "after appending: [1 2 3 4 5 6]\n"
     ]
    }
   ],
   "source": [
    "arr=np.array([1,2,3])\n",
    "arr1=np.array([4,5,6])\n",
    "result=np.append(arr,arr1)\n",
    "print(\"after appending:\",result)"
   ]
  },
  {
   "cell_type": "markdown",
   "id": "f7573bc6-c025-4636-8b2d-0dc73b774918",
   "metadata": {},
   "source": [
    "#### 18.Create an array [5, 10, 15, 20, 25] and delete the third element. "
   ]
  },
  {
   "cell_type": "code",
   "execution_count": 190,
   "id": "0f311d7a-295c-4bb7-8565-b6a2635db2af",
   "metadata": {},
   "outputs": [
    {
     "name": "stdout",
     "output_type": "stream",
     "text": [
      "after deletion of third element: [ 5 10 20 25]\n"
     ]
    }
   ],
   "source": [
    "arr=np.array([5,10,15,20,25])\n",
    "result=np.delete(arr,2)\n",
    "print(\"after deletion of third element:\",result)"
   ]
  },
  {
   "cell_type": "markdown",
   "id": "6e88abe7-81b8-4ebf-9f19-a357f9c52a66",
   "metadata": {},
   "source": [
    "#### 19.Create an array from 1 to 12 and reshape it into a 3×4 matrix. "
   ]
  },
  {
   "cell_type": "code",
   "execution_count": 199,
   "id": "08718baf-d73c-423d-9684-1e811972b325",
   "metadata": {},
   "outputs": [
    {
     "name": "stdout",
     "output_type": "stream",
     "text": [
      "[ 1  2  3  4  5  6  7  8  9 10 11 12]\n",
      "after reshape the array is:\n",
      " [[ 1  2  3  4]\n",
      " [ 5  6  7  8]\n",
      " [ 9 10 11 12]]\n"
     ]
    }
   ],
   "source": [
    "arr=np.arange(1,13)\n",
    "print(arr)\n",
    "arr=arr.reshape(3,4)\n",
    "print(\"after reshape the array is:\\n\",arr)"
   ]
  },
  {
   "cell_type": "markdown",
   "id": "000ca0b5-630e-403f-b85d-6878094f6110",
   "metadata": {},
   "source": [
    "#### 20.Create a 3×3 matrix and find its transpose using np.transpose()."
   ]
  },
  {
   "cell_type": "code",
   "execution_count": 206,
   "id": "61e956c5-51b1-42a1-a2aa-12974ec080af",
   "metadata": {},
   "outputs": [
    {
     "name": "stdout",
     "output_type": "stream",
     "text": [
      "[[0 1 2]\n",
      " [3 4 5]\n",
      " [6 7 8]]\n",
      "after transpose:\n",
      " [[0 3 6]\n",
      " [1 4 7]\n",
      " [2 5 8]]\n"
     ]
    }
   ],
   "source": [
    "arr=np.arange(9).reshape(3,3)\n",
    "print(arr)\n",
    "arr=arr.transpose()\n",
    "print(\"after transpose:\\n\",arr)"
   ]
  },
  {
   "cell_type": "markdown",
   "id": "4dc55ab5-8cac-4cc4-8969-94c49d5b8354",
   "metadata": {},
   "source": [
    "#### 21.Create two arrays:  \n",
    "#### A = np.array([2, 4, 6]), B = np.array([1, 2, 3]).  \n",
    "#### Perform element-wise addition, subtraction, multiplication, and division.  \n"
   ]
  },
  {
   "cell_type": "code",
   "execution_count": 209,
   "id": "0260d9fb-bd08-4ea8-b486-cdee4d116851",
   "metadata": {},
   "outputs": [
    {
     "name": "stdout",
     "output_type": "stream",
     "text": [
      "Addition:\n",
      " [3 6 9]\n",
      "Substraction:\n",
      " [1 2 3]\n",
      "Multiplication:\n",
      " [ 2  8 18]\n",
      "Division:\n",
      " [2. 2. 2.]\n"
     ]
    }
   ],
   "source": [
    "A = np.array([2, 4, 6])\n",
    "B = np.array([1, 2, 3])\n",
    "print(\"Addition:\\n\",A+B)\n",
    "print(\"Substraction:\\n\",A-B)\n",
    "print(\"Multiplication:\\n\",A*B)\n",
    "print(\"Division:\\n\",A/B)"
   ]
  },
  {
   "cell_type": "markdown",
   "id": "7525e07a-7d5c-45f0-b3dd-fba1033ac1bd",
   "metadata": {},
   "source": [
    "#### 22.Create an array with values [4, 8, 15, 16, 23, 42].  \n",
    "#### Compute sum, min, max, mean, median, variance, standard deviation, and correlation coefficient.  \n"
   ]
  },
  {
   "cell_type": "code",
   "execution_count": 214,
   "id": "05f6e544-5774-43a6-8d6c-7e8b712ec116",
   "metadata": {},
   "outputs": [
    {
     "name": "stdout",
     "output_type": "stream",
     "text": [
      "Array: [ 4  8 15 16 23 42]\n",
      "Sum: 108\n",
      "Min: 4\n",
      "Max: 42\n",
      "Mean: 18.0\n",
      "Median: 15.5\n",
      "Variance: 151.66666666666666\n",
      "Standard Deviation: 12.315302134607444\n",
      "Correlation Coefficient: 1.0\n"
     ]
    }
   ],
   "source": [
    "import numpy as np\n",
    "\n",
    "# Create the array\n",
    "array = np.array([4, 8, 15, 16, 23, 42])\n",
    "\n",
    "# Compute statistics\n",
    "sum_value = np.sum(array)\n",
    "min_value = np.min(array)\n",
    "max_value = np.max(array)\n",
    "mean_value = np.mean(array)\n",
    "median_value = np.median(array)\n",
    "variance_value = np.var(array)\n",
    "std_deviation_value = np.std(array)\n",
    "correlation_coefficient = np.corrcoef(array)\n",
    "\n",
    "print(\"Array:\", array)\n",
    "print(\"Sum:\", sum_value)\n",
    "print(\"Min:\", min_value)\n",
    "print(\"Max:\", max_value)\n",
    "print(\"Mean:\", mean_value)\n",
    "print(\"Median:\", median_value)\n",
    "print(\"Variance:\", variance_value)\n",
    "print(\"Standard Deviation:\", std_deviation_value)\n",
    "print(\"Correlation Coefficient:\", correlation_coefficient)\n"
   ]
  },
  {
   "cell_type": "code",
   "execution_count": null,
   "id": "106fa594-0d1e-41f3-9445-cff1e0ff18d0",
   "metadata": {},
   "outputs": [],
   "source": []
  },
  {
   "cell_type": "code",
   "execution_count": null,
   "id": "35ff8e3d-a1ea-45f6-a8e8-3c839c80e609",
   "metadata": {},
   "outputs": [],
   "source": []
  },
  {
   "cell_type": "code",
   "execution_count": null,
   "id": "435dfa4a-ee17-4b30-8b2a-bb08de1c8186",
   "metadata": {},
   "outputs": [],
   "source": []
  },
  {
   "cell_type": "code",
   "execution_count": null,
   "id": "2e66a6b8-77e9-4304-bd14-dd5c0f77a96a",
   "metadata": {},
   "outputs": [],
   "source": []
  },
  {
   "cell_type": "code",
   "execution_count": null,
   "id": "c55094d0-017d-4521-b122-3922e0a326c6",
   "metadata": {},
   "outputs": [],
   "source": []
  },
  {
   "cell_type": "code",
   "execution_count": null,
   "id": "104cbce6-c722-4972-86a7-7b46c969b70c",
   "metadata": {},
   "outputs": [],
   "source": []
  },
  {
   "cell_type": "code",
   "execution_count": null,
   "id": "7a70649e-ec8f-47e2-bf12-927dc51fc0a8",
   "metadata": {},
   "outputs": [],
   "source": []
  },
  {
   "cell_type": "code",
   "execution_count": null,
   "id": "0723e431-aba0-42a9-ac74-8067d17a80a8",
   "metadata": {},
   "outputs": [],
   "source": []
  },
  {
   "cell_type": "code",
   "execution_count": null,
   "id": "cb00d0dc-4f11-449f-ab54-e45544f88f42",
   "metadata": {},
   "outputs": [],
   "source": []
  },
  {
   "cell_type": "code",
   "execution_count": null,
   "id": "c29c3a8e-ecaa-4811-bdb1-7285cc7815ab",
   "metadata": {},
   "outputs": [],
   "source": []
  },
  {
   "cell_type": "code",
   "execution_count": null,
   "id": "815915f9-1257-4958-b6d7-4ba115b32886",
   "metadata": {},
   "outputs": [],
   "source": []
  },
  {
   "cell_type": "code",
   "execution_count": null,
   "id": "bc48724b-8b94-497a-976d-fb306e4d46d6",
   "metadata": {},
   "outputs": [],
   "source": []
  },
  {
   "cell_type": "code",
   "execution_count": null,
   "id": "d7dcca32-0075-47d5-9ca1-a76415540c7d",
   "metadata": {},
   "outputs": [],
   "source": []
  },
  {
   "cell_type": "code",
   "execution_count": null,
   "id": "0ee7bceb-513d-4f04-8b49-ce2b0233a147",
   "metadata": {},
   "outputs": [],
   "source": []
  },
  {
   "cell_type": "code",
   "execution_count": null,
   "id": "f501cfa6-7d1b-47c8-ac2d-5ac24bc3058f",
   "metadata": {},
   "outputs": [],
   "source": []
  },
  {
   "cell_type": "code",
   "execution_count": 49,
   "id": "edd4bb2d-eeb0-40a4-a8fc-4eb3d148b6a0",
   "metadata": {},
   "outputs": [
    {
     "name": "stdout",
     "output_type": "stream",
     "text": [
      "Size of list is:800056 bytes\n",
      "Size of array is: 400000 bytes\n",
      "list sum: 4999950000\n",
      "arry sum: 704982704\n",
      "time taken to sum list:-6.61 milliseconds\n",
      "time taken to sum arr:0.00 milliseconds\n"
     ]
    }
   ],
   "source": [
    "import sys\n",
    "import numpy as np\n",
    "\n",
    "#creating list of 10000 integers\n",
    "list1=list(range(100000))\n",
    "\n",
    "#creating array of 10000 integers\n",
    "arr1=np.arange(100000)\n",
    "\n",
    "#print size of list and array\n",
    "print(f\"Size of list is:{sys.getsizeof(list1)} bytes\")\n",
    "print(f\"Size of array is: {arr1.nbytes} bytes\")\n",
    "\n",
    "#import time module\n",
    "import time\n",
    "\n",
    "#sum the list\n",
    "start_time=time.time()\n",
    "sum_list=sum(list1)\n",
    "end_time=time.time()\n",
    "list_sum_time=(start_time-end_time)*1000\n",
    "\n",
    "#sum the array\n",
    "start_time=time.time()\n",
    "sum_arr=np.sum(arr1)\n",
    "end_time=time.time()\n",
    "arr_sum_time=(start_time-end_time)*1000\n",
    "\n",
    "print(\"list sum:\",sum_list)\n",
    "print(\"arry sum:\",sum_arr)\n",
    "\n",
    "#time taken to sum array and list\n",
    "print(f\"time taken to sum list:{list_sum_time:.2f} milliseconds\")\n",
    "print(f\"time taken to sum arr:{arr_sum_time:.2f} milliseconds\")"
   ]
  },
  {
   "cell_type": "code",
   "execution_count": null,
   "id": "eb7c0ee2-8521-4bc9-96f6-2225c35c6a17",
   "metadata": {},
   "outputs": [],
   "source": []
  },
  {
   "cell_type": "code",
   "execution_count": null,
   "id": "73f27139-759d-4ff0-bbd0-6551fc95e264",
   "metadata": {},
   "outputs": [],
   "source": []
  },
  {
   "cell_type": "code",
   "execution_count": null,
   "id": "a5d8127c-0d56-4f72-8897-d6e100170a84",
   "metadata": {},
   "outputs": [],
   "source": []
  }
 ],
 "metadata": {
  "kernelspec": {
   "display_name": "Python 3 (ipykernel)",
   "language": "python",
   "name": "python3"
  },
  "language_info": {
   "codemirror_mode": {
    "name": "ipython",
    "version": 3
   },
   "file_extension": ".py",
   "mimetype": "text/x-python",
   "name": "python",
   "nbconvert_exporter": "python",
   "pygments_lexer": "ipython3",
   "version": "3.12.7"
  }
 },
 "nbformat": 4,
 "nbformat_minor": 5
}
