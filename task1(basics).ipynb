{
 "cells": [
  {
   "cell_type": "markdown",
   "id": "a958d252-45db-4a80-a674-457ea5d6f5cd",
   "metadata": {},
   "source": [
    "### What is Python? How would you explain its key features and characteristics?\n",
    "- Python is general purpose high level and object oriented  language which is interpreted language and easy to learn \n",
    "- - some of key featues are\n",
    "  - \n",
    "  - easy to learn,\n",
    "  - portable,\n",
    "  - python have some extensabe libraries and\n",
    "  -  multipurpose language\n",
    "        "
   ]
  },
  {
   "cell_type": "markdown",
   "id": "a8062150-b312-4186-b89e-39ca27b66fca",
   "metadata": {},
   "source": [
    "### List and explain some common applications of Python.\n",
    "- BY using python we can create \n",
    "- - Web Applications. - by using web applications we can interact through internet\n",
    "  - Descktop Applications. - by using desktpo app's for the personal use ex:for a medical shop to store the data\n",
    "  - Gaming Develpoment. - these are nothing but gaming apps to play\n",
    "  - Artificial Intelligence. - these are the apps  ability to perform like a human ex:alexa\n",
    "  - Machine Learning - ex:recommendation,weather forecast."
   ]
  },
  {
   "cell_type": "markdown",
   "id": "850b9277-b7d6-4ebe-92dd-2a00c43f62bc",
   "metadata": {},
   "source": [
    "### Discuss the advantages and disadvantages of using Python as a programming language.\n",
    "-  Adv:\n",
    "    - python is simple and easy to understand \n",
    "    - Python has huge community \n",
    "    - Wide range of libraries are avaiable in python\n",
    "- Dis:\n",
    "    - python does not support mobile appications\n",
    "    - execution is very slow because it executes step by step when comapre to other languages like java\n",
    "    - occupies more memory\n",
    "     \n",
    "    "
   ]
  },
  {
   "cell_type": "markdown",
   "id": "23884c7c-eb6f-4aa1-826c-415a7ed07ee0",
   "metadata": {},
   "source": [
    "### Explain about identifiers and their rules.\n",
    "- identifires are  name given  to store value/object whcih are user defined variables.\n",
    "#### Rules :\n",
    "- must start with characters or _ not with numbers.\n",
    "- keywords are not used as identifiers.\n",
    "- We can not use special cahracters in indentiers."
   ]
  },
  {
   "cell_type": "code",
   "execution_count": 61,
   "id": "ba5f2a23-794a-480b-a023-eece25f8c60d",
   "metadata": {},
   "outputs": [
    {
     "name": "stdout",
     "output_type": "stream",
     "text": [
      "25\n"
     ]
    }
   ],
   "source": [
    "my_variable = 25\n",
    "print(my_variable)       #valid"
   ]
  },
  {
   "cell_type": "code",
   "execution_count": 63,
   "id": "09015c8c-37d7-4128-88d4-f74a19498f48",
   "metadata": {},
   "outputs": [
    {
     "name": "stdout",
     "output_type": "stream",
     "text": [
      "40.7\n"
     ]
    }
   ],
   "source": [
    " counter = 40.7 \n",
    "print( counter)           #valid"
   ]
  },
  {
   "cell_type": "code",
   "execution_count": 59,
   "id": "eabf0b17-3207-4281-b9f2-875b2e9543bd",
   "metadata": {},
   "outputs": [
    {
     "data": {
      "text/plain": [
       "'_total = Hello'"
      ]
     },
     "execution_count": 59,
     "metadata": {},
     "output_type": "execute_result"
    }
   ],
   "source": [
    "\"_total = \"\"Hello\"\"\"       # invalid identifier bcz it start with \""
   ]
  },
  {
   "cell_type": "code",
   "execution_count": 77,
   "id": "2e43a153-9169-4619-91c2-aa5eb1812916",
   "metadata": {},
   "outputs": [
    {
     "name": "stdout",
     "output_type": "stream",
     "text": [
      "Hello\n"
     ]
    }
   ],
   "source": [
    "_total=\"Hello\"             #it is valid identifier\n",
    "print(_total)"
   ]
  },
  {
   "cell_type": "code",
   "execution_count": 51,
   "id": "b5698671-791d-497b-8e43-8e76e93b264f",
   "metadata": {},
   "outputs": [
    {
     "ename": "SyntaxError",
     "evalue": "invalid decimal literal (1641272929.py, line 1)",
     "output_type": "error",
     "traceback": [
      "\u001b[1;36m  Cell \u001b[1;32mIn[51], line 1\u001b[1;36m\u001b[0m\n\u001b[1;33m    123abc = 34 #invalid bcz does not start with numbers.\u001b[0m\n\u001b[1;37m      ^\u001b[0m\n\u001b[1;31mSyntaxError\u001b[0m\u001b[1;31m:\u001b[0m invalid decimal literal\n"
     ]
    }
   ],
   "source": [
    "123abc = 34                 #invalid bcz does not start with numbers."
   ]
  },
  {
   "cell_type": "code",
   "execution_count": 53,
   "id": "aaf09069-8a54-40f2-b3ea-2e0c20b49595",
   "metadata": {},
   "outputs": [
    {
     "ename": "SyntaxError",
     "evalue": "invalid syntax (2104785483.py, line 1)",
     "output_type": "error",
     "traceback": [
      "\u001b[1;36m  Cell \u001b[1;32mIn[53], line 1\u001b[1;36m\u001b[0m\n\u001b[1;33m    my variable =6.7 #invalid space not alloed\u001b[0m\n\u001b[1;37m       ^\u001b[0m\n\u001b[1;31mSyntaxError\u001b[0m\u001b[1;31m:\u001b[0m invalid syntax\n"
     ]
    }
   ],
   "source": [
    "my variable =6.7             #invalid space not alloed"
   ]
  },
  {
   "cell_type": "code",
   "execution_count": 57,
   "id": "cae3bb57-a6b6-48e3-869b-de2d82f9039f",
   "metadata": {},
   "outputs": [
    {
     "data": {
      "text/plain": [
       "'@count = hi'"
      ]
     },
     "execution_count": 57,
     "metadata": {},
     "output_type": "execute_result"
    }
   ],
   "source": [
    "\"@count = \"\"hi\"\"\"       #invalid"
   ]
  },
  {
   "cell_type": "code",
   "execution_count": 25,
   "id": "abe7b3f7-8856-42ca-a237-2bd73d9fa9e0",
   "metadata": {},
   "outputs": [
    {
     "data": {
      "text/plain": [
       "'for = True'"
      ]
     },
     "execution_count": 25,
     "metadata": {},
     "output_type": "execute_result"
    }
   ],
   "source": [
    "\"for = \"\"True\"\"\"         #invalid 'for' is a keyword"
   ]
  },
  {
   "cell_type": "code",
   "execution_count": 27,
   "id": "ce172bd7-7c9b-4b3f-9080-0801376c509b",
   "metadata": {},
   "outputs": [],
   "source": [
    "Name123 = 136             #valid"
   ]
  },
  {
   "cell_type": "code",
   "execution_count": 29,
   "id": "5997a4de-55dd-402e-aafa-ec57e42dd0fe",
   "metadata": {},
   "outputs": [],
   "source": [
    "myFunction = True          #valid"
   ]
  },
  {
   "cell_type": "code",
   "execution_count": 31,
   "id": "29abb11d-291f-4a3a-b0a7-2f17c9d53364",
   "metadata": {},
   "outputs": [],
   "source": [
    "_data = False               #valid"
   ]
  },
  {
   "cell_type": "code",
   "execution_count": 33,
   "id": "3987475b-7871-4ae5-911a-d9cf52504f9b",
   "metadata": {},
   "outputs": [
    {
     "data": {
      "text/plain": [
       "'if_condition? = Innomatics'"
      ]
     },
     "execution_count": 33,
     "metadata": {},
     "output_type": "execute_result"
    }
   ],
   "source": [
    "\"if_condition? = \"\"Innomatics\"\"\"       # invalid bcz it stars with \""
   ]
  },
  {
   "cell_type": "code",
   "execution_count": 35,
   "id": "b5250aed-00fd-467c-81c7-5b9a6335f2ad",
   "metadata": {},
   "outputs": [
    {
     "data": {
      "text/plain": [
       "'class = Hyderabad'"
      ]
     },
     "execution_count": 35,
     "metadata": {},
     "output_type": "execute_result"
    }
   ],
   "source": [
    " \"class = \"\"Hyderabad\"\"\"               #invalid"
   ]
  },
  {
   "cell_type": "code",
   "execution_count": 37,
   "id": "e851edc2-ab4b-4627-9eaa-290f94d51d34",
   "metadata": {},
   "outputs": [],
   "source": [
    "x=10\n",
    "y=5\n",
    "z=3.14159\n",
    "a=-0.12345\n",
    "b=1000\n",
    "data=\"\"\"Hello, World!\"\"\"\n",
    "string=\"\"\"Python\"\"\"\n",
    "string1=\"\"\"I am learning\"\"\"\n",
    "text=\"\"\"Text type\"\"\"\n",
    "text1=\"\"\"String\"\"\"\n",
    "value=True\n",
    "value1=False\n",
    "\n"
   ]
  }
 ],
 "metadata": {
  "kernelspec": {
   "display_name": "Python [conda env:base] *",
   "language": "python",
   "name": "conda-base-py"
  },
  "language_info": {
   "codemirror_mode": {
    "name": "ipython",
    "version": 3
   },
   "file_extension": ".py",
   "mimetype": "text/x-python",
   "name": "python",
   "nbconvert_exporter": "python",
   "pygments_lexer": "ipython3",
   "version": "3.12.7"
  }
 },
 "nbformat": 4,
 "nbformat_minor": 5
}
