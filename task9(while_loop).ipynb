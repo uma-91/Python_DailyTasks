{
 "cells": [
  {
   "cell_type": "markdown",
   "id": "1901a57a-2145-4df2-a8a1-56879de24e61",
   "metadata": {},
   "source": [
    "### 1.Write a program to print the first 10 even numbers using while loop"
   ]
  },
  {
   "cell_type": "code",
   "execution_count": 6,
   "id": "d15419e6-8f3d-41fd-a328-7178a8e138e9",
   "metadata": {},
   "outputs": [
    {
     "name": "stdout",
     "output_type": "stream",
     "text": [
      "even numbers from 1 to 10:\n",
      "2\n",
      "4\n",
      "6\n",
      "8\n",
      "10\n"
     ]
    }
   ],
   "source": [
    "i=1\n",
    "print(\"even numbers from 1 to 10:\")\n",
    "while i<=10:\n",
    "    if i%2 == 0:\n",
    "        print(i)\n",
    "    i+=1"
   ]
  },
  {
   "cell_type": "markdown",
   "id": "ae5a1343-fe3c-4f94-978b-5d6b33447b19",
   "metadata": {},
   "source": [
    "### 2.Write a program to print the first 10 odd numbers using while loop"
   ]
  },
  {
   "cell_type": "code",
   "execution_count": 13,
   "id": "49164b9a-8df0-4f4e-aa9c-ed5a04db3272",
   "metadata": {},
   "outputs": [
    {
     "name": "stdout",
     "output_type": "stream",
     "text": [
      "odd numbers in between 1 to 10.\n",
      "1\n",
      "3\n",
      "5\n",
      "7\n",
      "9\n"
     ]
    }
   ],
   "source": [
    "i=1\n",
    "print(\"odd numbers in between 1 to 10.\")\n",
    "while i<=10:\n",
    "    if i%2==1:\n",
    "        print(i)\n",
    "    i+=1"
   ]
  },
  {
   "cell_type": "markdown",
   "id": "2524cc6e-531e-441f-8eaa-55628d4011ff",
   "metadata": {},
   "source": [
    "### 3.Write a program to print the first 10 natural numbers using while loop"
   ]
  },
  {
   "cell_type": "code",
   "execution_count": 3,
   "id": "46822a2e-da4e-4868-827d-1651f3dd991b",
   "metadata": {},
   "outputs": [
    {
     "name": "stdout",
     "output_type": "stream",
     "text": [
      "first 10 natural numbers:\n",
      "1\n",
      "2\n",
      "3\n",
      "4\n",
      "5\n",
      "6\n",
      "7\n",
      "8\n",
      "9\n",
      "10\n"
     ]
    }
   ],
   "source": [
    "i=1\n",
    "print(\"first 10 natural numbers:\")\n",
    "while i<=10:\n",
    "    print(i)\n",
    "    i+=1"
   ]
  },
  {
   "cell_type": "markdown",
   "id": "398a3c40-96ef-46b7-87dd-53f1aced15d9",
   "metadata": {},
   "source": [
    "### 4.Write a program to print the first 10 whole numbers using while loop"
   ]
  },
  {
   "cell_type": "code",
   "execution_count": 6,
   "id": "0c659c8f-2466-4eef-a694-f7263fd77c8b",
   "metadata": {},
   "outputs": [
    {
     "name": "stdout",
     "output_type": "stream",
     "text": [
      "whole numbers are:\n",
      "0\n",
      "1\n",
      "2\n",
      "3\n",
      "4\n",
      "5\n",
      "6\n",
      "7\n",
      "8\n",
      "9\n",
      "10\n"
     ]
    }
   ],
   "source": [
    "i=0\n",
    "print(\"whole numbers are:\")\n",
    "while i<=10:\n",
    "    print(i)\n",
    "    i+=1"
   ]
  },
  {
   "cell_type": "markdown",
   "id": "28b053dc-9108-4a55-ad42-6951593bb8e4",
   "metadata": {},
   "source": [
    "### 5.n=5\n",
    "### A B C D E \n",
    "### A B C D\n",
    "### A B C\n",
    "### A B\n",
    "### A"
   ]
  },
  {
   "cell_type": "code",
   "execution_count": 45,
   "id": "f91625b3-ce45-46d9-a762-f75fe5ea777d",
   "metadata": {},
   "outputs": [
    {
     "name": "stdin",
     "output_type": "stream",
     "text": [
      "enter how many times series to print: 5\n"
     ]
    },
    {
     "name": "stdout",
     "output_type": "stream",
     "text": [
      "A B C D E \n",
      "A B C D \n",
      "A B C \n",
      "A B \n",
      "A \n"
     ]
    }
   ],
   "source": [
    "n=int(input(\"enter how many times series to print:\"))\n",
    "alphabets=\"ABCDEFGHIJKLAMNOPQRSTUVWXYZ\"\n",
    "i=0\n",
    "while i<n:      # i indicates rows ie is n number of times we have to run the code \n",
    "    j=0\n",
    "    while j<n-i:  # j indicates columns first time j=5,4,3,2,1 columns  j=n-i\n",
    "        print(alphabets[j],end=\" \")   \n",
    "        j+=1\n",
    "    print()\n",
    "    i+=1"
   ]
  },
  {
   "cell_type": "code",
   "execution_count": null,
   "id": "0cdeccd2-c68d-42d0-85d3-68e8e69f0d20",
   "metadata": {},
   "outputs": [],
   "source": []
  }
 ],
 "metadata": {
  "kernelspec": {
   "display_name": "Python [conda env:base] *",
   "language": "python",
   "name": "conda-base-py"
  },
  "language_info": {
   "codemirror_mode": {
    "name": "ipython",
    "version": 3
   },
   "file_extension": ".py",
   "mimetype": "text/x-python",
   "name": "python",
   "nbconvert_exporter": "python",
   "pygments_lexer": "ipython3",
   "version": "3.12.7"
  }
 },
 "nbformat": 4,
 "nbformat_minor": 5
}
