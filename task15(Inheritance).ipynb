{
 "cells": [
  {
   "cell_type": "markdown",
   "id": "6300c6d0-1ecc-4e5b-b34c-e07fe425825f",
   "metadata": {},
   "source": [
    "### Define a base class 'Vehicle'  with attributes color and model. Create a derived class 'Car' that inherits from 'Vehicle' and adds an attribute num_doors.\n",
    "### Example:\n",
    "    class Vehicle:\n",
    "        def __init__():\n",
    "              self.color\n",
    "              self.model\n",
    "    class Car(Vehicle):\n",
    "        def __init__():\n",
    "            super().__init__()\n",
    "            Self.num_doors\n",
    "    Example output- Car: MG Hector, Red; Doors: 4\n"
   ]
  },
  {
   "cell_type": "code",
   "execution_count": 1,
   "id": "b7129663-4635-469f-9fc5-655162fc1eeb",
   "metadata": {},
   "outputs": [],
   "source": [
    "#example for simple inheritance.\n",
    "#Vehicle is base class of color,model as attributes\n",
    "class Vehicle:\n",
    "   def __init__(self,color,model):\n",
    "        self.color=color\n",
    "        self.model=model\n",
    "#car is child class with num_doors as attribute.\n",
    "class Car(Vehicle):\n",
    "    def __init__(self,color,model,num_doors):\n",
    "        super().__init__(color,model)\n",
    "        self.num_doors=num_doors\n",
    "    def dispaly(self):\n",
    "        print(f\"Car: {self.model}, {self.color}; Doors:{self.num_doors}\")"
   ]
  },
  {
   "cell_type": "code",
   "execution_count": 3,
   "id": "8c853b47-5deb-4295-9ea3-8f9df274480d",
   "metadata": {},
   "outputs": [
    {
     "name": "stdout",
     "output_type": "stream",
     "text": [
      "Car: MG Hector, Red; Doors:4\n"
     ]
    }
   ],
   "source": [
    "car1=Car(\"Red\",\"MG Hector\",4)\n",
    "car1.dispaly()"
   ]
  },
  {
   "cell_type": "markdown",
   "id": "51f6225d-c916-4548-b696-f13a12555890",
   "metadata": {},
   "source": [
    "### 2.Create two base classes. One base class is 'Person' with attributes name and age. Another class is 'Address' with attributes city and country. Define a derived class 'Employee' that inherits from both Person and Address. In 'Employee' class add an attribute job. \n",
    "### Example: \n",
    "    class Person:\n",
    "       \t\t #code\n",
    "    class Address:\n",
    "        \t\t#code\n",
    "    class Employee(Person, Address):\n",
    "        \t\t#code\n",
    "    Example Output:\n",
    "    Employee: Sirisha,  Age: 25,  City: Delhi,  Country: India,  Job: Data Scientist\n"
   ]
  },
  {
   "cell_type": "code",
   "execution_count": 62,
   "id": "b810139d-a29d-4b45-9079-b2a52d5369e7",
   "metadata": {},
   "outputs": [],
   "source": [
    "#example for multiple inheritance.\n",
    "#person class with name and age\n",
    "class person:\n",
    "    def __init__(self,name,age):\n",
    "        self.name=name\n",
    "        self.age=age\n",
    "#addres  class with city ,country\n",
    "class address():\n",
    "    def __init__(self,city,country):\n",
    "        self.city=city\n",
    "        self.country=country\n",
    "#employee inherited from person and address\n",
    "class Employee(person,address):\n",
    "    def __init__(self,name,age,city,country,job):\n",
    "        person.__init__(self,name,age)                   # here we cannot use super() instead we use class name and pass self as parameter.\n",
    "        address.__init__(self,city,country)\n",
    "        self.job=job\n",
    "    def display(self):\n",
    "        print(f\"Employee: {self.name},  Age: {self.age}, City: {self.city}, Country: {self.country}, Job: {self.job}\")"
   ]
  },
  {
   "cell_type": "code",
   "execution_count": 56,
   "id": "26eab9b2-d790-4f33-9538-0f62e6232a55",
   "metadata": {},
   "outputs": [
    {
     "name": "stdout",
     "output_type": "stream",
     "text": [
      "Employee: Sirisha,  Age: 25, City: Delhi, Country: India, Job: Data Scientist\n"
     ]
    }
   ],
   "source": [
    "obj=Employee(\"Sirisha\",25,\"Delhi\",\"India\",\"Data Scientist\")  \n",
    "obj.display()"
   ]
  },
  {
   "cell_type": "code",
   "execution_count": null,
   "id": "102cd2bd-c826-4fbb-b583-83e8a70ed920",
   "metadata": {},
   "outputs": [],
   "source": []
  },
  {
   "cell_type": "code",
   "execution_count": null,
   "id": "5af1c9d5-bfdb-4e09-8ba7-cb92fb917a50",
   "metadata": {},
   "outputs": [],
   "source": []
  }
 ],
 "metadata": {
  "kernelspec": {
   "display_name": "Python 3 (ipykernel)",
   "language": "python",
   "name": "python3"
  },
  "language_info": {
   "codemirror_mode": {
    "name": "ipython",
    "version": 3
   },
   "file_extension": ".py",
   "mimetype": "text/x-python",
   "name": "python",
   "nbconvert_exporter": "python",
   "pygments_lexer": "ipython3",
   "version": "3.12.7"
  }
 },
 "nbformat": 4,
 "nbformat_minor": 5
}
