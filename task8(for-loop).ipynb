{
 "cells": [
  {
   "cell_type": "markdown",
   "id": "7c951b73-7e68-4955-be37-38616b0dd82b",
   "metadata": {},
   "source": [
    "### 1. write a program that prints the numbers from 1 to 10, each on a new line.\n"
   ]
  },
  {
   "cell_type": "code",
   "execution_count": 5,
   "id": "1cdbc096-da4e-4892-8911-9c5f278f1ac4",
   "metadata": {},
   "outputs": [
    {
     "name": "stdout",
     "output_type": "stream",
     "text": [
      "1\n",
      "2\n",
      "3\n",
      "4\n",
      "5\n",
      "6\n",
      "7\n",
      "8\n",
      "9\n",
      "10\n"
     ]
    }
   ],
   "source": [
    "for i in range(1,11):\n",
    "    print(i)"
   ]
  },
  {
   "cell_type": "markdown",
   "id": "25fdceb4-dc18-402f-9989-3bbcd1d22cb3",
   "metadata": {},
   "source": [
    "### 2.write a program that prints the even numbers from 1 to 20, each on a new line."
   ]
  },
  {
   "cell_type": "code",
   "execution_count": 8,
   "id": "42d3f07f-4484-4b68-aa7c-5cae1596dffc",
   "metadata": {},
   "outputs": [
    {
     "name": "stdout",
     "output_type": "stream",
     "text": [
      "2\n",
      "4\n",
      "6\n",
      "8\n",
      "10\n",
      "12\n",
      "14\n",
      "16\n",
      "18\n",
      "20\n"
     ]
    }
   ],
   "source": [
    "for i in range(1,21):\n",
    "    if(i%2==0):\n",
    "        print(i)"
   ]
  },
  {
   "cell_type": "markdown",
   "id": "23a6f4e6-701b-4114-9c07-0055b20c5fc1",
   "metadata": {},
   "source": [
    "### 3.Write a program that calculates and prints the square of each number from 1 to 20."
   ]
  },
  {
   "cell_type": "code",
   "execution_count": 11,
   "id": "16d8589f-608e-4c9e-a1f4-57e3d41dfedd",
   "metadata": {},
   "outputs": [
    {
     "name": "stdout",
     "output_type": "stream",
     "text": [
      "1\n",
      "4\n",
      "9\n",
      "16\n",
      "25\n",
      "36\n",
      "49\n",
      "64\n",
      "81\n",
      "100\n",
      "121\n",
      "144\n",
      "169\n",
      "196\n",
      "225\n",
      "256\n",
      "289\n",
      "324\n",
      "361\n",
      "400\n"
     ]
    }
   ],
   "source": [
    "for i in range(1,21):\n",
    "    i=i*i\n",
    "    print(i)"
   ]
  },
  {
   "cell_type": "markdown",
   "id": "543792b8-cf6f-45a0-887c-59b41b78390c",
   "metadata": {},
   "source": [
    "### 4.write a program that prints the multiples of 3 from 3 to 30, each on a new line."
   ]
  },
  {
   "cell_type": "code",
   "execution_count": 3,
   "id": "45a3dab5-7fcb-4fd2-aacc-faca8a0b321f",
   "metadata": {},
   "outputs": [
    {
     "name": "stdout",
     "output_type": "stream",
     "text": [
      "3*1= 3\n",
      "3*2= 6\n",
      "3*3= 9\n",
      "3*4= 12\n",
      "3*5= 15\n",
      "3*6= 18\n",
      "3*7= 21\n",
      "3*8= 24\n",
      "3*9= 27\n",
      "3*10= 30\n"
     ]
    }
   ],
   "source": [
    "for i in range(1,11):\n",
    "    print(f'3*{i}=',i*3)"
   ]
  },
  {
   "cell_type": "markdown",
   "id": "b030eeeb-fc50-4b35-a8d7-c1842f32cb24",
   "metadata": {},
   "source": [
    "### 5.Write a program that prints the numbers from 10 to 1 in descending order, each on a new line."
   ]
  },
  {
   "cell_type": "code",
   "execution_count": 12,
   "id": "2c74ba95-0715-4182-8af5-ef52c5d32934",
   "metadata": {},
   "outputs": [
    {
     "name": "stdout",
     "output_type": "stream",
     "text": [
      "10\n",
      "9\n",
      "8\n",
      "7\n",
      "6\n",
      "5\n",
      "4\n",
      "3\n",
      "2\n",
      "1\n"
     ]
    }
   ],
   "source": [
    "for i in range(10,0,-1):\n",
    "    print(i)"
   ]
  },
  {
   "cell_type": "markdown",
   "id": "196852f0-709a-4736-97e9-83299210f68e",
   "metadata": {},
   "source": [
    "### 6.Count the number of vowels in a string using a for loop.\n",
    "### s2= \"Hello World\"\n"
   ]
  },
  {
   "cell_type": "code",
   "execution_count": 17,
   "id": "5c8a128b-c6a8-4244-b8a4-cc6ffa733e97",
   "metadata": {},
   "outputs": [
    {
     "name": "stdout",
     "output_type": "stream",
     "text": [
      "number of vowels in string: 3\n"
     ]
    }
   ],
   "source": [
    "s2= \"Hello World\"\n",
    "count=0\n",
    "for char in s2:\n",
    "    if char in \"aeiouAEIOU\":\n",
    "        count+=1\n",
    "print(\"number of vowels in string:\",count)"
   ]
  },
  {
   "cell_type": "markdown",
   "id": "97bdf067-dcc4-464c-8405-e61efb126792",
   "metadata": {},
   "source": [
    "### 7.Display numbers from -10 to -1 using a for loop.\n"
   ]
  },
  {
   "cell_type": "code",
   "execution_count": 24,
   "id": "2d976f18-dba7-4457-89ba-013014be47ee",
   "metadata": {},
   "outputs": [
    {
     "name": "stdout",
     "output_type": "stream",
     "text": [
      "-10\n",
      "-9\n",
      "-8\n",
      "-7\n",
      "-6\n",
      "-5\n",
      "-4\n",
      "-3\n",
      "-2\n",
      "-1\n"
     ]
    }
   ],
   "source": [
    "for i in range(-10,0,1):\n",
    "    print(i)"
   ]
  },
  {
   "cell_type": "markdown",
   "id": "8cc82845-b2ab-4e42-aeba-33d5371d9ca1",
   "metadata": {},
   "source": [
    "### 8.Find all prime numbers between 1 and 50 using a for loop.\n"
   ]
  },
  {
   "cell_type": "code",
   "execution_count": 62,
   "id": "263b7a6b-a6b8-4dc4-8955-5905252f72ca",
   "metadata": {},
   "outputs": [
    {
     "name": "stdout",
     "output_type": "stream",
     "text": [
      "2 3 5 7 11 13 17 19 23 29 31 37 41 43 47 "
     ]
    }
   ],
   "source": [
    "for i in range(2,51):   \n",
    "    for j in range(2,51):\n",
    "       if i%j == 0:\n",
    "           break\n",
    "    if i == j:\n",
    "        print(i,end=\" \")"
   ]
  },
  {
   "cell_type": "markdown",
   "id": "4b3fd355-7287-4b2c-943a-aa5904687ce8",
   "metadata": {},
   "source": [
    "### 9.Print all uppercase letters in the string using a for loop.\n",
    "### s = ”Innomatics Research Labs”\n"
   ]
  },
  {
   "cell_type": "code",
   "execution_count": 56,
   "id": "02b6094b-86dd-43e4-a5f7-32dfd7dd235d",
   "metadata": {},
   "outputs": [
    {
     "name": "stdout",
     "output_type": "stream",
     "text": [
      "uppercase letters in Innomatics Research Labs: I R L "
     ]
    }
   ],
   "source": [
    "s = \"Innomatics Research Labs\"\n",
    "print(f\"uppercase letters in {s}:\",end=\" \")\n",
    "for char in s:\n",
    "    if char.isupper():\n",
    "        print(char,end=\" \")"
   ]
  },
  {
   "cell_type": "code",
   "execution_count": null,
   "id": "85a96767-85e4-4752-aa35-e1fae431220d",
   "metadata": {},
   "outputs": [],
   "source": []
  }
 ],
 "metadata": {
  "kernelspec": {
   "display_name": "Python 3 (ipykernel)",
   "language": "python",
   "name": "python3"
  },
  "language_info": {
   "codemirror_mode": {
    "name": "ipython",
    "version": 3
   },
   "file_extension": ".py",
   "mimetype": "text/x-python",
   "name": "python",
   "nbconvert_exporter": "python",
   "pygments_lexer": "ipython3",
   "version": "3.12.7"
  }
 },
 "nbformat": 4,
 "nbformat_minor": 5
}
