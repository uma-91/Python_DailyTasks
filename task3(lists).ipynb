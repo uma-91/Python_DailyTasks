{
 "cells": [
  {
   "cell_type": "markdown",
   "id": "a8052e5a-1085-4cb5-89c2-3b22ceba670d",
   "metadata": {},
   "source": [
    "### 1. Define List, properties and its methods and try to write an example for each of the methods.\n",
    "    Def:list is a collection of similar or different data types.which is non primitive data type.list can be declared by using square brackets [].\n",
    "### properties:\n",
    "    1.lists are mutable means we can add or remove elements from the list,\n",
    "    2.list elements can have index value by using index we can access elements of list.\n",
    "    3.list allows duplicate values.\n",
    "### methods:\n",
    "    to add elements to list:\n",
    "        1. .append() - to add single element at the end of the list.\n",
    "                        ex: list1=[20,30,40]\n",
    "                            list1.append(10)\n",
    "                            print(list1)\n",
    "                            [20,30,40,10]\n",
    "        2. .extend() - to add multiple elements at the end of the list/ to insert one list elments to another list.\n",
    "                        ex: list1.extend([50,60,70])\n",
    "                            print(list1)\n",
    "                            [20,30,40,10,50,60,70]\n",
    "                            list2=[\"apple\",\"banana\",\"orange\"]\n",
    "                            list1.extend(list2)\n",
    "                            print(list1)\n",
    "                            [20,30,40,10,50,60,70,\"apple\",\"banana\",\"orange\"]\n",
    "        3. .insert() -  to add elements at particular index\n",
    "                        ex:list.insert(0,10)  # inserts 10 at 0 position.\n",
    "                            list.insert(1,[\"raj\",\"ravi\",\"ram\"]) # inserts as a list(not elements) at 1 position\n",
    "    to remove elements from the list:\n",
    "        1. .pop() - removes at a particular index and returns its value as a result.if we does not provide any index it remoes last element.\n",
    "                    ex: list1.pop()  #o/p:'orange'\n",
    "                        list1.pop(0) # removes from 0 index value and returns the value\n",
    "        2. .delete() - to delete particular element from the list we pass that element as anargument to delete().it does not retuen any value.\n",
    "                    ex:list1.delete(\"banana\") \n",
    "        3. .clear()  - to clear the entire data from the list\n",
    "                        ex: list1.clear()  # list1 is empty list now.\n",
    "        4. del keyword  - to delete element at particular index, if we does not specify any index ir deletes entire list\n",
    "                        ex: del list[1]   #deletes element at 1 position.\n",
    "                            del list1     #deletes entire list\n",
    "        "
   ]
  },
  {
   "cell_type": "markdown",
   "id": "3ba0b09d-1ab1-468b-a92f-2ba5b72057d8",
   "metadata": {},
   "source": [
    "### 2. explain about the list and their properties.\n",
    "        list is primitive data type means it contain collection of values those values are might be similar or different data type including non primitive data type enclosed in square brackets [].\n",
    "        properties:\n",
    "            1. list can contain duplicate values.\n",
    "            2. list values can have index by using index we can modify list data.\n",
    "            3.list are mutable in nature means we can add remove elements to/from list"
   ]
  },
  {
   "cell_type": "markdown",
   "id": "48e5d366-27aa-4550-91b4-90dc19e1c0f6",
   "metadata": {},
   "source": [
    "### 3.Create an empty list called numbers. Append the numbers 1, 2, and 3 to the list.\n",
    "    Modify the element at index 1 to be 4.\n",
    "    Print the updated list.\n"
   ]
  },
  {
   "cell_type": "code",
   "execution_count": 11,
   "id": "9f173889-eec2-476e-874d-0105954421d5",
   "metadata": {},
   "outputs": [],
   "source": [
    "numbers=[] #enpty list with name numbers.\n",
    "numbers.append(1) # adding element to list using append()"
   ]
  },
  {
   "cell_type": "code",
   "execution_count": 15,
   "id": "75972c1d-d3a0-4f79-b131-8d68bb5c00d6",
   "metadata": {},
   "outputs": [],
   "source": [
    "numbers.extend([2,3]) # adding elements to list using extend()."
   ]
  },
  {
   "cell_type": "code",
   "execution_count": 17,
   "id": "183fe2e3-f36f-4222-a0e2-169a4a695357",
   "metadata": {},
   "outputs": [
    {
     "data": {
      "text/plain": [
       "[1, 2, 3]"
      ]
     },
     "execution_count": 17,
     "metadata": {},
     "output_type": "execute_result"
    }
   ],
   "source": [
    "numbers # to disply numbers list\n"
   ]
  },
  {
   "cell_type": "code",
   "execution_count": 19,
   "id": "e50a04f5-dcc4-4a22-9d87-26fa73e0898c",
   "metadata": {},
   "outputs": [],
   "source": [
    "numbers[1]=4 # modify element at index 4."
   ]
  },
  {
   "cell_type": "code",
   "execution_count": 23,
   "id": "6f760d1d-464c-4bf1-9446-34c0190c6111",
   "metadata": {},
   "outputs": [
    {
     "name": "stdout",
     "output_type": "stream",
     "text": [
      "[1, 4, 3]\n"
     ]
    }
   ],
   "source": [
    "print(numbers)  #printing updated list."
   ]
  },
  {
   "cell_type": "markdown",
   "id": "79c3b3b8-109d-4284-b77c-c02056d5603e",
   "metadata": {},
   "source": [
    "### 4.Create a list called fruits with elements 'apple', 'banana', 'orange', 'mango', and 'kiwi'.\"\n",
    "    Create a new list by slicing fruits to include only the citrus fruits ('orange' and 'mango\"\").\n",
    "    Create a new list called tropical by slicing fruits to include only the tropical fruits (\"banana\" and ‘kiwi').\n",
    "    Concatenate citrus and tropical lists to create a new list called combined. Print combined.\n"
   ]
  },
  {
   "cell_type": "code",
   "execution_count": 26,
   "id": "7b48b983-6625-455e-8ced-e10f07a6c7b0",
   "metadata": {},
   "outputs": [],
   "source": [
    "fruits=[\"apple\",\"banana\",\"orange\",\"mango\",\"kiwi\"] #creating list with elements "
   ]
  },
  {
   "cell_type": "code",
   "execution_count": 28,
   "id": "bbfabe10-b051-43e8-a82d-632af7b1c645",
   "metadata": {},
   "outputs": [
    {
     "data": {
      "text/plain": [
       "['apple', 'banana', 'orange', 'mango', 'kiwi']"
      ]
     },
     "execution_count": 28,
     "metadata": {},
     "output_type": "execute_result"
    }
   ],
   "source": [
    "fruits"
   ]
  },
  {
   "cell_type": "code",
   "execution_count": 30,
   "id": "a5a90756-3c25-492d-8d2b-80741989d431",
   "metadata": {},
   "outputs": [],
   "source": [
    "citrus_fruits=fruits[2:4] # getting elements from the list using slicing "
   ]
  },
  {
   "cell_type": "code",
   "execution_count": 88,
   "id": "07023b0d-cb02-426c-af3e-6b897d46df9c",
   "metadata": {},
   "outputs": [
    {
     "data": {
      "text/plain": [
       "['orange', 'mango']"
      ]
     },
     "execution_count": 88,
     "metadata": {},
     "output_type": "execute_result"
    }
   ],
   "source": [
    "citrus_fruits"
   ]
  },
  {
   "cell_type": "code",
   "execution_count": 34,
   "id": "4e162869-2b17-4dfc-9e8c-20f083e5a122",
   "metadata": {},
   "outputs": [],
   "source": [
    "tropical=fruits[1:2]+fruits[-1:]  # tropical fruits by slicing banana,kiwi"
   ]
  },
  {
   "cell_type": "code",
   "execution_count": 36,
   "id": "a54e339b-b48c-4228-b5f3-3ff6b1d63fb3",
   "metadata": {},
   "outputs": [
    {
     "data": {
      "text/plain": [
       "['banana', 'kiwi']"
      ]
     },
     "execution_count": 36,
     "metadata": {},
     "output_type": "execute_result"
    }
   ],
   "source": [
    "tropical"
   ]
  },
  {
   "cell_type": "code",
   "execution_count": 96,
   "id": "74106bb8-8097-4ec8-8da5-263bdab39a55",
   "metadata": {},
   "outputs": [
    {
     "name": "stdout",
     "output_type": "stream",
     "text": [
      "['orange', 'mango', 'banana', 'kiwi']\n"
     ]
    }
   ],
   "source": [
    "combined=citrus_fruits+tropical #concatinate citrus and tropical list to create new l;ist combined\n",
    "print(combined)"
   ]
  },
  {
   "cell_type": "code",
   "execution_count": 58,
   "id": "50cf1469-36a9-485e-9689-dbeb773a3dbb",
   "metadata": {},
   "outputs": [],
   "source": [
    "#combined.clear()"
   ]
  },
  {
   "cell_type": "code",
   "execution_count": 92,
   "id": "124b7cde-0f0d-4f60-b38c-ac4c60c2fb26",
   "metadata": {},
   "outputs": [
    {
     "data": {
      "text/plain": [
       "['orange', 'mango', 'banana', 'kiwi']"
      ]
     },
     "execution_count": 92,
     "metadata": {},
     "output_type": "execute_result"
    }
   ],
   "source": [
    "#combined"
   ]
  },
  {
   "cell_type": "code",
   "execution_count": 62,
   "id": "803c886b-216c-47ce-b759-05d2f9481713",
   "metadata": {},
   "outputs": [],
   "source": [
    "#del combined"
   ]
  },
  {
   "cell_type": "markdown",
   "id": "1399f6e6-6f79-4462-9875-b722c802ab85",
   "metadata": {},
   "source": [
    "### 5.Create a list called colors with repeated elements 'red', 'blue', 'red', 'green', 'red'.\n",
    "    Print the number of occurrences of 'red' in the list.\n",
    "    Remove all occurrences of 'red' from the list.\n",
    "    Print the updated list.\"\n"
   ]
  },
  {
   "cell_type": "code",
   "execution_count": 125,
   "id": "6ced3f04-cddb-476b-9e45-d97ce9126bd5",
   "metadata": {},
   "outputs": [],
   "source": [
    "colors=[\"red\",\"blue\",\"red\",\"green\",\"red\"]"
   ]
  },
  {
   "cell_type": "code",
   "execution_count": 127,
   "id": "89ade8b7-717b-4054-b2c4-b6b2846e7db8",
   "metadata": {},
   "outputs": [
    {
     "data": {
      "text/plain": [
       "3"
      ]
     },
     "execution_count": 127,
     "metadata": {},
     "output_type": "execute_result"
    }
   ],
   "source": [
    "colors.count(\"red\") # to print the number of occerences of red from the list."
   ]
  },
  {
   "cell_type": "code",
   "execution_count": 129,
   "id": "fbf9b0f8-c99e-4876-9dd6-be8037aa4292",
   "metadata": {},
   "outputs": [],
   "source": [
    "#colors.remove(\"red\") # to remove red from the list only one red value is removed "
   ]
  },
  {
   "cell_type": "code",
   "execution_count": 131,
   "id": "bcec99aa-7a59-4aef-8dbb-4bb5b00bfa7c",
   "metadata": {},
   "outputs": [
    {
     "data": {
      "text/plain": [
       "['red', 'blue', 'red', 'green', 'red']"
      ]
     },
     "execution_count": 131,
     "metadata": {},
     "output_type": "execute_result"
    }
   ],
   "source": [
    "colors"
   ]
  },
  {
   "cell_type": "code",
   "execution_count": 133,
   "id": "0a1f2160-f7e6-490f-8318-15f8258b7011",
   "metadata": {},
   "outputs": [],
   "source": [
    "colors=[color for color in colors if color !=\"red\"] # to remove all occrences of red from the list."
   ]
  },
  {
   "cell_type": "code",
   "execution_count": 135,
   "id": "2352c43b-898c-45ba-b12b-08cab599edfd",
   "metadata": {},
   "outputs": [
    {
     "data": {
      "text/plain": [
       "['blue', 'green']"
      ]
     },
     "execution_count": 135,
     "metadata": {},
     "output_type": "execute_result"
    }
   ],
   "source": [
    "colors # to print updated list"
   ]
  },
  {
   "cell_type": "code",
   "execution_count": 123,
   "id": "fd6e1f5c-541d-4960-b299-bcae5aa74330",
   "metadata": {},
   "outputs": [],
   "source": [
    "#del colors"
   ]
  },
  {
   "cell_type": "markdown",
   "id": "50974972-313c-4a75-90be-9f630ef87827",
   "metadata": {},
   "source": [
    "### 6.Create a list called groceries with initial items: 'bread', 'milk', 'eggs', 'butter'.\n",
    "    Add 'cheese' to the end of the list.\n",
    "    Remove 'milk' from the list.\n",
    "    Print the final list of groceries.\"\n",
    "    Insert 'yogurt' at index 1.\n",
    "\n"
   ]
  },
  {
   "cell_type": "code",
   "execution_count": 138,
   "id": "90753b08-b27b-488f-83bf-be3d8c9dec1b",
   "metadata": {},
   "outputs": [],
   "source": [
    "groceries=[\"bread\",\"milk\",\"eggs\",\"butter\"]"
   ]
  },
  {
   "cell_type": "code",
   "execution_count": 140,
   "id": "a2facac2-77f2-41fd-9fdd-9be5d46dff93",
   "metadata": {},
   "outputs": [
    {
     "data": {
      "text/plain": [
       "['bread', 'milk', 'eggs', 'butter']"
      ]
     },
     "execution_count": 140,
     "metadata": {},
     "output_type": "execute_result"
    }
   ],
   "source": [
    "groceries"
   ]
  },
  {
   "cell_type": "code",
   "execution_count": 142,
   "id": "2df65da4-dbb4-433d-8ea0-dba9468ef2b4",
   "metadata": {},
   "outputs": [],
   "source": [
    "groceries.append(\"cheese\") # to add cheese to the end of the list."
   ]
  },
  {
   "cell_type": "code",
   "execution_count": 144,
   "id": "d15b2160-11e1-4fdb-9b87-872ff92e21c2",
   "metadata": {},
   "outputs": [
    {
     "data": {
      "text/plain": [
       "['bread', 'milk', 'eggs', 'butter', 'cheese']"
      ]
     },
     "execution_count": 144,
     "metadata": {},
     "output_type": "execute_result"
    }
   ],
   "source": [
    "groceries"
   ]
  },
  {
   "cell_type": "code",
   "execution_count": 146,
   "id": "68c5acbe-1dde-4764-9a7e-dba0a82bec9f",
   "metadata": {},
   "outputs": [],
   "source": [
    "groceries.remove(\"milk\") # to remove milk from the list\n",
    "# if we know the index of milk we can also remove by using pop(1) method"
   ]
  },
  {
   "cell_type": "code",
   "execution_count": 150,
   "id": "5319967b-52f4-4ad1-89b2-659baa366179",
   "metadata": {},
   "outputs": [
    {
     "data": {
      "text/plain": [
       "['bread', 'eggs', 'butter', 'cheese']"
      ]
     },
     "execution_count": 150,
     "metadata": {},
     "output_type": "execute_result"
    }
   ],
   "source": [
    "groceries # print values"
   ]
  },
  {
   "cell_type": "code",
   "execution_count": 152,
   "id": "77e953f9-8268-426e-ac4d-029119483c5d",
   "metadata": {},
   "outputs": [],
   "source": [
    "groceries.insert(1,\"yogurt\") # to insert yogurt at index 1"
   ]
  },
  {
   "cell_type": "code",
   "execution_count": 154,
   "id": "b9b8cfec-85e6-4d54-93e9-42f357ce59d5",
   "metadata": {},
   "outputs": [
    {
     "data": {
      "text/plain": [
       "['bread', 'yogurt', 'eggs', 'butter', 'cheese']"
      ]
     },
     "execution_count": 154,
     "metadata": {},
     "output_type": "execute_result"
    }
   ],
   "source": [
    "groceries"
   ]
  },
  {
   "cell_type": "code",
   "execution_count": null,
   "id": "9140f412-fcb8-49d8-9527-6914cc4a775e",
   "metadata": {},
   "outputs": [],
   "source": []
  }
 ],
 "metadata": {
  "kernelspec": {
   "display_name": "Python [conda env:base] *",
   "language": "python",
   "name": "conda-base-py"
  },
  "language_info": {
   "codemirror_mode": {
    "name": "ipython",
    "version": 3
   },
   "file_extension": ".py",
   "mimetype": "text/x-python",
   "name": "python",
   "nbconvert_exporter": "python",
   "pygments_lexer": "ipython3",
   "version": "3.12.7"
  }
 },
 "nbformat": 4,
 "nbformat_minor": 5
}
