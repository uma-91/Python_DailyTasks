{
 "cells": [
  {
   "cell_type": "markdown",
   "id": "e189aaf3-35f8-40eb-a66b-ddb596c10ca4",
   "metadata": {},
   "source": [
    "#### 1.Create a Person class with private attributes _ _name and _ _age. Implement getter and setter methods for accessing and modifying these attributes.\n",
    ".\n"
   ]
  },
  {
   "cell_type": "code",
   "execution_count": 48,
   "id": "ddf6e500-dbc9-4dd5-8608-f353ee8a3ce2",
   "metadata": {},
   "outputs": [],
   "source": [
    "#creating class Person with private attributes __name,__age\n",
    "class Person:\n",
    "    def __init__(self,name,age):\n",
    "        self.__name=name\n",
    "        self.__age=age\n",
    "        \n",
    "    #getter method for name\n",
    "    def get_name(self):\n",
    "        return self.__name\n",
    "        \n",
    "    #getter method for age\n",
    "    def get_age(self):\n",
    "        return self.__age\n",
    "        \n",
    "    #setter method for name\n",
    "    def set_name(self,n):\n",
    "        self.__name=n\n",
    "        \n",
    "    #setter method for age\n",
    "    def set_age(self,a):\n",
    "        if a>0:\n",
    "            self.__age=a\n",
    "        else:\n",
    "            print(\"Invalid age\")\n",
    "            \n",
    "#object creation for class\n",
    "obj=Person(\"Nikith\",4)\n",
    "    "
   ]
  },
  {
   "cell_type": "code",
   "execution_count": 50,
   "id": "8df97646-377f-4df1-80b0-2219e8369aa2",
   "metadata": {},
   "outputs": [
    {
     "name": "stdout",
     "output_type": "stream",
     "text": [
      "Nikith\n",
      "4\n"
     ]
    }
   ],
   "source": [
    "#accessing private attributes through getter methods\n",
    "print(obj.get_name())\n",
    "print(obj.get_age())"
   ]
  },
  {
   "cell_type": "code",
   "execution_count": 52,
   "id": "cf9df1e9-06ce-4042-af5c-8f6e1e3b75a3",
   "metadata": {},
   "outputs": [],
   "source": [
    "#changing private attribute values through setter methods\n",
    "obj.set_name(\"Rishi\")"
   ]
  },
  {
   "cell_type": "code",
   "execution_count": 54,
   "id": "21dd1a78-0971-443b-8e16-4c238e2e210e",
   "metadata": {},
   "outputs": [],
   "source": [
    "obj.set_age(3)"
   ]
  },
  {
   "cell_type": "code",
   "execution_count": 56,
   "id": "e744c252-93cc-43d4-8cb5-11f4bc1f9807",
   "metadata": {},
   "outputs": [
    {
     "name": "stdout",
     "output_type": "stream",
     "text": [
      "Rishi\n",
      "3\n"
     ]
    }
   ],
   "source": [
    "print(obj.get_name())\n",
    "print(obj.get_age())"
   ]
  },
  {
   "cell_type": "code",
   "execution_count": 58,
   "id": "13f0c6e2-7d0c-4b65-9a6f-4c226b7700d9",
   "metadata": {},
   "outputs": [
    {
     "name": "stdout",
     "output_type": "stream",
     "text": [
      "Invalid age\n"
     ]
    }
   ],
   "source": [
    "obj.set_age(0)"
   ]
  },
  {
   "cell_type": "markdown",
   "id": "d0753a0d-ab2d-467a-9114-a51c60004317",
   "metadata": {},
   "source": [
    "#### 2.Modify the Person class from the previous problem to use properties for accessing and modifying the private attributes.\n"
   ]
  },
  {
   "cell_type": "code",
   "execution_count": 2,
   "id": "ade822eb-832a-4240-8c3a-39bd867726ef",
   "metadata": {},
   "outputs": [],
   "source": [
    "# by defining a method in a class using @property decorator is used to act method in a class act as a attribute\n",
    "#by using @property decorator accessing and modifying private attributes\n",
    "#creating class Person with private attributes name,age\n",
    "class Person:\n",
    "    def __init__(self,name,age):\n",
    "        self.__name=name\n",
    "        self.__age=age\n",
    "\n",
    "    #creting getter method using @property\n",
    "    @property\n",
    "    def name(self):\n",
    "        return self.__name\n",
    "\n",
    "    @property\n",
    "    def age(self):\n",
    "        return self.__age\n",
    "\n",
    "    #creating setter methods\n",
    "    @name.setter\n",
    "    def name(self,n):\n",
    "        self.__name=n\n",
    "        \n",
    "    @age.setter\n",
    "    def age(self,a):\n",
    "        self.__age=a\n",
    "p=Person(\"Nikith\",4)"
   ]
  },
  {
   "cell_type": "code",
   "execution_count": 4,
   "id": "ddda8016-2ea9-4a5d-9d8f-b766892403e8",
   "metadata": {},
   "outputs": [
    {
     "name": "stdout",
     "output_type": "stream",
     "text": [
      "Nikith\n",
      "4\n"
     ]
    }
   ],
   "source": [
    "#Accessing getter methods\n",
    "print(p.name)\n",
    "print(p.age)"
   ]
  },
  {
   "cell_type": "code",
   "execution_count": 103,
   "id": "b6fe9e18-c224-4c14-bc7d-95e992010cab",
   "metadata": {},
   "outputs": [],
   "source": [
    "#modifying private attribute values using setter methods\n",
    "p.name=\"rishi\"\n",
    "p.age=24"
   ]
  },
  {
   "cell_type": "code",
   "execution_count": 101,
   "id": "e5c45f43-3edf-40d4-b1a1-ac3c47e188b8",
   "metadata": {},
   "outputs": [
    {
     "name": "stdout",
     "output_type": "stream",
     "text": [
      "rishi\n",
      "24\n"
     ]
    }
   ],
   "source": [
    "#Accessing getter methods\n",
    "print(p.name)\n",
    "print(p.age)"
   ]
  },
  {
   "cell_type": "markdown",
   "id": "c0835777-d660-476e-a06f-c6c762a47d9a",
   "metadata": {},
   "source": [
    "#### 3.Create a BankAccount class with a protected attribute _balance. Implement a method get_balance() to retrieve the balance.\n",
    ".\n"
   ]
  },
  {
   "cell_type": "code",
   "execution_count": 116,
   "id": "0939edff-e79a-401e-9703-8fd928b9a605",
   "metadata": {},
   "outputs": [],
   "source": [
    "#creating bankaccount class with balance as protected attribute.\n",
    "class BankAccount:\n",
    "    def __init__(self,balance):\n",
    "        self._balance=balance\n",
    "\n",
    "    #retrieving the balance\n",
    "    def get_balance(self):\n",
    "        return self._balance\n",
    "        \n",
    "#creating insatnce for BankAccount class\n",
    "account1=BankAccount(3000)"
   ]
  },
  {
   "cell_type": "code",
   "execution_count": 118,
   "id": "e66a47dc-6af1-4f64-b43b-825515d47552",
   "metadata": {},
   "outputs": [
    {
     "name": "stdout",
     "output_type": "stream",
     "text": [
      "3000\n"
     ]
    }
   ],
   "source": [
    "#Accessing balance\n",
    "print(account1.get_balance())"
   ]
  },
  {
   "cell_type": "markdown",
   "id": "19b204d5-c8a9-4a26-902f-62117e6b3f85",
   "metadata": {},
   "source": [
    "#### 4 Create a Python module calculator with a private function _ _add that adds two numbers. Implement a public function add_numbers that calls the private function"
   ]
  },
  {
   "cell_type": "code",
   "execution_count": 15,
   "id": "686e3fca-605f-430c-8cb0-84c7698aa7a8",
   "metadata": {},
   "outputs": [
    {
     "name": "stdout",
     "output_type": "stream",
     "text": [
      "Addition of two numbers: 7\n"
     ]
    }
   ],
   "source": [
    "import calculate as c\n",
    "result=c.add_numbers(3,4)\n",
    "print(\"Addition of two numbers:\",result)"
   ]
  },
  {
   "cell_type": "code",
   "execution_count": 13,
   "id": "344c1287-8c9f-43be-a000-398a66951a69",
   "metadata": {},
   "outputs": [
    {
     "name": "stdout",
     "output_type": "stream",
     "text": [
      "Addition of two numbers: 8\n"
     ]
    }
   ],
   "source": [
    "import calculate as c\n",
    "if __name__==\"__main__\":\n",
    "    result=c.add_numbers(3,5)\n",
    "    print(\"Addition of two numbers:\",result)\n",
    "    "
   ]
  },
  {
   "cell_type": "markdown",
   "id": "bac59ef0-bfbf-45f2-9873-27da139d131e",
   "metadata": {},
   "source": [
    "### 5.Create an abstract class Shape with an abstract method calculate_area(). Define two subclasses, Rectangle and Circle, that inherit from Shape and implement the calculate_area() method.\n"
   ]
  },
  {
   "cell_type": "code",
   "execution_count": 37,
   "id": "f675f6d9-3743-4e2d-a32f-e81fd3caac68",
   "metadata": {},
   "outputs": [],
   "source": [
    "#To create abstract class we have to import ABC,abstractmethod properties from the abc module\n",
    "from abc import ABC,abstractmethod\n",
    "from math import pi\n",
    "\n",
    "#create a abstract class by passing ABC as an argument to that class\n",
    "class Shape(ABC):\n",
    "    \n",
    "    #creating abstract method by using @abstractmethod decorator\n",
    "    @abstractmethod\n",
    "    def calculate_area(self):\n",
    "        pass\n",
    "        \n",
    "#creating Rectangle class from Shape class        \n",
    "class Rectangle(Shape):\n",
    "    def __init__(self,l,b):\n",
    "        self.l=l\n",
    "        self.b=b\n",
    "\n",
    "#implementing abstract method here\n",
    "    def calculate_area(self):\n",
    "        return self.l*self.b\n",
    "\n",
    "#creating Circle class from shape class\n",
    "class Circle(Shape):\n",
    "    def __init__(self,r):\n",
    "        self.r=r\n",
    "        \n",
    "#implementing abstract method of shape here\n",
    "    def calculate_area(self):\n",
    "        return 2*pi*self.r**2\n",
    "        \n",
    "r=Rectangle(10,20)\n",
    "c=Circle(10)"
   ]
  },
  {
   "cell_type": "code",
   "execution_count": 39,
   "id": "3453f124-e7cd-482b-9529-f0ac05e8c0a1",
   "metadata": {},
   "outputs": [
    {
     "name": "stdout",
     "output_type": "stream",
     "text": [
      "Area of rectangle: 200\n",
      "Area of circle: 628.3185307179587\n"
     ]
    }
   ],
   "source": [
    "print(\"Area of rectangle:\",r.calculate_area())\n",
    "print(\"Area of circle:\",c.calculate_area())"
   ]
  },
  {
   "cell_type": "code",
   "execution_count": null,
   "id": "e71eb0f5-d30f-4253-ae6d-7a8021431809",
   "metadata": {},
   "outputs": [],
   "source": []
  },
  {
   "cell_type": "code",
   "execution_count": null,
   "id": "f6a04f57-6d30-4319-9680-02e66446963c",
   "metadata": {},
   "outputs": [],
   "source": []
  },
  {
   "cell_type": "code",
   "execution_count": null,
   "id": "347230f8-a4d0-4bc5-9804-3803539227ab",
   "metadata": {},
   "outputs": [],
   "source": []
  },
  {
   "cell_type": "code",
   "execution_count": null,
   "id": "7621555d-34dd-4779-938e-903e4c9f3a7e",
   "metadata": {},
   "outputs": [],
   "source": []
  },
  {
   "cell_type": "code",
   "execution_count": null,
   "id": "ccd967e5-85f8-40bc-836b-993bb353c39d",
   "metadata": {},
   "outputs": [],
   "source": []
  },
  {
   "cell_type": "code",
   "execution_count": null,
   "id": "00245cdd-53a8-445d-878f-b3da02a76ad4",
   "metadata": {},
   "outputs": [],
   "source": []
  },
  {
   "cell_type": "code",
   "execution_count": null,
   "id": "18cd3dfb-516b-498e-933a-a1aeaf8a1ade",
   "metadata": {},
   "outputs": [],
   "source": []
  },
  {
   "cell_type": "code",
   "execution_count": null,
   "id": "bc5297cf-22c3-4b5f-bda4-28f47638b799",
   "metadata": {},
   "outputs": [],
   "source": []
  },
  {
   "cell_type": "code",
   "execution_count": null,
   "id": "63473b7b-10f3-4a7a-9c32-284b9d79f34f",
   "metadata": {},
   "outputs": [],
   "source": []
  },
  {
   "cell_type": "code",
   "execution_count": null,
   "id": "cc430090-d4a5-4c4d-91c2-5e925db31a42",
   "metadata": {},
   "outputs": [],
   "source": []
  },
  {
   "cell_type": "code",
   "execution_count": null,
   "id": "7d9e5031-f77f-40f9-ac5b-262567ab01d0",
   "metadata": {},
   "outputs": [],
   "source": []
  }
 ],
 "metadata": {
  "kernelspec": {
   "display_name": "Python 3 (ipykernel)",
   "language": "python",
   "name": "python3"
  },
  "language_info": {
   "codemirror_mode": {
    "name": "ipython",
    "version": 3
   },
   "file_extension": ".py",
   "mimetype": "text/x-python",
   "name": "python",
   "nbconvert_exporter": "python",
   "pygments_lexer": "ipython3",
   "version": "3.12.7"
  }
 },
 "nbformat": 4,
 "nbformat_minor": 5
}
