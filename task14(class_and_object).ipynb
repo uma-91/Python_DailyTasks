{
 "cells": [
  {
   "cell_type": "markdown",
   "id": "34b7c7de-0aaf-49d3-9a1a-e96e461488cb",
   "metadata": {},
   "source": [
    "### 1.Write a Python program to create a ‘Vehicle’ class with static variables max_speed and mileage instance attributes. Print the attributes.\n",
    "### Example output:\n",
    "### max_speed = 240\n",
    "### mileage = 18\n"
   ]
  },
  {
   "cell_type": "code",
   "execution_count": 24,
   "id": "3cd535e9-b64b-44b8-bb9f-be4387c242c6",
   "metadata": {},
   "outputs": [],
   "source": [
    "class Vehicle:\n",
    "    max_speed=240\n",
    "    milage=18\n",
    "    def __init__(self):\n",
    "        pass\n",
    "    def display(self):\n",
    "        print(\"max_speed is:\",self.max_speed)\n",
    "        print(\"mileage:\",self.milage)"
   ]
  },
  {
   "cell_type": "code",
   "execution_count": 26,
   "id": "f62b9128-c7f2-4d2d-8842-b10cf6c392df",
   "metadata": {},
   "outputs": [
    {
     "name": "stdout",
     "output_type": "stream",
     "text": [
      "max_speed is: 240\n",
      "mileage: 18\n"
     ]
    }
   ],
   "source": [
    "bike=Vehicle()\n",
    "bike.display()\n",
    "#bike.max_speed=7\n",
    "#bike.milage=3\n",
    "#print(bike.max_speed)"
   ]
  },
  {
   "cell_type": "markdown",
   "id": "ee098802-6029-47f0-867d-7a55423d8f57",
   "metadata": {},
   "source": [
    "### 2.Create a Python class called 'Car' with attributes 'make' and 'model'. Instantiate an object of this class and print its attributes.\n"
   ]
  },
  {
   "cell_type": "code",
   "execution_count": 131,
   "id": "458b8ebc-e768-4d00-8a8e-5174e028f2cb",
   "metadata": {},
   "outputs": [],
   "source": [
    "class Car:            #creating car class with attributes make,model\n",
    "    make=\"0\"\n",
    "    model=\"0\"\n",
    "    def __init__(self):\n",
    "        pass"
   ]
  },
  {
   "cell_type": "code",
   "execution_count": 137,
   "id": "90bb5a6e-5bdf-4f99-b569-8567883be030",
   "metadata": {},
   "outputs": [
    {
     "name": "stdout",
     "output_type": "stream",
     "text": [
      "Toyato\n",
      "Corolla\n"
     ]
    }
   ],
   "source": [
    "car1=Car()               #creating object of the class car\n",
    "car1.make=\"Toyato\"        # instanciating using object of this class\n",
    "car1.model=\"Corolla\"\n",
    "print(car1.make)           #printing the attributes\n",
    "print(car1.model)"
   ]
  },
  {
   "cell_type": "markdown",
   "id": "4aab2631-c58c-4cd0-93ef-99008ccf6b29",
   "metadata": {},
   "source": [
    "### Expand the 'Car' class by adding a method called ‘display_info’ that prints the make and model of the car. Create an object and call this method.\n"
   ]
  },
  {
   "cell_type": "code",
   "execution_count": 143,
   "id": "e062b9bc-d612-4769-8767-d0a2af0c73b4",
   "metadata": {},
   "outputs": [],
   "source": [
    "class Car:\n",
    "    make=\"making\"\n",
    "    model=\"suv\"\n",
    "    def __init__(self):\n",
    "        pass\n",
    "    def display_info(self):     #adding display_info() to the class car\n",
    "        print(self.make)\n",
    "        print(self.model)"
   ]
  },
  {
   "cell_type": "code",
   "execution_count": 145,
   "id": "7d4568f1-4ad0-4374-b508-482a769a9e8a",
   "metadata": {},
   "outputs": [],
   "source": [
    "kia=Car()                      #creating object to the class car"
   ]
  },
  {
   "cell_type": "code",
   "execution_count": 141,
   "id": "96040482-ff05-440e-804b-08ba88c59467",
   "metadata": {},
   "outputs": [
    {
     "name": "stdout",
     "output_type": "stream",
     "text": [
      "making\n",
      "suv\n"
     ]
    }
   ],
   "source": [
    "kia.display_info()         #by using this object accessing the display_info method"
   ]
  },
  {
   "cell_type": "markdown",
   "id": "2d82bcc2-94b5-414e-aac7-5085105fff2b",
   "metadata": {},
   "source": [
    "### 3.Modify the ‘Car’ class to include a constructor (__init__) that initializes the make and model attributes. Instantiate an object using the constructor.\n",
    "### Add a class method 'get_total_cars' to the 'Car' class that returns the total number of cars created. Call this method without instantiating any objects.\n"
   ]
  },
  {
   "cell_type": "code",
   "execution_count": 119,
   "id": "627aef54-7fca-45d3-9b64-1aca3aba1b34",
   "metadata": {},
   "outputs": [],
   "source": [
    "class Car:\n",
    "    totla_cars=0                        #class/static variable\n",
    "    def __init__(self,make,model):      #constructor to initialize variables\n",
    "        self.make=make\n",
    "        self.model=model\n",
    "        Car.totla_cars+=1\n",
    "    @classmethod                       #@classmethod can be used to create class method\n",
    "    def get_total_cars(self):\n",
    "        return self.totla_cars"
   ]
  },
  {
   "cell_type": "code",
   "execution_count": 121,
   "id": "6ca8bab2-8840-44a5-a581-6a52d3d2350e",
   "metadata": {},
   "outputs": [],
   "source": [
    "car1=Car(\"Toyato\",\"corolla\")\n",
    "car2=Car(\"Honda\",\"Civic\")\n",
    "car3=Car(\"Kia\",\"Corolla\")"
   ]
  },
  {
   "cell_type": "code",
   "execution_count": 129,
   "id": "74f26a64-15b0-410b-8139-fc9c45f89e67",
   "metadata": {},
   "outputs": [
    {
     "name": "stdout",
     "output_type": "stream",
     "text": [
      "3\n"
     ]
    }
   ],
   "source": [
    "totalcars=Car.get_total_cars() #without creating object to class we can access the class methods using classname.methodname()\n",
    "print(totalcars)"
   ]
  },
  {
   "cell_type": "code",
   "execution_count": null,
   "id": "d38632ca-3d7f-491d-8666-6b996e0466f8",
   "metadata": {},
   "outputs": [],
   "source": []
  },
  {
   "cell_type": "code",
   "execution_count": null,
   "id": "1bc877c3-f0ec-47ed-9cf5-cdb1d13355a9",
   "metadata": {},
   "outputs": [],
   "source": []
  }
 ],
 "metadata": {
  "kernelspec": {
   "display_name": "Python 3 (ipykernel)",
   "language": "python",
   "name": "python3"
  },
  "language_info": {
   "codemirror_mode": {
    "name": "ipython",
    "version": 3
   },
   "file_extension": ".py",
   "mimetype": "text/x-python",
   "name": "python",
   "nbconvert_exporter": "python",
   "pygments_lexer": "ipython3",
   "version": "3.12.7"
  }
 },
 "nbformat": 4,
 "nbformat_minor": 5
}
