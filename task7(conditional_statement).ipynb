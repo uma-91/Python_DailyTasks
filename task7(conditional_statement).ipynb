{
 "cells": [
  {
   "cell_type": "markdown",
   "id": "7ec923bd-7f14-49fc-b57c-5ed463b30764",
   "metadata": {},
   "source": [
    "#### 1.A company decided to give a bonus of 5% of their salary to employees if his/her years of service is more than 5 years.\n",
    "#### Ask the user for their salary and years of service and print the net amount of that person.\n"
   ]
  },
  {
   "cell_type": "code",
   "execution_count": 13,
   "id": "dc21fe53-1c46-4671-a43b-b75243121f84",
   "metadata": {},
   "outputs": [
    {
     "name": "stdin",
     "output_type": "stream",
     "text": [
      "enter salary: 50000\n",
      "enter year: 8\n"
     ]
    },
    {
     "name": "stdout",
     "output_type": "stream",
     "text": [
      "you got bonus of 2500.0 ,total salary of this month with bonus 52500.0\n"
     ]
    }
   ],
   "source": [
    "salary=float(input(\"enter salary:\"))\n",
    "years_of_service=float(input(\"enter year:\"))\n",
    "bonus=salary*(5/100)\n",
    "if years_of_service>5:\n",
    "    net_amount=salary+bonus\n",
    "else:\n",
    "    net_amount=salary\n",
    "print(f\"you got bonus of {bonus} ,total salary of this month with bonus {net_amount}\")"
   ]
  },
  {
   "cell_type": "markdown",
   "id": "8d80c3c3-17dc-4a87-861f-b2da56958759",
   "metadata": {},
   "source": [
    "#### 2.A school has following rules for grading system:\n",
    "#### a. Below 25 - F grade\n",
    "#### b. 25 to 45 - E\n",
    "#### c. 45 to 50 - D\n",
    "#### d. 50 to 60 - C\n",
    "#### e. 60 to 80 - B\n",
    "#### f. Above 80 - A\n",
    "#### Ask the user to enter marks and print the corresponding grade.\n"
   ]
  },
  {
   "cell_type": "code",
   "execution_count": 39,
   "id": "14f5626a-b40b-4276-a144-ac74ca21c902",
   "metadata": {},
   "outputs": [
    {
     "name": "stdin",
     "output_type": "stream",
     "text": [
      "enter marks: 81\n"
     ]
    },
    {
     "name": "stdout",
     "output_type": "stream",
     "text": [
      "A grade.\n"
     ]
    }
   ],
   "source": [
    "marks=int(input(\"enter marks:\"))\n",
    "if marks>80:\n",
    "    print(\"A grade.\")\n",
    "elif marks<=80 and marks>=60:\n",
    "    print(\"B grade.\")\n",
    "elif marks<=60 and marks>=50:\n",
    "    print(\"C grade.\")\n",
    "elif marks<=50 and marks>=45:\n",
    "    print(\"D grade.\")\n",
    "elif marks<=45 and marks>=25:\n",
    "    print(\"E grade.\")\n",
    "elif marks<25:\n",
    "    print(\"F grade.\")\n",
    "else:\n",
    "    print(\"fail\")\n",
    "    "
   ]
  },
  {
   "cell_type": "markdown",
   "id": "102c44f2-fe09-47ce-81a8-b3e600d0b678",
   "metadata": {},
   "source": [
    "#### 3.Create a program that asks the user for their age and nationality. Depending on their age and nationality, display a different message using    nested if statements. For example, if they are under 18 and from the USA, display \"You are a minor from the USA.\"\n"
   ]
  },
  {
   "cell_type": "code",
   "execution_count": 61,
   "id": "0479a3b4-d895-441a-9865-e252242e73e0",
   "metadata": {},
   "outputs": [
    {
     "name": "stdin",
     "output_type": "stream",
     "text": [
      "enter age. 35\n",
      "enter nationality. Astrlia\n"
     ]
    },
    {
     "name": "stdout",
     "output_type": "stream",
     "text": [
      "You are major from Astrlia.\n",
      "Welcome.\n"
     ]
    }
   ],
   "source": [
    "age=int(input(\"enter age.\"))\n",
    "nationality=input(\"enter nationality.\")\n",
    "if age<18:\n",
    "    if nationality==\"USA\":\n",
    "        print(\"You are minor from USA.\")\n",
    "    elif nationality==\"India\":\n",
    "        print(\"you are minor from India\")\n",
    "    elif nationality==\"Astralia\":\n",
    "        print(\"you are minor from Astralia.\")\n",
    "else:\n",
    "    print(f\"You are major from {nationality}.\")\n",
    "print(\"Welcome.\")"
   ]
  },
  {
   "cell_type": "markdown",
   "id": "e151abc3-9d29-482c-bb26-7a57c1baca3f",
   "metadata": {},
   "source": [
    "#### 4.Using following list of cities per country,\n",
    "#### india = [\"mumbai\", \"banglore\", \"chennai\", \"delhi\"]\n",
    "#### pakistan = [\"lahore\",\"karachi\",\"islamabad\"]\n",
    "#### bangladesh = [\"dhaka\", \"khulna\", \"rangpur\"]\n"
   ]
  },
  {
   "cell_type": "code",
   "execution_count": 91,
   "id": "3e92aea7-bd43-41f6-89a5-f6eeb75b7d40",
   "metadata": {},
   "outputs": [],
   "source": [
    "india = [\"mumbai\", \"banglore\", \"chennai\", \"delhi\"]\n",
    "pakistan = [\"lahore\",\"karachi\",\"islamabad\"]\n",
    "bangladesh = [\"dhaka\", \"khulna\", \"rangpur\"]"
   ]
  },
  {
   "cell_type": "markdown",
   "id": "f6cde59b-a84c-442a-aa5e-672f882caa8a",
   "metadata": {},
   "source": [
    "#### 5.Write a program that asks user to enter a city name and it should tell which country the city belongs to\n",
    "\n"
   ]
  },
  {
   "cell_type": "code",
   "execution_count": 82,
   "id": "05447801-a372-4927-8da9-a81e7092a5f8",
   "metadata": {},
   "outputs": [
    {
     "name": "stdin",
     "output_type": "stream",
     "text": [
      "enter ur city name: mumbai\n"
     ]
    },
    {
     "name": "stdout",
     "output_type": "stream",
     "text": [
      "mumbai Belogs to India\n"
     ]
    }
   ],
   "source": [
    "city=input(\"enter ur city name:\")\n",
    "if city in india:\n",
    "    print(f\"{city} Belogs to India\")\n",
    "elif city in pakistan:\n",
    "    print(f\"{city} Belongs to pakistan.\")\n",
    "elif city in bangladesh:\n",
    "    print(f\"{city} Belongs to bangladesh.\")\n",
    "else:\n",
    "    print(\"You entered out of the list.enter india,pakistan,bangladesh cities.\")"
   ]
  },
  {
   "cell_type": "markdown",
   "id": "d25d0b5a-e306-4374-b611-a0ef79ba9382",
   "metadata": {},
   "source": [
    "#### 6.Write a program that asks the user to enter two cities and it tells you if they both are in the same country or not. For example if I enter mumbai and chennai, it will print \"Both cities are in India\" , but if I enter mumbai and dhaka it should print \"They don't belong to the same country\".\n"
   ]
  },
  {
   "cell_type": "code",
   "execution_count": 103,
   "id": "ee7a87d5-e9ea-4295-86c6-f0a3a014e677",
   "metadata": {},
   "outputs": [
    {
     "name": "stdin",
     "output_type": "stream",
     "text": [
      "enter city1: dhaka \n",
      "enter city2: mumbai\n"
     ]
    },
    {
     "name": "stdout",
     "output_type": "stream",
     "text": [
      "('mumbai', 'chennai')\n",
      "dhaka  and mumbai not belongs to same country.\n"
     ]
    }
   ],
   "source": [
    "city1=input(\"enter city1:\")\n",
    "city2=input(\"enter city2:\")\n",
    "#city_list=(city1,city2)\n",
    "#list_of_coutries=[india,pakistan,bangladesh]\n",
    "#print(city_list)\n",
    "if city1 in india and city2 in india:\n",
    "    print(f\"{city1} and {city2} belongs to india.\")\n",
    "elif city1 in pakistan and city2 in pakistan:\n",
    "    print(f\"{city1} and {city2} belongs to pakistan.\")\n",
    "elif city1 in bangladesh and city2 in bangladesh:\n",
    "    print(f\"{city1} and {city2} belongs to bangladesh.\")\n",
    "else:\n",
    "    print(f\"{city1} and {city2} not belongs to same country.\")"
   ]
  },
  {
   "cell_type": "code",
   "execution_count": 3,
   "id": "3861474b-8617-4a99-88ce-0de921c3e70c",
   "metadata": {},
   "outputs": [
    {
     "name": "stdin",
     "output_type": "stream",
     "text": [
      "Enter city1:  lahora\n",
      "Enter city2:  khulna\n"
     ]
    },
    {
     "name": "stdout",
     "output_type": "stream",
     "text": [
      "One or both cities are not in the list.\n"
     ]
    }
   ],
   "source": [
    "# Dictionary of countries and their cities\n",
    "countries = { \n",
    "    \"India\": [\"Delhi\", \"Mumbai\", \"Bangalore\"],\n",
    "    \"Pakistan\": [\"Karachi\", \"Lahore\", \"Islamabad\"],\n",
    "    \"Bangladesh\": [\"Dhaka\", \"Chittagong\", \"Khulna\"]\n",
    "} # Get user input for cities\n",
    "city1 = input(\"Enter city1: \") \n",
    "city2 = input(\"Enter city2: \")\n",
    "# Function to find the country of a city\n",
    "def find_country(city):\n",
    "    for country, cities in countries.items(): \n",
    "        if city in cities: \n",
    "            return country\n",
    "        else:\n",
    "            return None\n",
    "# Find the countries of the input cities \n",
    "country1 = find_country(city1) \n",
    "country2 = find_country(city2) \n",
    "# Check if both cities belong to the same country\n",
    "if country1 and country2:\n",
    "    if country1 == country2:\n",
    "        print(f\"{city1} and {city2} belong to {country1}.\")\n",
    "    else: \n",
    "        print(f\"{city1} and {city2} do not belong to the same country.\") \n",
    "else: \n",
    "    print(\"One or both cities are not in the list.\")"
   ]
  },
  {
   "cell_type": "markdown",
   "id": "b638a10e-73ba-4a16-9d25-9e949af93522",
   "metadata": {},
   "source": [
    "#### 7.Write a program which will accept a word and a number from the user. Check if the     word starts with a vowel and the number is even and write appropriate conditions accordingly (Case sensitivity should not matter).\n",
    "#### Example :\n",
    "#### Innoamtics, 6 --- both the conditions are satisfied\n",
    "#### innomatics, 5--- at least one condition is satisfied\n",
    "#### Ramya, 6--- at least one condition is satisfied\n",
    "\n"
   ]
  },
  {
   "cell_type": "code",
   "execution_count": 130,
   "id": "bbb5bce5-8740-4374-ac93-36eefb107c6e",
   "metadata": {},
   "outputs": [
    {
     "name": "stdin",
     "output_type": "stream",
     "text": [
      "enter a word. ramya\n",
      "enter number. 9\n"
     ]
    },
    {
     "name": "stdout",
     "output_type": "stream",
     "text": [
      "None of the condition satisfied.\n"
     ]
    }
   ],
   "source": [
    "word=input(\"enter a word.\")\n",
    "number=int(input(\"enter number.\"))\n",
    "ovels=\"aeiouAEIOU\"          # take ovels as string\n",
    "if word[0] in ovels and number%2==0:\n",
    "    print(\"both the conditions are satisfied.\")\n",
    "elif word[0] in ovels or number%2==0:\n",
    "    print(\"at least one condition is satisfied.\")\n",
    "else:\n",
    "    print(\"None of the condition satisfied.\")"
   ]
  },
  {
   "cell_type": "code",
   "execution_count": 134,
   "id": "e7c228f1-ba70-4bb7-9782-6b00531cf93c",
   "metadata": {},
   "outputs": [
    {
     "name": "stdin",
     "output_type": "stream",
     "text": [
      "enter word. innomatics\n",
      "enter number. 6\n"
     ]
    },
    {
     "name": "stdout",
     "output_type": "stream",
     "text": [
      "both the conditons are satisfied.\n"
     ]
    }
   ],
   "source": [
    "word=input(\"enter word.\")\n",
    "number=int(input(\"enter number.\"))\n",
    "ovels=(\"a\",\"e\",\"i\",\"o\",\"u\",\"A\",\"E\",\"I\",\"O\",\"U\")    # take ovels as tuple\n",
    "if word[0] in ovels and number%2==0:\n",
    "    print(\"both the conditons are satisfied.\")\n",
    "elif word[0] in ovels or number%2==0:\n",
    "    print(\"at least one of the condition is satisfied.\")\n",
    "else:\n",
    "    print(\"none of the condition is true.\")"
   ]
  },
  {
   "cell_type": "code",
   "execution_count": null,
   "id": "81e08197-83df-49bd-a44e-f18df074fc43",
   "metadata": {},
   "outputs": [],
   "source": []
  }
 ],
 "metadata": {
  "kernelspec": {
   "display_name": "Python 3 (ipykernel)",
   "language": "python",
   "name": "python3"
  },
  "language_info": {
   "codemirror_mode": {
    "name": "ipython",
    "version": 3
   },
   "file_extension": ".py",
   "mimetype": "text/x-python",
   "name": "python",
   "nbconvert_exporter": "python",
   "pygments_lexer": "ipython3",
   "version": "3.12.7"
  }
 },
 "nbformat": 4,
 "nbformat_minor": 5
}
