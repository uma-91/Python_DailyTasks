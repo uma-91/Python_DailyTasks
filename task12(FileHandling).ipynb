{
 "cells": [
  {
   "cell_type": "markdown",
   "id": "e2cea665-6f69-4b86-ab43-3f443eac8f16",
   "metadata": {},
   "source": [
    "### 1. a) Create a text file named \"sample.txt\" with the content \"Hello, File Handling!\". Write a Python program to open the file, read its content, and print it. Now, count the number of words in the file. Print the word count.\n"
   ]
  },
  {
   "cell_type": "code",
   "execution_count": 25,
   "id": "d1483b56-aa09-45d0-b37f-0bea990f1a23",
   "metadata": {},
   "outputs": [],
   "source": [
    "# open a file using open(\"path\",\"mode\") and store location in FileHanlder object through this obj we can access the file data.\n",
    "\n",
    "FileHandler=open(r\"C:/Users/Dell/Desktop/Uma/DataScience/Dailytasks/sample.txt\",\"r\")  "
   ]
  },
  {
   "cell_type": "code",
   "execution_count": 27,
   "id": "3944c88f-605f-4dc2-bd08-a624d58c7443",
   "metadata": {},
   "outputs": [
    {
     "name": "stdout",
     "output_type": "stream",
     "text": [
      "Hello, File Handling!\n"
     ]
    }
   ],
   "source": [
    "# read data in a file by using read() as a string and store it in one variale/obj is data\n",
    "\n",
    "data=FileHandler.read()     # read data as a single string\n",
    "print(data)                 # print that data"
   ]
  },
  {
   "cell_type": "code",
   "execution_count": 29,
   "id": "41c96a6e-9b0f-4a72-ae42-47933e7a5b22",
   "metadata": {},
   "outputs": [
    {
     "name": "stdout",
     "output_type": "stream",
     "text": [
      "words count: 3\n"
     ]
    }
   ],
   "source": [
    "#count the number of words in the file.print the word count.\n",
    "\n",
    "print(\"words count:\",len(data.split()))"
   ]
  },
  {
   "cell_type": "code",
   "execution_count": 55,
   "id": "27d55d5a-2c8a-401f-8487-0e406253a9bc",
   "metadata": {},
   "outputs": [],
   "source": [
    "FileHandler.close()       # close the opened file."
   ]
  },
  {
   "cell_type": "markdown",
   "id": "d4e71f8e-eb6b-43c5-b19d-b0c79698ef2c",
   "metadata": {},
   "source": [
    "### 2.a) Write a Python program to create a new text file named \"output.txt\" and write three lines of text into the file.\n"
   ]
  },
  {
   "cell_type": "code",
   "execution_count": 58,
   "id": "c72b4e34-31be-497a-8c92-83e531951c64",
   "metadata": {},
   "outputs": [],
   "source": [
    "# we open a file with write mode. even though there is file found there it creates new file at particular location it does not through any error.\n",
    "FileHandlerObj=open(\"C:/Users/Dell/Desktop/Uma/DataScience/Dailytasks/output.txt\",\"w\")"
   ]
  },
  {
   "cell_type": "code",
   "execution_count": 60,
   "id": "5c9f6da5-44d8-42f9-8747-f7a23833370e",
   "metadata": {},
   "outputs": [
    {
     "data": {
      "text/plain": [
       "22"
      ]
     },
     "execution_count": 60,
     "metadata": {},
     "output_type": "execute_result"
    }
   ],
   "source": [
    "#we can write data in a file passing data as a string to write(\"string\") - only string type data we can pass.\n",
    "# if we want to pass multiple lines use \\n between strings\n",
    "FileHandlerObj.write(\"Hello\\nEveryone\\nthis is\")"
   ]
  },
  {
   "cell_type": "code",
   "execution_count": 62,
   "id": "e6e49897-fb2a-4c5d-be62-e65eb668eda4",
   "metadata": {},
   "outputs": [],
   "source": [
    "FileHandlerObj.close()"
   ]
  },
  {
   "cell_type": "markdown",
   "id": "9baf1120-87de-4d53-85a4-a5fbdd26473c",
   "metadata": {},
   "source": [
    "### b) Append a new line of text to the existing \"output.txt\" file created in the previous problem.\n"
   ]
  },
  {
   "cell_type": "code",
   "execution_count": 99,
   "id": "254c4b84-9b9b-462d-b732-bdcd43cf924e",
   "metadata": {},
   "outputs": [],
   "source": [
    "# to append the data a:mode is used during the file open \n",
    "FileObj=open(r\"C:/Users/Dell/Desktop/Uma/DataScience/Dailytasks/output.txt\",\"a\")"
   ]
  },
  {
   "cell_type": "code",
   "execution_count": 101,
   "id": "8bb9d307-0ba0-4332-9898-15aeeddc7763",
   "metadata": {},
   "outputs": [
    {
     "data": {
      "text/plain": [
       "4"
      ]
     },
     "execution_count": 101,
     "metadata": {},
     "output_type": "execute_result"
    }
   ],
   "source": [
    "#add new line to that txt\n",
    "FileObj.write(\"\\nuse\")"
   ]
  },
  {
   "cell_type": "code",
   "execution_count": 103,
   "id": "3aed64de-6906-4938-957b-265180086d8b",
   "metadata": {},
   "outputs": [],
   "source": [
    "FileObj.close()"
   ]
  },
  {
   "cell_type": "markdown",
   "id": "4af5b702-f6ba-43ae-b653-dafac43dd747",
   "metadata": {},
   "source": [
    "### 3.a) Create a text file named \"numbers.txt\" with numbers 1 to 5 each on a new line. Write a Python program to open the file, read its content line by line, and print each line.\n"
   ]
  },
  {
   "cell_type": "code",
   "execution_count": 1,
   "id": "1426e40d-54af-45e9-a3f0-dc755988c7ff",
   "metadata": {},
   "outputs": [],
   "source": [
    "FileHandler=open(r\"C:/Users/Dell/Desktop/Uma/DataScience/Dailytasks/numbers.txt\",\"w\")\n",
    "for i in range(1,6):\n",
    "    FileHandler.write(str(i)+\"\\n\")\n",
    "FileHandler.close()"
   ]
  },
  {
   "cell_type": "code",
   "execution_count": 7,
   "id": "8959d0c9-0da4-4594-8a79-22d94b537adc",
   "metadata": {},
   "outputs": [
    {
     "name": "stdout",
     "output_type": "stream",
     "text": [
      "1\n",
      "2\n",
      "3\n",
      "4\n",
      "5\n",
      "\n"
     ]
    }
   ],
   "source": [
    "\"\"\"FileOpen=open(r\"C:/Users/Dell/Desktop/Uma/DataScience/Dailytasks/numbers.txt\",\"r\")\n",
    "data=FileOpen.read() #reads entire data as a stirng not line by line\n",
    "print(data)\n",
    "FileOpen.close()\"\"\""
   ]
  },
  {
   "cell_type": "code",
   "execution_count": 11,
   "id": "e3e86ade-188f-4507-bfb3-71f9e98e47d7",
   "metadata": {},
   "outputs": [
    {
     "name": "stdout",
     "output_type": "stream",
     "text": [
      "1\n",
      "2\n",
      "3\n",
      "4\n",
      "5\n"
     ]
    }
   ],
   "source": [
    "FileToOpen=open(r\"C:/Users/Dell/Desktop/Uma/DataScience/Dailytasks/numbers.txt\",\"r\")\n",
    "#data=FileToOpen.read()\n",
    "for line in FileToOpen:\n",
    "    print(line.strip())\n",
    "FileToOpen.close()"
   ]
  },
  {
   "cell_type": "markdown",
   "id": "639e17d0-0ff7-4a3c-b3ab-724a3d9673f1",
   "metadata": {},
   "source": [
    "### b) Write a Python program to read the content of \"numbers.txt\" and create a new file named   \"numbers_copy.txt\" with the same content.\n"
   ]
  },
  {
   "cell_type": "code",
   "execution_count": 194,
   "id": "8a7e201a-9c2b-415b-9360-539d5accfe3b",
   "metadata": {},
   "outputs": [],
   "source": [
    "FileToOpen=open(r\"C:/Users/Dell/Desktop/Uma/DataScience/Dailytasks/numbers.txt\",\"r\") #open file to copy the data from\n",
    "data=FileToOpen.read()   #read data and store it in a variable\n",
    "FileToCopy=open(r\"C:/Users/Dell/Desktop/Uma/DataScience/Dailytasks/numbers_copy.txt\",\"w\") #open new file with \"w\" mode\n",
    "FileToCopy.write(data)   #by passing that data variable to write() of newly creted file obj\n",
    "FileToCopy.close()    #close new file\n",
    "FileToOpen.close()  #close old file"
   ]
  },
  {
   "cell_type": "code",
   "execution_count": 196,
   "id": "492c88d1-7565-43d0-81be-71cf3b51129f",
   "metadata": {},
   "outputs": [
    {
     "name": "stdout",
     "output_type": "stream",
     "text": [
      "1\n",
      "2\n",
      "3\n",
      "4\n",
      "5\n",
      "\n"
     ]
    }
   ],
   "source": [
    "FileToCopy=open(r\"C:/Users/Dell/Desktop/Uma/DataScience/Dailytasks/numbers_copy.txt\",\"r\")\n",
    "content=FileToCopy.read()\n",
    "print(content)"
   ]
  },
  {
   "cell_type": "code",
   "execution_count": null,
   "id": "b05c9141-f089-4718-b1df-d22b1ea4f01b",
   "metadata": {},
   "outputs": [],
   "source": []
  },
  {
   "cell_type": "code",
   "execution_count": null,
   "id": "3cd4a089-b03f-4fe9-958b-f4decdaed95e",
   "metadata": {},
   "outputs": [],
   "source": []
  }
 ],
 "metadata": {
  "kernelspec": {
   "display_name": "Python 3 (ipykernel)",
   "language": "python",
   "name": "python3"
  },
  "language_info": {
   "codemirror_mode": {
    "name": "ipython",
    "version": 3
   },
   "file_extension": ".py",
   "mimetype": "text/x-python",
   "name": "python",
   "nbconvert_exporter": "python",
   "pygments_lexer": "ipython3",
   "version": "3.12.7"
  }
 },
 "nbformat": 4,
 "nbformat_minor": 5
}
