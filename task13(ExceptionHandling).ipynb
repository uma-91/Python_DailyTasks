{
 "cells": [
  {
   "cell_type": "markdown",
   "id": "b7989fcb-1689-49ee-be32-a8740eb12bd8",
   "metadata": {},
   "source": [
    "### 1. Write a Python program that opens a file named \"example.txt\" for reading, handles the FileNotFoundError if the file does not exist, and prints the content if the file exists.\n"
   ]
  },
  {
   "cell_type": "code",
   "execution_count": 20,
   "id": "fa36dbe0-4ae3-4db0-bc51-edf26bdf34ac",
   "metadata": {},
   "outputs": [
    {
     "name": "stdout",
     "output_type": "stream",
     "text": [
      "File U are searching is not found\n"
     ]
    }
   ],
   "source": [
    "try:\n",
    "    #try body\n",
    "    fileHandler=open(\"Desktop/Uma/DataScience/Dailytasks/example.txt\",\"w\")\n",
    "    data=fileHandler.read()\n",
    "    fileHandler.close()\n",
    "except FileNotFoundError:\n",
    "    #except block\n",
    "    print(\"File U are searching is not found\")\n",
    "#finally:\n",
    "    #always executed\n",
    "    #print(\"Completed\")"
   ]
  },
  {
   "cell_type": "markdown",
   "id": "8c0cd6cc-5c28-4a60-beca-585c25996cc8",
   "metadata": {},
   "source": [
    "### 2.   Write a Python program that defines a list and attempts to access an element at an index that is out of range. Handle the IndexError and print an appropriate error message."
   ]
  },
  {
   "cell_type": "code",
   "execution_count": 48,
   "id": "9459b3ec-7865-43b1-b7b8-55a64bea8986",
   "metadata": {},
   "outputs": [
    {
     "name": "stdout",
     "output_type": "stream",
     "text": [
      "list Index out of range\n"
     ]
    }
   ],
   "source": [
    "try:\n",
    "    names=[\"Ram\",\"Sita\",\"lakshman\"]\n",
    "    print(names[3])\n",
    "except IndexError:\n",
    "    print(\"list Index out of range\")"
   ]
  },
  {
   "cell_type": "markdown",
   "id": "8a884fd8-0579-4d7c-9bbc-a2459664ba6d",
   "metadata": {},
   "source": [
    "### 4.Write a Python program that defines a custom exception called NegativeValueError. The program should take an integer input from the user and raise a NegativeValueError if the input is negative.\n"
   ]
  },
  {
   "cell_type": "code",
   "execution_count": 25,
   "id": "e0ee5f4f-2cf3-41d2-9964-5287c95ce72a",
   "metadata": {},
   "outputs": [
    {
     "name": "stdin",
     "output_type": "stream",
     "text": [
      "Enter an integer:  -8\n"
     ]
    },
    {
     "name": "stdout",
     "output_type": "stream",
     "text": [
      "Negative value error!\n"
     ]
    }
   ],
   "source": [
    "# Define the custom exception\n",
    "class NegativeValueError(Exception):\n",
    "    def __init__(self, message=\"Negative value error!\"):\n",
    "        self.message = message\n",
    "        super().__init__(self.message)\n",
    "\n",
    "def check_value():\n",
    "    try:\n",
    "        user_input = int(input(\"Enter an integer: \"))\n",
    "        if user_input < 0:\n",
    "            raise NegativeValueError()\n",
    "        print(f\"The input value is: {user_input}\")\n",
    "    except ValueError:\n",
    "        print(\"Invalid input! Please enter an integer.\")\n",
    "    except NegativeValueError as e:\n",
    "        print(e)\n",
    "\n",
    "check_value()\n"
   ]
  },
  {
   "cell_type": "markdown",
   "id": "c76d9a5a-076d-4101-b97e-9ad4c325c560",
   "metadata": {},
   "source": [
    "### 5.Write a Python program that takes user input to perform a mathematical operation. Handle ValueError if the input cannot be converted to a number and handle ZeroDivisionError if the user attempts to divide by zero.\n",
    "\n"
   ]
  },
  {
   "cell_type": "code",
   "execution_count": 85,
   "id": "e5b5c0d7-0d83-4133-a642-91b2de76eccd",
   "metadata": {},
   "outputs": [
    {
     "name": "stdin",
     "output_type": "stream",
     "text": [
      "enter x value. 1\n",
      "enter y value. 2\n"
     ]
    },
    {
     "name": "stdout",
     "output_type": "stream",
     "text": [
      "3\n",
      "-1\n",
      "2\n",
      "0.5\n",
      "successful\n"
     ]
    }
   ],
   "source": [
    "\n",
    "try:\n",
    "    x=int(input(\"enter x value.\"))\n",
    "    y=int(input(\"enter y value.\"))\n",
    "    print(x+y)\n",
    "    print(x-y)\n",
    "    print(x*y)\n",
    "    print(x/y)\n",
    "except ValueError:\n",
    "    print(\"input can not be converted to a number.\")\n",
    "except ZeroDivisionError:\n",
    "    print(\"divided by zero not possible\")\n",
    "else:\n",
    "    print(\"successful\")     # it executes when there is no error in the code only\n",
    "#finally:\n",
    "  #  print(\"completed.\")"
   ]
  },
  {
   "cell_type": "markdown",
   "id": "746fe515-4e51-4457-877d-21e43f84d2b9",
   "metadata": {},
   "source": [
    "### 6. Write a Python program that takes a string as input and prints its length. Handle the TypeError exception if the user enters a non-string value."
   ]
  },
  {
   "cell_type": "code",
   "execution_count": 11,
   "id": "fd309c76-735e-4915-af71-3c356a8b974b",
   "metadata": {},
   "outputs": [],
   "source": [
    "def get_string_length():\n",
    "    try:\n",
    "        user_input = input(\"Enter a string: \")\n",
    "        if not isinstance(user_input, str):\n",
    "            raise TypeError(\"The input is not a string!\")\n",
    "        print(f\"The length of the string is: {len(user_input)}\")\n",
    "    except TypeError as e:\n",
    "        print(e)\n",
    "\n",
    "\n",
    "\n",
    "    "
   ]
  },
  {
   "cell_type": "code",
   "execution_count": 13,
   "id": "d45e47c5-2034-4cb3-ae09-8fcada77e344",
   "metadata": {},
   "outputs": [
    {
     "name": "stdin",
     "output_type": "stream",
     "text": [
      "Enter a string:  9\n"
     ]
    },
    {
     "name": "stdout",
     "output_type": "stream",
     "text": [
      "The length of the string is: 1\n"
     ]
    }
   ],
   "source": [
    "get_string_length()"
   ]
  },
  {
   "cell_type": "code",
   "execution_count": null,
   "id": "bcd3c5af-11b5-42c7-9dd7-b2b8b0716434",
   "metadata": {},
   "outputs": [],
   "source": []
  }
 ],
 "metadata": {
  "kernelspec": {
   "display_name": "Python [conda env:base] *",
   "language": "python",
   "name": "conda-base-py"
  },
  "language_info": {
   "codemirror_mode": {
    "name": "ipython",
    "version": 3
   },
   "file_extension": ".py",
   "mimetype": "text/x-python",
   "name": "python",
   "nbconvert_exporter": "python",
   "pygments_lexer": "ipython3",
   "version": "3.12.7"
  }
 },
 "nbformat": 4,
 "nbformat_minor": 5
}
