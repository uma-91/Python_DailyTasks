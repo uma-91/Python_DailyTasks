{
 "cells": [
  {
   "cell_type": "markdown",
   "id": "30be0513-2dd1-4279-a370-af0e3e1c5097",
   "metadata": {},
   "source": [
    "## 1. Define Dictionary, its properties.\n",
    "    defintion:\n",
    "    ---------- \n",
    "                dictionary is collection of items having key:value pair .which are enclosed within the curly bracket {}.\n",
    "                dictionary is a non primititve data type we can store collection of items.\n",
    "    syntax:\n",
    "    -------\n",
    "                dict_name={key1:value1,key2:value2,key3:value3.....}\n",
    "                  dict_name -  name of dictionary\n",
    "                  key:value - is called items.which are enclosed within curly bracket{}.\n",
    "    properties of dictionary:\n",
    "    -------------------------\n",
    "                 \n",
    "                 1. dictionary is mutable in nature.means we can add or remove elements from the dictionary.\n",
    "                 2. unordered in nature means dictionary elements are not in order.\n",
    "                 3. here indexing is done by using key's.key must be in immutable in nature(like:string,tuple,integer)\n",
    "                 4. keys must be unique.\n",
    "                 \n",
    "    properties of keys:\n",
    "    --------------------\n",
    "                1. keys in dictionary are immutable in nature means we can change keys after creation.\n",
    "                2. keys are unique. we can not assign same key with different value.\n",
    "    properties of values:\n",
    "     ---------------------\n",
    "                1.values of dictionary are mutable in nature means we can modify after creation.\n",
    "                2.values are not unique we can assign same value to the different keys.\n"
   ]
  },
  {
   "cell_type": "markdown",
   "id": "520c6761-dcb2-4aa3-8a68-20121f3cd909",
   "metadata": {},
   "source": [
    "## 2. Explore all the methods in the dictionary and write example for each method\n",
    "\n",
    "        Accessing data from the dictionary we use following methods:\n",
    "        ------------------------------------------------------------\n",
    "\n",
    "                    1. dict.keys()      :    .keys() is used to get all keys as a list from the dictionary.\n",
    "                    2. dict.values()    :    .values() is used to get all values  as a list from the dictionary.\n",
    "                    3. dict.items()     :    .items() is used to get all (key value) pair as a result of list.\n",
    "                    4. dict.get(\"key\",\"default value\")  :    . get(key) is used to get the value from the speified key.\n",
    "                                                            default value is the value when thw key does not exists.\n",
    "                    \n",
    "        Deleting data from the dictionary we use following methods:\n",
    "        -----------------------------------------------------------\n",
    "                    1. dict.clear()     :    .clear() is used to claer the data from the dictionary.\n",
    "                    2. dict.pop(key,default_value)    :     .pop(key) is used to delete the value from a specified key and returns its value.\n",
    "                                                            if the specified does not exists it retuens its default value.\n",
    "                    3. dict.popitem()   :     .popitem() is used to delete last element of the dictionary and it returns its (key,value).\n",
    "                    4. del keyword      :      del dict is used to delete entire dictionary.\n",
    "                    \n",
    "        updating dictionary:\n",
    "        --------------------\n",
    "                    1. dict.update(iterable)  :  .update() is used to add iterable at the end of the dictionary.\n",
    "                    \n",
    "        coping a dictionary:\n",
    "        --------------------\n",
    "                    1.new_dict=dict.copy()    :  .copy() is used to copy the dictionary.\n",
    "\n",
    "        examples:\n",
    "        ---------\n",
    "                    dict_example={\"name\":\"raj\",\n",
    "                                    \"age\":23,\n",
    "                                    \"college\":\"xxx\"}\n",
    "\n",
    "                    accessing:\n",
    "                    ---------\n",
    "                    \n",
    "                                dict_example.keys()  o/p:['name', 'age', 'college'] - list of keys.\n",
    "                                dict_example.values() o/p:['raj', 23, 'xxx'] - list of values.\n",
    "                                dict_example.items() o/p:[('name', 'raj'), ('age', 23), ('college', 'xxx')]  - list of (key,value)\n",
    "                                dict_example.get(\"age\") o/p:23\n",
    "                    deleting:\n",
    "                    ---------\n",
    "\n",
    "                                dict_example.pop(\"college\") o/p:xxx\n",
    "                                 dict_example.pop(\"college\",None) - by specifing None value as default it does not return any error if specified key                                                                         does not exists.\n",
    "                                 dict_example.popitem()  -o/p:('age',23)\n",
    "                                 dict_example.clear() o/p:{} - it empty the dictionary.\n",
    "                                 del dict_example  - it deletes entire dict it does not return any value.\n",
    "                                 \n",
    "                    adding element to dictionary:\n",
    "                    -----------------------------\n",
    "                    \n",
    "                                  dict_example[\"branch\"]=\"ECE\"      -       it adds \"branch\":\"ECE\" at the end of dictinary\n",
    "                                  dict_example.update({\"fee\":5000,\"last_name\":\"l\"})    -     adds iterable at the end of dictionary.\n",
    "                                  \n",
    "                    copy dictionary:\n",
    "                    ----------------\n",
    "\n",
    "                                    new_student=dict_example.copy() - copy the dict_example to new_student\n",
    "                                    "
   ]
  },
  {
   "cell_type": "code",
   "execution_count": 1,
   "id": "87656644-7e5f-4ff2-baff-dfe337c9de76",
   "metadata": {},
   "outputs": [
    {
     "data": {
      "text/plain": [
       "{'name': 'raj', 'age': 23, 'college': 'xxx'}"
      ]
     },
     "execution_count": 1,
     "metadata": {},
     "output_type": "execute_result"
    }
   ],
   "source": [
    "dict_example={\"name\":\"raj\",\n",
    "                \"age\":23,\n",
    "                \"college\":\"xxx\"}\n",
    "dict_example"
   ]
  },
  {
   "cell_type": "code",
   "execution_count": 10,
   "id": "2e43b3a8-6d1f-4b95-a5e3-55489b925ea9",
   "metadata": {},
   "outputs": [
    {
     "name": "stdout",
     "output_type": "stream",
     "text": [
      "dict_keys(['name', 'age', 'college'])\n"
     ]
    }
   ],
   "source": [
    "dict_example.keys()"
   ]
  },
  {
   "cell_type": "code",
   "execution_count": 12,
   "id": "27a346fd-d2dc-47ca-ae74-194771ba84ab",
   "metadata": {},
   "outputs": [
    {
     "data": {
      "text/plain": [
       "dict_values(['raj', 23, 'xxx'])"
      ]
     },
     "execution_count": 12,
     "metadata": {},
     "output_type": "execute_result"
    }
   ],
   "source": [
    "dict_example.values()"
   ]
  },
  {
   "cell_type": "code",
   "execution_count": 14,
   "id": "aacd92f8-13fb-4e18-80a5-adbe6e97bd92",
   "metadata": {},
   "outputs": [
    {
     "data": {
      "text/plain": [
       "dict_items([('name', 'raj'), ('age', 23), ('college', 'xxx')])"
      ]
     },
     "execution_count": 14,
     "metadata": {},
     "output_type": "execute_result"
    }
   ],
   "source": [
    " dict_example.items()"
   ]
  },
  {
   "cell_type": "code",
   "execution_count": 16,
   "id": "25466542-2f1e-4486-970b-efadd87f83dd",
   "metadata": {},
   "outputs": [
    {
     "data": {
      "text/plain": [
       "23"
      ]
     },
     "execution_count": 16,
     "metadata": {},
     "output_type": "execute_result"
    }
   ],
   "source": [
    "dict_example.get(\"age\")"
   ]
  },
  {
   "cell_type": "code",
   "execution_count": 18,
   "id": "9226271b-d1f7-42b8-bf9b-53714781e8a6",
   "metadata": {},
   "outputs": [
    {
     "data": {
      "text/plain": [
       "'xxx'"
      ]
     },
     "execution_count": 18,
     "metadata": {},
     "output_type": "execute_result"
    }
   ],
   "source": [
    " dict_example.pop(\"college\")"
   ]
  },
  {
   "cell_type": "code",
   "execution_count": 22,
   "id": "ef2d2961-08e9-4d65-96a4-d7c49cd68aa1",
   "metadata": {},
   "outputs": [],
   "source": [
    " dict_example.pop(\"college\",None)"
   ]
  },
  {
   "cell_type": "code",
   "execution_count": 24,
   "id": "68a3475d-8ff5-4298-9ae5-b8ff6882dc1b",
   "metadata": {},
   "outputs": [
    {
     "data": {
      "text/plain": [
       "('age', 23)"
      ]
     },
     "execution_count": 24,
     "metadata": {},
     "output_type": "execute_result"
    }
   ],
   "source": [
    "dict_example.popitem()"
   ]
  },
  {
   "cell_type": "code",
   "execution_count": 26,
   "id": "19eb382e-5e19-4fce-8b36-6bd4849466bc",
   "metadata": {},
   "outputs": [],
   "source": [
    "del dict_example"
   ]
  },
  {
   "cell_type": "code",
   "execution_count": 40,
   "id": "18f7c170-0069-45ed-82e3-33dc7a4fbe04",
   "metadata": {},
   "outputs": [
    {
     "data": {
      "text/plain": [
       "{'name': 'raj', 'age': 23, 'college': 'xxx'}"
      ]
     },
     "execution_count": 40,
     "metadata": {},
     "output_type": "execute_result"
    }
   ],
   "source": [
    "dict_example"
   ]
  },
  {
   "cell_type": "code",
   "execution_count": 34,
   "id": "730a876d-6dda-49d8-9017-19919e79b44c",
   "metadata": {},
   "outputs": [],
   "source": [
    "dict_example.clear()"
   ]
  },
  {
   "cell_type": "code",
   "execution_count": 36,
   "id": "073633dc-f5fc-4454-ab07-6fc038586c65",
   "metadata": {},
   "outputs": [
    {
     "data": {
      "text/plain": [
       "{}"
      ]
     },
     "execution_count": 36,
     "metadata": {},
     "output_type": "execute_result"
    }
   ],
   "source": [
    "dict_example"
   ]
  },
  {
   "cell_type": "code",
   "execution_count": 42,
   "id": "ac65dec7-c8e8-46f3-8649-588e605fdac4",
   "metadata": {},
   "outputs": [],
   "source": [
    " dict_example[\"branch\"]=\"ECE\""
   ]
  },
  {
   "cell_type": "code",
   "execution_count": 44,
   "id": "bfb14f5c-168c-4027-b306-dce02607c6f8",
   "metadata": {},
   "outputs": [
    {
     "data": {
      "text/plain": [
       "{'name': 'raj', 'age': 23, 'college': 'xxx', 'branch': 'ECE'}"
      ]
     },
     "execution_count": 44,
     "metadata": {},
     "output_type": "execute_result"
    }
   ],
   "source": [
    "dict_example"
   ]
  },
  {
   "cell_type": "code",
   "execution_count": 13,
   "id": "ae39d4fd-46bd-4129-a75a-1408e6f344ad",
   "metadata": {},
   "outputs": [],
   "source": [
    " dict_example.update({\"fee\":5000,\"last_name\":\"l\"})"
   ]
  },
  {
   "cell_type": "code",
   "execution_count": 48,
   "id": "7d0be0dc-7128-4266-94f3-a9d1d09d90e7",
   "metadata": {},
   "outputs": [
    {
     "data": {
      "text/plain": [
       "{'name': 'raj',\n",
       " 'age': 23,\n",
       " 'college': 'xxx',\n",
       " 'branch': 'ECE',\n",
       " 'fee': 5000,\n",
       " 'last_name': 'l'}"
      ]
     },
     "execution_count": 48,
     "metadata": {},
     "output_type": "execute_result"
    }
   ],
   "source": [
    "dict_example"
   ]
  },
  {
   "cell_type": "code",
   "execution_count": 50,
   "id": "61c2526c-7b7b-45d1-9088-323a197cf803",
   "metadata": {},
   "outputs": [],
   "source": [
    "new_student=dict_example.copy() "
   ]
  },
  {
   "cell_type": "code",
   "execution_count": 52,
   "id": "9d39d611-d0cc-4f97-b000-2017fcc430eb",
   "metadata": {},
   "outputs": [
    {
     "data": {
      "text/plain": [
       "{'name': 'raj',\n",
       " 'age': 23,\n",
       " 'college': 'xxx',\n",
       " 'branch': 'ECE',\n",
       " 'fee': 5000,\n",
       " 'last_name': 'l'}"
      ]
     },
     "execution_count": 52,
     "metadata": {},
     "output_type": "execute_result"
    }
   ],
   "source": [
    "new_student"
   ]
  },
  {
   "cell_type": "markdown",
   "id": "6ea3ce81-849f-4373-aa77-06233c1c1916",
   "metadata": {},
   "source": [
    "## 3.  Create a Python program that defines a dictionary to store information about your favorite book. Include the title, author, publication year, and genre as key-value pairs. Print out the dictionary.and do at least 5 dictionary methods on it.\n"
   ]
  },
  {
   "cell_type": "code",
   "execution_count": 57,
   "id": "88a369f5-f964-4a3e-87fd-738a6acdc07a",
   "metadata": {},
   "outputs": [
    {
     "data": {
      "text/plain": [
       "{'title': 'python', 'author': 'Gudo Van Rosan', 'publish_year': 1991}"
      ]
     },
     "execution_count": 57,
     "metadata": {},
     "output_type": "execute_result"
    }
   ],
   "source": [
    "favorite_book={\"title\":\"python\",\"author\":\"Gudo Van Rosan\",\"publish_year\":1991}\n",
    "favorite_book      #display dictionary as key:value pair"
   ]
  },
  {
   "cell_type": "code",
   "execution_count": 59,
   "id": "ac051963-1a8c-4a56-89b0-85114f28d0f3",
   "metadata": {},
   "outputs": [
    {
     "data": {
      "text/plain": [
       "dict_keys(['title', 'author', 'publish_year'])"
      ]
     },
     "execution_count": 59,
     "metadata": {},
     "output_type": "execute_result"
    }
   ],
   "source": [
    "favorite_book.keys()  # display the keys of favorite_book as a list"
   ]
  },
  {
   "cell_type": "code",
   "execution_count": 61,
   "id": "70440754-8c44-4361-9bd3-2770037e11b2",
   "metadata": {},
   "outputs": [
    {
     "data": {
      "text/plain": [
       "dict_values(['python', 'Gudo Van Rosan', 1991])"
      ]
     },
     "execution_count": 61,
     "metadata": {},
     "output_type": "execute_result"
    }
   ],
   "source": [
    "favorite_book.values()  #display the values of favorite_book as a list"
   ]
  },
  {
   "cell_type": "code",
   "execution_count": 63,
   "id": "86ac6bb0-bdd4-4ce2-8324-c736bd0e1d9d",
   "metadata": {},
   "outputs": [
    {
     "data": {
      "text/plain": [
       "dict_items([('title', 'python'), ('author', 'Gudo Van Rosan'), ('publish_year', 1991)])"
      ]
     },
     "execution_count": 63,
     "metadata": {},
     "output_type": "execute_result"
    }
   ],
   "source": [
    "favorite_book.items() # display (key, value) as list."
   ]
  },
  {
   "cell_type": "code",
   "execution_count": 67,
   "id": "08d75139-5521-4ba4-829e-e08e62c10bce",
   "metadata": {},
   "outputs": [
    {
     "data": {
      "text/plain": [
       "{'title': 'python', 'author': 'Gudo Van Rosan', 'publish_year': 1991}"
      ]
     },
     "execution_count": 67,
     "metadata": {},
     "output_type": "execute_result"
    }
   ],
   "source": [
    "temp_dict=favorite_book.copy()\n",
    "temp_dict"
   ]
  },
  {
   "cell_type": "code",
   "execution_count": 69,
   "id": "6a9863f8-6d95-40f1-9bbb-7f9636f32a0e",
   "metadata": {},
   "outputs": [
    {
     "data": {
      "text/plain": [
       "('publish_year', 1991)"
      ]
     },
     "execution_count": 69,
     "metadata": {},
     "output_type": "execute_result"
    }
   ],
   "source": [
    "temp_dict.popitem() # deletes last element and returns its (key,value)"
   ]
  },
  {
   "cell_type": "code",
   "execution_count": 71,
   "id": "ae8aad8d-842d-45c7-841e-a5c19dcefb9a",
   "metadata": {},
   "outputs": [
    {
     "data": {
      "text/plain": [
       "{'title': 'python', 'author': 'Gudo Van Rosan', 'publish_year': 1991}"
      ]
     },
     "execution_count": 71,
     "metadata": {},
     "output_type": "execute_result"
    }
   ],
   "source": [
    "favorite_book #here original dictionary not effected"
   ]
  },
  {
   "cell_type": "code",
   "execution_count": 73,
   "id": "4bf2562a-9741-4c11-ac70-697be105734a",
   "metadata": {},
   "outputs": [
    {
     "data": {
      "text/plain": [
       "{'title': 'python', 'author': 'Gudo Van Rosan'}"
      ]
     },
     "execution_count": 73,
     "metadata": {},
     "output_type": "execute_result"
    }
   ],
   "source": [
    "temp_dict"
   ]
  },
  {
   "cell_type": "code",
   "execution_count": 81,
   "id": "1380e13e-65b7-4407-a486-03e9f7d63e1b",
   "metadata": {},
   "outputs": [],
   "source": [
    "temp_dict.pop(\"publish_year\",None) \n",
    "#it deletes publish_year from temp_dict if exists. it does not raise error bcz we mension that default as None"
   ]
  },
  {
   "cell_type": "markdown",
   "id": "c172a290-c247-4655-a9b3-708f82e9ecce",
   "metadata": {},
   "source": [
    "## 4.  Write a Python program that simulates a simple dictionary for translating English words to Spanish. Define a dictionary containing a few English words as keys and their corresponding Spanish translations as values. Allow users to enter an English word, and then display its Spanish translation if it exists in the dictionary.(use google for English to Spanish translator)\n"
   ]
  },
  {
   "cell_type": "code",
   "execution_count": 3,
   "id": "4f234056-884b-4374-871b-b6795169eefe",
   "metadata": {},
   "outputs": [],
   "source": [
    "english_to_spanish={\"welcome\":\"bienvenida\",\"to\":\"Para\",\"english\":\"inglesa\"}"
   ]
  },
  {
   "cell_type": "code",
   "execution_count": 5,
   "id": "4b1dd483-2439-4d19-b51a-f76a04094375",
   "metadata": {},
   "outputs": [
    {
     "data": {
      "text/plain": [
       "{'welcome': 'bienvenida', 'to': 'Para', 'english': 'inglesa'}"
      ]
     },
     "execution_count": 5,
     "metadata": {},
     "output_type": "execute_result"
    }
   ],
   "source": [
    "english_to_spanish"
   ]
  },
  {
   "cell_type": "code",
   "execution_count": 7,
   "id": "2c6991de-09f5-48cb-9f73-026e7d4d7085",
   "metadata": {},
   "outputs": [
    {
     "name": "stdin",
     "output_type": "stream",
     "text": [
      "enter english word to tanslate to spanish: as\n"
     ]
    },
    {
     "name": "stdout",
     "output_type": "stream",
     "text": [
      "does not exists\n"
     ]
    }
   ],
   "source": [
    "english_word=input(\"enter english word to tanslate to spanish:\")\n",
    "#after_translation=english_to_spanish.get(english_word,\"does not exists\")\n",
    "#print(after_translation)\n",
    "print(english_to_spanish.get(english_word,\"does not exists\"))"
   ]
  },
  {
   "cell_type": "code",
   "execution_count": 11,
   "id": "578e6878-6b1f-4954-aaa9-9f50295e2ab1",
   "metadata": {},
   "outputs": [
    {
     "name": "stdin",
     "output_type": "stream",
     "text": [
      "enter english word to tanslate to spanish: welcome\n"
     ]
    },
    {
     "name": "stdout",
     "output_type": "stream",
     "text": [
      "bienvenida\n"
     ]
    }
   ],
   "source": [
    "#by using if condition \n",
    "english_word=input(\"enter english word to tanslate to spanish:\")\n",
    "if english_word in english_to_spanish.keys():\n",
    "    print(english_to_spanish[english_word])  # to get value from the specified key.   \n",
    "else:\n",
    "    print(\"key does not exists.\")"
   ]
  },
  {
   "cell_type": "markdown",
   "id": "c8ae2833-9b71-482c-9a2a-a7b30fe2bcb0",
   "metadata": {},
   "source": [
    "## 5. Create a Python program that stores the grades of five students in a dictionary. Allow users to input the names of the students and their respective grades. Calculate and display the average grade of the students.\n"
   ]
  },
  {
   "cell_type": "code",
   "execution_count": 182,
   "id": "7481b9ce-76b2-400e-9da5-1a79d0fe644b",
   "metadata": {},
   "outputs": [
    {
     "name": "stdin",
     "output_type": "stream",
     "text": [
      "enter name: raj\n",
      "enter grade: 80\n",
      "enter name: rani\n",
      "enter grade: 60\n",
      "enter name: ram\n",
      "enter grade: 67\n",
      "enter name: ramu\n",
      "enter grade: 78\n",
      "enter name: ramana\n",
      "enter grade: 79\n"
     ]
    },
    {
     "name": "stdout",
     "output_type": "stream",
     "text": [
      "{'raj': 80, 'rani': 60, 'ram': 67, 'ramu': 78, 'ramana': 79}\n",
      "72.8\n"
     ]
    }
   ],
   "source": [
    "students_with_grade={} #defining empty dictionary\n",
    "for i in range(5):\n",
    "    name=input(\"enter name:\")\n",
    "                                                    #if name in students_with_grade.keys():\n",
    "                                                      #  print(\"name already exists.\")\n",
    "                                                      #  break \n",
    "    grade=int(input(\"enter grade:\"))\n",
    "    students_with_grade[name]=grade  \n",
    "print(students_with_grade)\n",
    "avg_grade=sum(students_with_grade.values())/len(students_with_grade)\n",
    "print(avg_grade)"
   ]
  },
  {
   "cell_type": "code",
   "execution_count": 21,
   "id": "647948ff-578e-4d42-a882-da8668f50ce4",
   "metadata": {},
   "outputs": [
    {
     "name": "stdin",
     "output_type": "stream",
     "text": [
      "enter student names raj ravi ramu \n",
      "enter grades of that students: 65 76 87\n"
     ]
    },
    {
     "name": "stdout",
     "output_type": "stream",
     "text": [
      "{'raj': 65, 'ravi': 76, 'ramu': 87}\n"
     ]
    }
   ],
   "source": [
    "students=input(\"enter student names\").split() #by using list\n",
    "grades=list(map(int,input(\"enter grades of that students:\").split()))\n",
    "#print(students)\n",
    "#print(grades)\n",
    "if len(students) == len(grades):\n",
    "    students_with_grades={key:value for key,value in zip(students,grades)}  #by using dictionary comprehension\n",
    "    print(students_with_grades)\n",
    "    #for grade in students_with_grades.values():\n",
    "       # avg_grade=sum(grade)/len(grades)\n",
    "else:\n",
    "    print(\"please make sure that size of list of students and list grads are eaual.\") "
   ]
  },
  {
   "cell_type": "markdown",
   "id": "8a8009b9-4d39-4644-9638-eaa8469a9fb1",
   "metadata": {},
   "source": [
    "## 6.Build a basic contact list using a dictionary. Initially, the dictionary can be empty. Allow users to add new contacts with names and phone numbers. Users should also be able to search for contacts by name and display their phone numbers(use in operator)."
   ]
  },
  {
   "cell_type": "code",
   "execution_count": 198,
   "id": "67f7f39a-adb3-4adc-9dfc-ab0f4666a26a",
   "metadata": {},
   "outputs": [
    {
     "name": "stdout",
     "output_type": "stream",
     "text": [
      "{'raj': 9029932101, 'ram': 8898780879}\n"
     ]
    },
    {
     "name": "stdin",
     "output_type": "stream",
     "text": [
      "enter name to search. raj\n"
     ]
    },
    {
     "name": "stdout",
     "output_type": "stream",
     "text": [
      "raj in contacts.\n",
      "phone number is: 9029932101\n"
     ]
    }
   ],
   "source": [
    "contacts={}                   #inntially empty\n",
    "contacts[\"raj\"]=9029932101     # assingning values to dict.\n",
    "contacts[\"ram\"]=8898780879\n",
    "print(contacts)\n",
    "name=input(\"enter name to search.\")\n",
    "if name in contacts:                   # to check name in contacts \n",
    "    print(f\"{name} in contacts.\") #yes then print contact number of given name.\n",
    "    print(\"phone number is:\",contacts.get(name,None))\n",
    "else:\n",
    "    print(f\"{name} not in contacts.\")  #not in the dictionary\n",
    "    \n",
    "    "
   ]
  },
  {
   "cell_type": "markdown",
   "id": "0e49ff46-1acc-408b-bbb1-f804d2ed7c13",
   "metadata": {},
   "source": [
    "## 7.Write a Python program that defines a dictionary containing the names of fruits as keys and their corresponding colors as values (e.g., 'apple': 'red'). Do at least 5 dictionary methods on it.\n",
    "\n"
   ]
  },
  {
   "cell_type": "code",
   "execution_count": 174,
   "id": "09d75290-d38d-4217-bfd8-645c0b5d71c0",
   "metadata": {},
   "outputs": [
    {
     "name": "stdout",
     "output_type": "stream",
     "text": [
      "{'apple': 'red', 'banana': 'yellow', 'orange': 'orange', 'watermelon': 'green'}\n",
      "dict_keys(['apple', 'banana', 'orange', 'watermelon'])\n",
      "dict_values(['red', 'yellow', 'orange', 'green'])\n",
      "dict_items([('apple', 'red'), ('banana', 'yellow'), ('orange', 'orange'), ('watermelon', 'green')])\n",
      "None\n",
      "('watermelon', 'green')\n",
      "None\n"
     ]
    }
   ],
   "source": [
    "fruits_colors={\"apple\":\"red\",\"banana\":\"yellow\",\"orange\":\"orange\",\"watermelon\":\"green\"}\n",
    "print(fruits_colors)\n",
    "print(fruits_colors.keys())\n",
    "print(fruits_colors.values())\n",
    "print(fruits_colors.items())\n",
    "print(fruits_colors.pop(\"pinapple\",None))\n",
    "print(fruits_colors.popitem())\n",
    "print(fruits_colors.get(\"papaya\"))    "
   ]
  },
  {
   "cell_type": "code",
   "execution_count": 1,
   "id": "80875cbe-f4db-48ba-8226-95e28e660893",
   "metadata": {},
   "outputs": [
    {
     "name": "stdout",
     "output_type": "stream",
     "text": [
      "<class 'set'>\n"
     ]
    }
   ],
   "source": [
    "set((1,2,3))\n",
    "print(set)"
   ]
  },
  {
   "cell_type": "code",
   "execution_count": 3,
   "id": "4d8906ee-af15-4d98-9bcc-a38136a5ea21",
   "metadata": {},
   "outputs": [
    {
     "name": "stdout",
     "output_type": "stream",
     "text": [
      "{50, 20, 40, 10, 30}\n"
     ]
    }
   ],
   "source": [
    "set1={10,20,30,40,50}\n",
    "print(set1)"
   ]
  },
  {
   "cell_type": "code",
   "execution_count": 7,
   "id": "1529c101-80f1-44be-bdc4-68df81ddffc1",
   "metadata": {},
   "outputs": [
    {
     "name": "stdout",
     "output_type": "stream",
     "text": [
      "{1, 2, 3}\n"
     ]
    }
   ],
   "source": [
    "set2=set([1,2,3])\n",
    "print(set2)"
   ]
  },
  {
   "cell_type": "code",
   "execution_count": null,
   "id": "e551e596-04c3-470a-942f-b9dff5077399",
   "metadata": {},
   "outputs": [],
   "source": []
  }
 ],
 "metadata": {
  "kernelspec": {
   "display_name": "Python [conda env:base] *",
   "language": "python",
   "name": "conda-base-py"
  },
  "language_info": {
   "codemirror_mode": {
    "name": "ipython",
    "version": 3
   },
   "file_extension": ".py",
   "mimetype": "text/x-python",
   "name": "python",
   "nbconvert_exporter": "python",
   "pygments_lexer": "ipython3",
   "version": "3.12.7"
  }
 },
 "nbformat": 4,
 "nbformat_minor": 5
}
