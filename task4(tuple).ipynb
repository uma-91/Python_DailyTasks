{
 "cells": [
  {
   "cell_type": "markdown",
   "id": "4f23a3a1-5946-422d-b192-3c7ad6a49972",
   "metadata": {},
   "source": [
    "### 1. Lists the tuple Properties and Explain immutability in Python tuples with examples. \n",
    "\n",
    "         properties of tuple:\n",
    "         -------------------\n",
    "         \n",
    "             1.tuple is immutable in nature means we can not edit tuple elements after creation.\n",
    "             2.tuple values can have indexing by using the index we can perform slicing so slicing can be done in tuple.\n",
    "             3.tuple contains values of any data type including primitive and non primitive data types.\n",
    "             4.tuple can have duplicate values.\n",
    "\n",
    "             ex:     tuple_example=(1,2,3,[10,20,30])\n",
    "             ---     \n",
    "                     here the tuple tuple_examople contain primitive data types and non primitive data type( list\n",
    "                     if we want to add 4 to tuple it is not possible to add directly to the tuple if we want to delete any element \n",
    "                     from the tuple its not possible directly we can convert that tuple to list and then delete the element.\n",
    "                     # if we want to insert 4 at a particlar position(2) its not also possible this nature is called immutability.\n",
    "                       tuple_example[2].insert(4)  # its not possible there this is called immutability.\n",
    "                       "
   ]
  },
  {
   "cell_type": "code",
   "execution_count": 1,
   "id": "87189055-a401-4d41-bafe-6815a49d8e52",
   "metadata": {},
   "outputs": [
    {
     "ename": "NameError",
     "evalue": "name 'tuple_example' is not defined",
     "output_type": "error",
     "traceback": [
      "\u001b[1;31m---------------------------------------------------------------------------\u001b[0m",
      "\u001b[1;31mNameError\u001b[0m                                 Traceback (most recent call last)",
      "Cell \u001b[1;32mIn[1], line 1\u001b[0m\n\u001b[1;32m----> 1\u001b[0m \u001b[43mtuple_example\u001b[49m[\u001b[38;5;241m2\u001b[39m]\u001b[38;5;241m=\u001b[39m\u001b[38;5;241m100\u001b[39m   \u001b[38;5;66;03m#immutability in nature of tuple example. updating is not possible.\u001b[39;00m\n",
      "\u001b[1;31mNameError\u001b[0m: name 'tuple_example' is not defined"
     ]
    }
   ],
   "source": [
    "tuple_example[2]=100   #immutability in nature of tuple example. updating is not possible."
   ]
  },
  {
   "cell_type": "code",
   "execution_count": 19,
   "id": "defcf339-cec7-4064-bd24-79f9c56a0b9d",
   "metadata": {},
   "outputs": [
    {
     "name": "stdout",
     "output_type": "stream",
     "text": [
      "(1, 2, 3, [10, 20, 30])\n"
     ]
    }
   ],
   "source": [
    "tuple_example=(1,2,3,[10,20,30]) # tuple creation\n",
    "print(tuple_example)"
   ]
  },
  {
   "cell_type": "code",
   "execution_count": 23,
   "id": "ac14904a-e9b8-4042-bb92-f3178f5dfa5e",
   "metadata": {},
   "outputs": [
    {
     "name": "stdout",
     "output_type": "stream",
     "text": [
      "(1, 2, 3, [10, 20, 30], 4)\n"
     ]
    }
   ],
   "source": [
    "# to add 4 to tuple not directly by converting that element as tuple and concatinating.\n",
    "add_value=(4,)\n",
    "tuple_after_modify=tuple_example+add_value  # here we are concatinating two tuples not inserting 4 directly to the tuple.\n",
    "print(tuple_after_modify)"
   ]
  },
  {
   "cell_type": "markdown",
   "id": "6f92727d-5e27-4f24-ace5-791efc1c8f9e",
   "metadata": {},
   "source": [
    "### 2.Tuple Basics Create a Python tuple containing the names of your favorite fruits. Write a Python program to print each fruit name from the tupl.\n",
    "       \n"
   ]
  },
  {
   "cell_type": "code",
   "execution_count": 34,
   "id": "db6904b9-fa1b-40b7-84b5-275d57a5123c",
   "metadata": {},
   "outputs": [
    {
     "name": "stdout",
     "output_type": "stream",
     "text": [
      "('banana', 'apple', 'mango', 'orange')\n",
      "banana\n",
      "apple\n",
      "mango\n",
      "orange\n"
     ]
    }
   ],
   "source": [
    "favorite_fruits=(\"banana\",\"apple\",\"mango\",\"orange\") # creating tuple with favoriate fruits\n",
    "print(favorite_fruits) # printing tuple\n",
    "for item in favorite_fruits:\n",
    "    print(item)    # printing each fruit name from the tuple."
   ]
  },
  {
   "cell_type": "markdown",
   "id": "9dbf8f68-290b-4236-8db8-deba588b60ef",
   "metadata": {},
   "source": [
    "### 3.Given two tuples, write a Python program to concatenate them into a single tuple and then find the length of the resulting tuple.\n"
   ]
  },
  {
   "cell_type": "code",
   "execution_count": 39,
   "id": "84fa8599-473b-46d7-ad47-eed76b48a738",
   "metadata": {},
   "outputs": [
    {
     "name": "stdout",
     "output_type": "stream",
     "text": [
      "6\n"
     ]
    }
   ],
   "source": [
    "tuple_1=(1,2,3)\n",
    "tuple_2=(\"ram\",\"raj\",\"ravi\")\n",
    "result=tuple_1+tuple_2   #concatinating two tuples into a single tuple.\n",
    "print(len(result)) # printing length of tuple by using len()."
   ]
  },
  {
   "cell_type": "markdown",
   "id": "9fe0eae7-3600-4d70-bc02-04e6c62dcca9",
   "metadata": {},
   "source": [
    "### 4.Write a Python program that takes a tuple of integers and converts it into a set. Then, find and print the maximum and minimum value from the set.\n"
   ]
  },
  {
   "cell_type": "code",
   "execution_count": 53,
   "id": "8bc11aad-176c-4241-8641-0984a0fd11b7",
   "metadata": {},
   "outputs": [
    {
     "name": "stdout",
     "output_type": "stream",
     "text": [
      "minimum value from the set: 0\n",
      "maxmum value from the set: 3\n"
     ]
    }
   ],
   "source": [
    "tuple_1=(1,2,3,0) # tuple of integers\n",
    "tuple_to_set=set(tuple_1)  # conversition of tuple to set\n",
    "print(\"minimum value from the set:\",min(tuple_to_set)) #min() is used to find minimum value from the set.\n",
    "print(\"maxmum value from the set:\",max(tuple_to_set)) #max() is used to find maximum value from the set."
   ]
  },
  {
   "cell_type": "markdown",
   "id": "4944e27f-cc65-46a9-9f53-d2c579fa9223",
   "metadata": {},
   "source": [
    "### 5.Tuple Slicing Given a tuple of 10 elements, write a Python program to print the elements from the 3rd to the 7th position using slicing.\n"
   ]
  },
  {
   "cell_type": "code",
   "execution_count": 60,
   "id": "4bc1bc5b-565e-446a-9800-7b6128c1c6a3",
   "metadata": {},
   "outputs": [
    {
     "name": "stdout",
     "output_type": "stream",
     "text": [
      "((1, 2, 3), 10.3, 90, 'raj', 50)\n"
     ]
    }
   ],
   "source": [
    "tuple_ten_elements=(10,\"string\",True,(1,2,3),10.3,90,\"raj\",50,\"ravi\",3.2)\n",
    "print(tuple_ten_elements[3:8])  #slicing from 3rd position to 7th position."
   ]
  },
  {
   "cell_type": "markdown",
   "id": "9b3a248c-9af1-462a-8981-d1858d3f3a68",
   "metadata": {},
   "source": [
    "### 6.Access value 20 from the tuple1 = (\"Orange\", [10, 20, 30], (5, 15, 25))\n"
   ]
  },
  {
   "cell_type": "code",
   "execution_count": 63,
   "id": "10044508-a32a-4bde-bbd0-d62410e8c9f5",
   "metadata": {},
   "outputs": [
    {
     "name": "stdout",
     "output_type": "stream",
     "text": [
      "20\n"
     ]
    }
   ],
   "source": [
    " tuple1 = (\"Orange\", [10, 20, 30], (5, 15, 25))\n",
    "print(tuple1[1][1]) #Accessing 20 from the tuple."
   ]
  },
  {
   "cell_type": "markdown",
   "id": "1e259457-d195-44ed-8351-550a6052dff1",
   "metadata": {},
   "source": [
    "### 7.tup=(1,2,3,2,4,5,3,4,2). Count the occurrences of element ‘2’ in the given tuple.\n"
   ]
  },
  {
   "cell_type": "code",
   "execution_count": 68,
   "id": "5e8687f2-7634-42ff-898b-065d42f23f4c",
   "metadata": {},
   "outputs": [
    {
     "name": "stdout",
     "output_type": "stream",
     "text": [
      "3\n"
     ]
    }
   ],
   "source": [
    "tup=(1,2,3,2,4,5,3,4,2)\n",
    "print(tup.count(2)) #counting number of occrences of 2 in tuple."
   ]
  },
  {
   "cell_type": "markdown",
   "id": "7171d364-d407-476c-aa5f-6c4fba08373a",
   "metadata": {},
   "source": [
    "### 8.Create a tuple of numbers. Use slicing to create a new tuple containing only the even-indexed elements of the original tuple.\n"
   ]
  },
  {
   "cell_type": "code",
   "execution_count": 73,
   "id": "bf81f5dc-b926-4d37-a043-c2799bc21f32",
   "metadata": {},
   "outputs": [
    {
     "name": "stdout",
     "output_type": "stream",
     "text": [
      "(10, 30, 50, 70)\n"
     ]
    }
   ],
   "source": [
    "numbers_tuple=(10,20,30,40,50,60,70)\n",
    "even_index_tuple=numbers_tuple[::2] # to get even index position elements.\n",
    "print(even_index_tuple)"
   ]
  },
  {
   "cell_type": "code",
   "execution_count": null,
   "id": "9132458a-3404-49fe-afcf-c644e10607ba",
   "metadata": {},
   "outputs": [],
   "source": []
  }
 ],
 "metadata": {
  "kernelspec": {
   "display_name": "Python [conda env:base] *",
   "language": "python",
   "name": "conda-base-py"
  },
  "language_info": {
   "codemirror_mode": {
    "name": "ipython",
    "version": 3
   },
   "file_extension": ".py",
   "mimetype": "text/x-python",
   "name": "python",
   "nbconvert_exporter": "python",
   "pygments_lexer": "ipython3",
   "version": "3.12.7"
  }
 },
 "nbformat": 4,
 "nbformat_minor": 5
}
