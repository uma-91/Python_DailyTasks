{
 "cells": [
  {
   "cell_type": "markdown",
   "id": "db73f475-fee1-473c-a11c-2e3a1a5e2615",
   "metadata": {},
   "source": [
    "### 1. Define arithmetic operator.  "
   ]
  },
  {
   "cell_type": "markdown",
   "id": "bbf1bce9-d729-4e7c-8297-58f69112ce2a",
   "metadata": {},
   "source": [
    "### def:\n",
    "    arithmetic operators can perform some operations on numbers and returns numbers as result.some of arithmetic operators are\n",
    "    \n",
    "        plus(+): to add two numbers.\n",
    "        minus(-): for substaction of numbers.\n",
    "        multiplication(*): to multiply two numbers.\n",
    "        division(/): division.\n",
    "        modulus(%): remider after division.\n",
    "        floor division(//): to perform  division and the result will be display as round.\n",
    "        exponential(**): to perform exponential operations."
   ]
  },
  {
   "cell_type": "markdown",
   "id": "578ad514-e647-42b2-a95b-68ff02db7e75",
   "metadata": {},
   "source": [
    "### 2. Create a Python script that defines two variables, num1 and num2, with any numeric "
   ]
  },
  {
   "cell_type": "code",
   "execution_count": 3,
   "id": "22fdb5b4-afff-4c4b-9e89-05fa8f0a3d53",
   "metadata": {},
   "outputs": [],
   "source": [
    "num1=5   #defing two variableswith numeric values\n",
    "num2=2\n"
   ]
  },
  {
   "cell_type": "markdown",
   "id": "9a61217c-6fc8-4960-92ec-5485f11ce210",
   "metadata": {},
   "source": [
    "### 3. Use arithmetic operators\n",
    "### (+, -, *, /, //, %, **) to perform the following operations:\n",
    "                    Add num1 and num2.\n",
    "                    Subtract num2 from num1.\n",
    "                    Multiply num1 and num2.\n",
    "                    Divide num1 by num2.\n",
    "                    Find the floor division of num1 by num2.\n",
    "                    Find the remainder when dividing num1 by num2.\n",
    "                    Calculate num1 raised to the power of num2.\n"
   ]
  },
  {
   "cell_type": "code",
   "execution_count": 7,
   "id": "77c990f6-ac5c-400f-aa36-35df8a9c4dbd",
   "metadata": {},
   "outputs": [
    {
     "name": "stdout",
     "output_type": "stream",
     "text": [
      "Addition: 7\n",
      "Substraction: 3\n",
      "Multiplication: 10\n",
      "Division: 2.5\n",
      "floor division: 2\n",
      "reminder after division: 1\n",
      "num1 raised to the poewer of num2: 25\n"
     ]
    }
   ],
   "source": [
    "print(\"Addition:\",num1+num2)\n",
    "print(\"Substraction:\",num1-num2)\n",
    "print(\"Multiplication:\",num1*num2)\n",
    "print(\"Division:\",num1/num2)\n",
    "print(\"floor division:\",num1//num2)\n",
    "print(\"reminder after division:\",num1%num2)\n",
    "print(\"num1 raised to the poewer of num2:\",num1**num2)"
   ]
  },
  {
   "cell_type": "markdown",
   "id": "379b89c9-7b7a-4a23-9c2d-3c1d6b5e36a7",
   "metadata": {},
   "source": [
    "### 4. Define Logical Operator.\n",
    "    logical operators are the operators to check whether the given conditions are satisfies or not. and returns the result as boolean type\n",
    "    logical oerators are and(&&),or(||),not(!)\n",
    "        and(&&)  :   it returns value as true if the both the expressions are true.that means both conditions satisfy then return True\n",
    "        or(||)   :  it return true if the any one of the expression is true\n",
    "        not    :   it returns opposite condition true as false,flase as true"
   ]
  },
  {
   "cell_type": "markdown",
   "id": "e030fd57-466b-4c6e-ab9a-2ec526488823",
   "metadata": {},
   "source": [
    "### 5.Create a Python script that defines two Boolean variables, is_sunny and is_warm, with appropriate values (True or False).\n",
    "    Use logical operators (and, or, not) to create the following conditions:\n",
    "    Check if it's both sunny and warm and print the result.\n",
    "    Check if it's either sunny or warm and print the result.\n",
    "    Check if it's not sunny and print the result.\n"
   ]
  },
  {
   "cell_type": "code",
   "execution_count": 35,
   "id": "906e5858-40ff-4c05-aedb-3306137f136e",
   "metadata": {},
   "outputs": [
    {
     "name": "stdout",
     "output_type": "stream",
     "text": [
      "it's both sunny and warm: False\n",
      "it's either sunny or warm: True\n",
      "it's not sunny: False\n"
     ]
    }
   ],
   "source": [
    "is_sunny=True\n",
    "is_warm=False\n",
    "print(\"it's both sunny and warm:\",is_warm and is_sunny)\n",
    "print(\"it's either sunny or warm:\",is_warm or is_sunny)\n",
    "print(\"it's not sunny:\",not is_sunny)"
   ]
  },
  {
   "cell_type": "markdown",
   "id": "63fac0f0-0654-467f-81d4-e8c44568e9bb",
   "metadata": {},
   "source": [
    "### 6.Define Comparative Operator.  \n",
    "    comparative operators are uses to compare two objects/expressions and returns result as boolean(True/False) type\n",
    "    comparative operators are:\n",
    "    --------------------------\n",
    "                                == - to check given values are equal or not\n",
    "                                != - to check expressions are equal or not\n",
    "                                >  - to check whether one epression is greater than or not to another expression.\n",
    "                                <  - to check whether one expression is  less than or not to another expression.\n",
    "                                <= - to check whether one expressionis less than or equal to another expression.\n",
    "                                >= - to check  whether one expression is greater than or equal to another expression."
   ]
  },
  {
   "cell_type": "markdown",
   "id": "026fc627-6df9-43a3-9b30-593d5970b69d",
   "metadata": {},
   "source": [
    "### 7. Create a Python script that defines two variables, a and b, with any numeric values.\n",
    "    Use comparative operators (==, !=, <, >, <=, >=) to create the following conditions\n",
    "    Check if a is equal to b and print the result.\n",
    "    Check if a is not equal to b and print the result.\n",
    "    Check if a is less than b and print the result.\n",
    "    Check if a is greater than b and print the result.\n",
    "    Check if a is less than or equal to b and print the result.\n",
    "    Check if a is greater than or equal to b and print the result.\n"
   ]
  },
  {
   "cell_type": "code",
   "execution_count": 11,
   "id": "ead15be2-354f-426c-8a56-01414e26ddd2",
   "metadata": {},
   "outputs": [
    {
     "name": "stdout",
     "output_type": "stream",
     "text": [
      "a is equal to b: False\n",
      "a is not equal to b: True\n",
      "a is less than b: False\n",
      "a is greater than b: True\n",
      "a is less than or equal to b: False\n",
      "a is greater than or equal to b: True\n"
     ]
    }
   ],
   "source": [
    "a=10\n",
    "b=20\n",
    "c=30\n",
    "print(\"a is equal to b:\",a==b)\n",
    "print(\"a is not equal to b:\",a!=b)\n",
    "print(\"a is less than b:\",(a+c)<b)\n",
    "print(\"a is greater than b:\",(a+c)>b)\n",
    "print(\"a is less than or equal to b:\",(a+c)<=b)\n",
    "print(\"a is greater than or equal to b:\",(a+c)>=b)"
   ]
  },
  {
   "cell_type": "markdown",
   "id": "b8d1c6d7-0465-4aef-b7f6-f22c29601194",
   "metadata": {},
   "source": [
    "### 8.What will be the output of the following code?\n",
    "    list1 = [1, 2, 3]\n",
    "    list2 = [1, 2, 3]\n",
    "    Is list1 is list2 True or False? Why?\n"
   ]
  },
  {
   "cell_type": "code",
   "execution_count": 16,
   "id": "a809861c-22c8-4f5b-993e-db9604ab0c76",
   "metadata": {},
   "outputs": [
    {
     "name": "stdout",
     "output_type": "stream",
     "text": [
      "list1 is equal to list2: True\n",
      "list1 is list2: False\n"
     ]
    }
   ],
   "source": [
    "list1=[1,2,3]\n",
    "list2=[1,2,3]\n",
    "print(\"list1 is equal to list2:\",list1==list2)  # == checks values here list 1 values list2 values are equal\n",
    "print(\"list1 is list2:\",list1 is list2)  # False. why because it checks the list1 and list2 reference to the same object in memory(identity) of lists not values of lists"
   ]
  },
  {
   "cell_type": "markdown",
   "id": "7c0dee8b-19b6-4d8d-9320-b1ebb30d7d44",
   "metadata": {},
   "source": [
    "### 9. What is the difference between == and is operators in Python? Provide an example for each.\n",
    "    == to check the values of the objects whether equal or not\n",
    "    is to check whether two objects referecing to the same memory location or not(two objects having same memory location or not)\n",
    "    Example:\n",
    "        list1=[1,2,3]\n",
    "        list2=[1,2,3]\n",
    "        new_list=list2\n",
    "        print(\"list1 equakl to list2:\",list1==list2) # True bcz values are same.\n",
    "        print(\"list1 is list2:\",list1 is list2) # False bcz they locate different memory locations.\n",
    "        print(\"list2 is new_list:\",list2 is new_list) # True bcz they locate same memory locations."
   ]
  },
  {
   "cell_type": "code",
   "execution_count": 19,
   "id": "6f8651a2-bca3-460a-aa5f-c9bb50b17e57",
   "metadata": {},
   "outputs": [
    {
     "name": "stdout",
     "output_type": "stream",
     "text": [
      "list1 equal to list2: True\n",
      "list1 is list2: False\n",
      "list2 is new_list: True\n"
     ]
    }
   ],
   "source": [
    "list1=[1,2,3]\n",
    "list2=[1,2,3]\n",
    "new_list=list2\n",
    "print(\"list1 equal to list2:\",list1==list2) # True bcz values are same.\n",
    "print(\"list1 is list2:\",list1 is list2) # False bcz they locate different memory locations.\n",
    "print(\"list2 is new_list:\",list2 is new_list) # True bcz they locate same memory locations.\n"
   ]
  },
  {
   "cell_type": "markdown",
   "id": "663213a5-9f4d-4f35-9aaf-2f5b4167376c",
   "metadata": {},
   "source": [
    "### 10. What will be the value of x after the following operations?\n",
    "x = 5\n",
    "x += 3\n",
    "x -= 2\n"
   ]
  },
  {
   "cell_type": "code",
   "execution_count": 67,
   "id": "ac034cf1-d160-49dd-a3b8-2e3aa7fd0f8f",
   "metadata": {},
   "outputs": [
    {
     "name": "stdout",
     "output_type": "stream",
     "text": [
      "6\n"
     ]
    }
   ],
   "source": [
    "x = 5\n",
    "x += 3 #5+3=8\n",
    "x -= 2 #8-2=6\n",
    "print(x)"
   ]
  },
  {
   "cell_type": "markdown",
   "id": "693ec666-3f5a-4434-a029-f14816be16b0",
   "metadata": {},
   "source": [
    "### 11. What will be the result of the following expression? ## Membership Operators:\n",
    "\n",
    "lst = [10, 20, 30, 40]\n",
    "print(30 in lst)\n",
    "print(50 not in lst)\n"
   ]
  },
  {
   "cell_type": "code",
   "execution_count": 73,
   "id": "99d65965-cd08-4901-b704-92c809c304ba",
   "metadata": {},
   "outputs": [
    {
     "name": "stdout",
     "output_type": "stream",
     "text": [
      "True\n",
      "False\n"
     ]
    }
   ],
   "source": [
    "lst=[10,20,30,40]\n",
    "print(30 in lst) # True\n",
    "print(50 in lst) # False 50 not in the list"
   ]
  },
  {
   "cell_type": "markdown",
   "id": "9c03fbeb-9727-4c42-9ef5-ab11c2733986",
   "metadata": {},
   "source": [
    "### 12. How does the not in operator work in Python? Provide an example with a string.\n",
    "not in is membership operator to check whether the value is in string or not it returns boolean value as the result true or false.\n",
    "## exmple\n",
    "    string=\" Hello World\"\n",
    "    print(\"Hello\" not in string)"
   ]
  },
  {
   "cell_type": "code",
   "execution_count": 1,
   "id": "ee821de5-cbe7-4433-88cf-8547b0784d6a",
   "metadata": {},
   "outputs": [
    {
     "name": "stdout",
     "output_type": "stream",
     "text": [
      "False\n"
     ]
    }
   ],
   "source": [
    "string=\" Hello World\"\n",
    "print(\"llo\" not in string)     # False bcz string contains \"Hello\""
   ]
  },
  {
   "cell_type": "markdown",
   "id": "14ca1648-28fb-4a06-abf8-f8132c498008",
   "metadata": {},
   "source": [
    "### 13. What will be the output of the following code bitwise operators\n",
    "a = 6 \n",
    "b = 3 \n",
    "print(a & b)\n"
   ]
  },
  {
   "cell_type": "code",
   "execution_count": 85,
   "id": "16672d63-add4-4b87-b362-289310ec1fbe",
   "metadata": {},
   "outputs": [
    {
     "name": "stdout",
     "output_type": "stream",
     "text": [
      "2\n"
     ]
    }
   ],
   "source": [
    "a=6\n",
    "b=3\n",
    "print(a&b)"
   ]
  },
  {
   "cell_type": "markdown",
   "id": "f1ba3a9a-d0af-41ff-a6a2-c1b3e2536a1f",
   "metadata": {},
   "source": [
    "### 14. Convert the decimal numbers 5 and 9 to binary and perform the bitwise OR (|) operation on them. What is the result in decimal?\n"
   ]
  },
  {
   "cell_type": "markdown",
   "id": "4b9edc7a-b0ab-478e-8b3b-18a45e760134",
   "metadata": {},
   "source": [
    "    5 2*2=4 here remainder=1\n",
    "       2*1=2 here remainder=0\n",
    "       0 here remainder as 1\n",
    "    after conversion of 5 to decimal is 101=2**0*1+2**1*0+2**2*1=1*1+2*0+4*1=1+0+4=5   so 5=101\n",
    "    9 2*4 here remainder=1\n",
    "      2*2 here remainder=0\n",
    "      2*1 here remainder=0\n",
    "      0 here remainder=1 to check 1001=2**0*1+2**1*0+2**2*0+2**3*1=1*1+2*0+4*0+8*1=1+0+8=9 so 9=1001\n",
    "      101 OR(|)\n",
    "      1001\n",
    "     1101- 2**0*1+2**1*0+2**2*1+2**3*1=1*1+2*0+4*1+8*1=1+0+4+8=13   reult 13=1101"
   ]
  },
  {
   "cell_type": "code",
   "execution_count": 51,
   "id": "63ef7d8c-aee6-41af-9359-d113ac3cc2b9",
   "metadata": {},
   "outputs": [
    {
     "name": "stdout",
     "output_type": "stream",
     "text": [
      "conversion of 5 to binary: 0b101\n",
      "conversion of 9 to binary: 0b1001\n",
      "resul of 5 | 9 to birary 0b1101 : 13\n"
     ]
    }
   ],
   "source": [
    "val1=5\n",
    "val2=9\n",
    "#result=val1 | val2\n",
    "print(f\"conversion of {val1} to binary:\",bin(val1))\n",
    "print(f\"conversion of {val2} to binary:\",bin(val2))\n",
    "print(f\"resul of {val1} | {val2} to birary {bin(val1 | val2)} :\", val1 | val2)"
   ]
  },
  {
   "cell_type": "markdown",
   "id": "5a69fac9-064c-4bac-a5ad-a6faa2794357",
   "metadata": {},
   "source": [
    "### 15.Explain the difference between the bitwise left shift (<<) and right shift (>>) operators in Python. Provide an example for each.\n",
    "        bitwise left shift(<<) and right shift(>>) operators are used to shift bits of numbers from left to right and right to left\n",
    "        left shift : shifts the bits of numbers from left to right depending on the number of positions we mension.\n",
    "                 ex:5<<1 binary form of 5 is 0101 after shifting bit from left to right 1010 =10\n",
    "        right shift : shiftd the bits of numbers from right to left \n",
    "                ex:5>>1 binary form of 5 is 0101 after shifting left to right 10 is 2\n"
   ]
  },
  {
   "cell_type": "code",
   "execution_count": 61,
   "id": "c365088a-0876-4c17-9cdf-f889cd73482c",
   "metadata": {},
   "outputs": [
    {
     "name": "stdout",
     "output_type": "stream",
     "text": [
      "0b1010 10\n",
      "0b10 2\n"
     ]
    }
   ],
   "source": [
    "num=5\n",
    "print(bin(num<<1),num<<1)\n",
    "print(bin(num>>1),num>>1)"
   ]
  },
  {
   "cell_type": "code",
   "execution_count": null,
   "id": "a50be8b9-0639-4267-aef7-ed75580a0651",
   "metadata": {},
   "outputs": [],
   "source": []
  }
 ],
 "metadata": {
  "kernelspec": {
   "display_name": "Python 3 (ipykernel)",
   "language": "python",
   "name": "python3"
  },
  "language_info": {
   "codemirror_mode": {
    "name": "ipython",
    "version": 3
   },
   "file_extension": ".py",
   "mimetype": "text/x-python",
   "name": "python",
   "nbconvert_exporter": "python",
   "pygments_lexer": "ipython3",
   "version": "3.12.7"
  }
 },
 "nbformat": 4,
 "nbformat_minor": 5
}
