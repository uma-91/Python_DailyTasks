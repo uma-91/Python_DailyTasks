{
 "cells": [
  {
   "cell_type": "markdown",
   "id": "9bda40de-44dc-4730-87b8-032b5e030901",
   "metadata": {},
   "source": [
    "### 1.Write a Python function greet that takes a name as input and returns the message: \n",
    "### \"Hello, < name1 >!\".\n"
   ]
  },
  {
   "cell_type": "code",
   "execution_count": 4,
   "id": "8a0706b9-6774-4c7a-b17d-15ad9aad9cb4",
   "metadata": {},
   "outputs": [],
   "source": [
    "def greet(name):\n",
    "    return f\"Hello {name}\""
   ]
  },
  {
   "cell_type": "code",
   "execution_count": 8,
   "id": "e1470a83-ae90-4866-a9d1-411fd3a8d26c",
   "metadata": {},
   "outputs": [
    {
     "name": "stdin",
     "output_type": "stream",
     "text": [
      "Enter ur name: Raj\n"
     ]
    },
    {
     "data": {
      "text/plain": [
       "'Hello Raj'"
      ]
     },
     "execution_count": 8,
     "metadata": {},
     "output_type": "execute_result"
    }
   ],
   "source": [
    "nam=input(\"Enter ur name:\")\n",
    "greet(nam)"
   ]
  },
  {
   "cell_type": "code",
   "execution_count": 18,
   "id": "b8a8c641-cc74-4e25-956e-ac38f27effa8",
   "metadata": {},
   "outputs": [
    {
     "data": {
      "text/plain": [
       "'Hello Ram'"
      ]
     },
     "execution_count": 18,
     "metadata": {},
     "output_type": "execute_result"
    }
   ],
   "source": [
    "greet(\"Ram\")"
   ]
  },
  {
   "cell_type": "markdown",
   "id": "e77e547e-688a-4098-84a7-a4787b5b41f3",
   "metadata": {},
   "source": [
    "### 2.Write a function find_max that takes a list of numbers as input and returns the largest number.\n"
   ]
  },
  {
   "cell_type": "code",
   "execution_count": 131,
   "id": "c9d14923-8cf5-4f58-8b91-d5760494ebf5",
   "metadata": {},
   "outputs": [],
   "source": [
    "def find_max(lst):\n",
    "    if not lst:                    #to check list kis empty or not first\n",
    "        return \"Empty list\"\n",
    "    else:\n",
    "        max_num=lst[0]          #first value is assign to max_value\n",
    "        for x in lst:\n",
    "            if x>max_num:         #for each value compare to first value if greater then assign it as max value\n",
    "                max_num=x\n",
    "        return max_num"
   ]
  },
  {
   "cell_type": "code",
   "execution_count": 135,
   "id": "cd3aad59-2536-4b45-993e-f17865437ee8",
   "metadata": {},
   "outputs": [
    {
     "data": {
      "text/plain": [
       "90"
      ]
     },
     "execution_count": 135,
     "metadata": {},
     "output_type": "execute_result"
    }
   ],
   "source": [
    "find_max([90,30,50,40,80,10])\n",
    "#print(x)"
   ]
  },
  {
   "cell_type": "code",
   "execution_count": 87,
   "id": "f91adf80-5cd2-488d-82ea-43d640624d85",
   "metadata": {},
   "outputs": [
    {
     "data": {
      "text/plain": [
       "'Empty list'"
      ]
     },
     "execution_count": 87,
     "metadata": {},
     "output_type": "execute_result"
    }
   ],
   "source": [
    "find_max([])"
   ]
  },
  {
   "cell_type": "markdown",
   "id": "7d6df1c5-c93d-41d5-b74b-a35242acaf18",
   "metadata": {},
   "source": [
    "### 3.Write a function filter_words that takes a string and a list of words, and returns only the words from the string that are present in the list.\n"
   ]
  },
  {
   "cell_type": "code",
   "execution_count": 98,
   "id": "4ee99fff-b584-49b8-aaa0-ee91b126694b",
   "metadata": {},
   "outputs": [],
   "source": [
    "def filter_words(string,lst_words):\n",
    "    filter_words=[]                          #take empty list\n",
    "    words_in_string=string.split()           #convert string into words\n",
    "    for word in words_in_string:             #for each word in sting words\n",
    "        if word in lst_words:                #if it is there in add it to empty list\n",
    "            filter_words.append(word)\n",
    "    return f\"the words from the string that are present in the list. {filter_words}\""
   ]
  },
  {
   "cell_type": "code",
   "execution_count": 100,
   "id": "8d575100-faa2-48c4-9539-b3d58dc60c4a",
   "metadata": {},
   "outputs": [
    {
     "data": {
      "text/plain": [
       "\"the words from the string that are present in the list. ['are', 'python']\""
      ]
     },
     "execution_count": 100,
     "metadata": {},
     "output_type": "execute_result"
    }
   ],
   "source": [
    "filter_words(\"Hai Every one they are from python\",[\"python\",\"are\",\"abc\"])"
   ]
  },
  {
   "cell_type": "markdown",
   "id": "1ab6d30f-4602-4f4b-98b3-607859a7832b",
   "metadata": {},
   "source": [
    "### 4.Write a recursive function to calculate the factorial of a given number"
   ]
  },
  {
   "cell_type": "code",
   "execution_count": 135,
   "id": "bcd08755-69c6-4819-80e3-75ce9703179c",
   "metadata": {},
   "outputs": [],
   "source": [
    "def fact(n):\n",
    "    if n<0:\n",
    "        return \"not defined\"\n",
    "    elif n<=1:\n",
    "        return 1\n",
    "    else:\n",
    "        return n*fact(n-1)\n",
    "         \n",
    "    "
   ]
  },
  {
   "cell_type": "code",
   "execution_count": 137,
   "id": "2dc16f0f-2b5a-4f12-978a-49351b0d3bfc",
   "metadata": {},
   "outputs": [
    {
     "data": {
      "text/plain": [
       "1"
      ]
     },
     "execution_count": 137,
     "metadata": {},
     "output_type": "execute_result"
    }
   ],
   "source": [
    "fact(0)\n"
   ]
  },
  {
   "cell_type": "code",
   "execution_count": 139,
   "id": "edf94655-d612-4cd6-b617-758941c7d2d0",
   "metadata": {},
   "outputs": [
    {
     "data": {
      "text/plain": [
       "'not defined'"
      ]
     },
     "execution_count": 139,
     "metadata": {},
     "output_type": "execute_result"
    }
   ],
   "source": [
    "fact(-2)"
   ]
  },
  {
   "cell_type": "code",
   "execution_count": 141,
   "id": "47ff2376-d6a8-4e44-b62b-bf3a8a8f89d3",
   "metadata": {},
   "outputs": [
    {
     "data": {
      "text/plain": [
       "1"
      ]
     },
     "execution_count": 141,
     "metadata": {},
     "output_type": "execute_result"
    }
   ],
   "source": [
    "fact(1)"
   ]
  },
  {
   "cell_type": "code",
   "execution_count": 143,
   "id": "4dedd737-f977-4e72-abc2-b8b58466b0f9",
   "metadata": {},
   "outputs": [
    {
     "data": {
      "text/plain": [
       "2"
      ]
     },
     "execution_count": 143,
     "metadata": {},
     "output_type": "execute_result"
    }
   ],
   "source": [
    "fact(2)"
   ]
  },
  {
   "cell_type": "markdown",
   "id": "9197c28e-563e-42cb-8aa3-3e3a5be70859",
   "metadata": {},
   "source": [
    "### 5.Write a function reverse_string to reverse a string."
   ]
  },
  {
   "cell_type": "code",
   "execution_count": 148,
   "id": "214dedae-7489-4d9d-ba2a-757299e7857a",
   "metadata": {},
   "outputs": [],
   "source": [
    "def reverse_string(string):\n",
    "    return f\"reverse of the string is:{string[::-1]}\""
   ]
  },
  {
   "cell_type": "code",
   "execution_count": 152,
   "id": "eeee40d0-72d4-443e-8156-b5a141bb990a",
   "metadata": {},
   "outputs": [
    {
     "data": {
      "text/plain": [
       "'reverse of the string is:mar'"
      ]
     },
     "execution_count": 152,
     "metadata": {},
     "output_type": "execute_result"
    }
   ],
   "source": [
    "reverse_string(\"ram\")"
   ]
  },
  {
   "cell_type": "markdown",
   "id": "fa46807f-ab12-45a1-9560-db77a0b775be",
   "metadata": {},
   "source": [
    "### 6.Write a function sum_all that takes any number of arguments and returns their sum."
   ]
  },
  {
   "cell_type": "code",
   "execution_count": 198,
   "id": "a2890765-e8a0-43a5-8f0a-439c7874d2f9",
   "metadata": {},
   "outputs": [],
   "source": [
    "def sum_all(*a):\n",
    "    sum=0\n",
    "    for x in a:\n",
    "        sum=sum+x\n",
    "    return sum"
   ]
  },
  {
   "cell_type": "code",
   "execution_count": 200,
   "id": "16ad0862-e5d6-4d79-9932-5853f7023343",
   "metadata": {},
   "outputs": [
    {
     "data": {
      "text/plain": [
       "30"
      ]
     },
     "execution_count": 200,
     "metadata": {},
     "output_type": "execute_result"
    }
   ],
   "source": [
    "sum_all(10,20)"
   ]
  },
  {
   "cell_type": "code",
   "execution_count": 202,
   "id": "04cde056-3e8d-42b9-9cbc-9ffdc7ccaf3a",
   "metadata": {},
   "outputs": [
    {
     "data": {
      "text/plain": [
       "60"
      ]
     },
     "execution_count": 202,
     "metadata": {},
     "output_type": "execute_result"
    }
   ],
   "source": [
    "sum_all(10,20,30)"
   ]
  },
  {
   "cell_type": "markdown",
   "id": "a90f4fda-0aa8-4492-9b7b-c1b2a5601076",
   "metadata": {},
   "source": [
    "### 7.Write a function concatenate_strings that takes any number of string arguments and concatenates them with a space between each word.\n"
   ]
  },
  {
   "cell_type": "code",
   "execution_count": 222,
   "id": "7af1012f-e624-49f4-88a8-a6dbea242232",
   "metadata": {},
   "outputs": [],
   "source": [
    "def concat_str(*strings):\n",
    "    concat=\"\"\n",
    "    for string in strings:\n",
    "         concat=concat+\" \"+string\n",
    "    return concat   "
   ]
  },
  {
   "cell_type": "code",
   "execution_count": 224,
   "id": "33fbc800-1c3b-44df-8ff1-3af8c2337f20",
   "metadata": {},
   "outputs": [
    {
     "data": {
      "text/plain": [
       "' Hai everyone'"
      ]
     },
     "execution_count": 224,
     "metadata": {},
     "output_type": "execute_result"
    }
   ],
   "source": [
    "concat_str(\"Hai\",\"everyone\")"
   ]
  },
  {
   "cell_type": "markdown",
   "id": "66f0c800-7f85-4a30-b96b-9d346a1397dd",
   "metadata": {},
   "source": [
    "### 8.Write a function greet_user that accepts keyword arguments first_name and last_name and prints a greeting in the format: \"Hello, \n",
    "### < first_name > < last_name >!\".\n"
   ]
  },
  {
   "cell_type": "code",
   "execution_count": 70,
   "id": "091f2150-fc27-4855-84b9-5685b160d10e",
   "metadata": {},
   "outputs": [],
   "source": [
    "# method1:\n",
    "def greet_user(**kwargs):\n",
    "    fname = kwargs.get('fname', \"FirstName\")\n",
    "    lname = kwargs.get('lname', \"LastName\")\n",
    "    return f\"Hello {fname} {lname}!\""
   ]
  },
  {
   "cell_type": "code",
   "execution_count": 54,
   "id": "a9c53a31-7997-4127-aaea-51af1789ced3",
   "metadata": {},
   "outputs": [
    {
     "data": {
      "text/plain": [
       "'Hello Raj abc!'"
      ]
     },
     "execution_count": 54,
     "metadata": {},
     "output_type": "execute_result"
    }
   ],
   "source": [
    "greet_user(fname=\"Raj\",lname=\"abc\")"
   ]
  },
  {
   "cell_type": "code",
   "execution_count": 56,
   "id": "17a40006-10c0-4d0e-a0a3-8b08138328cc",
   "metadata": {},
   "outputs": [
    {
     "data": {
      "text/plain": [
       "'Hello FirstName LastName!'"
      ]
     },
     "execution_count": 56,
     "metadata": {},
     "output_type": "execute_result"
    }
   ],
   "source": [
    "greet_user()"
   ]
  },
  {
   "cell_type": "code",
   "execution_count": 68,
   "id": "3b06f4f8-4135-409c-8e3d-5b799704394e",
   "metadata": {},
   "outputs": [],
   "source": [
    "#method2:\n",
    "def greet_user(fname='FirstName',lname='LastName'):\n",
    "    return f\"Hello {fname} {lname}!\""
   ]
  },
  {
   "cell_type": "code",
   "execution_count": 64,
   "id": "6b98dce7-2b45-45ed-b692-cf25feeba61c",
   "metadata": {},
   "outputs": [
    {
     "data": {
      "text/plain": [
       "'Hello FirstName LastName!'"
      ]
     },
     "execution_count": 64,
     "metadata": {},
     "output_type": "execute_result"
    }
   ],
   "source": [
    "greet_user()"
   ]
  },
  {
   "cell_type": "code",
   "execution_count": 66,
   "id": "ede0009d-441b-489e-99cb-cbdca514f24f",
   "metadata": {},
   "outputs": [
    {
     "data": {
      "text/plain": [
       "'Hello Raj abc!'"
      ]
     },
     "execution_count": 66,
     "metadata": {},
     "output_type": "execute_result"
    }
   ],
   "source": [
    "greet_user(\"Raj\",\"abc\")"
   ]
  },
  {
   "cell_type": "markdown",
   "id": "af007bff-69a0-486c-a9a9-18ec47a709b9",
   "metadata": {},
   "source": [
    "### 9.Write a function filter_data that accepts keyword arguments and returns only those whose values are greater than 50.\n"
   ]
  },
  {
   "cell_type": "code",
   "execution_count": 121,
   "id": "64ff292f-723c-4f0a-8e1d-04024ef8bb45",
   "metadata": {},
   "outputs": [],
   "source": [
    "#method1:\n",
    "\n",
    "def filter_data(**kwargs):\n",
    "    values=[]                                    # using for loop\n",
    "    for value in kwargs.values():\n",
    "        if value>50:\n",
    "            values.append(value)\n",
    "    return f\"Values that are greater than 50 are: {values}\""
   ]
  },
  {
   "cell_type": "code",
   "execution_count": 123,
   "id": "b582244b-a9c0-4c22-a939-7b494e864a88",
   "metadata": {},
   "outputs": [
    {
     "data": {
      "text/plain": [
       "'Values that are greater than 50 are: [60, 70]'"
      ]
     },
     "execution_count": 123,
     "metadata": {},
     "output_type": "execute_result"
    }
   ],
   "source": [
    "filter_data(stu1=10,stu2=20,stu3=60,stu4=70)"
   ]
  },
  {
   "cell_type": "code",
   "execution_count": 125,
   "id": "08171796-a73a-4f68-aa0d-82b4aa26d1a3",
   "metadata": {},
   "outputs": [],
   "source": [
    "#method2:\n",
    "\n",
    "def filter_data(**kwargs):\n",
    "    return {key:value for key,value in kwargs.items() if value>50}               #using dictionary comprehension"
   ]
  },
  {
   "cell_type": "code",
   "execution_count": 127,
   "id": "e751b18c-5c54-4805-9f2b-e3330a78e681",
   "metadata": {},
   "outputs": [
    {
     "data": {
      "text/plain": [
       "{'b': 90, 'd': 70}"
      ]
     },
     "execution_count": 127,
     "metadata": {},
     "output_type": "execute_result"
    }
   ],
   "source": [
    "filter_data(a=10,b=90,c=40,d=70)"
   ]
  },
  {
   "cell_type": "code",
   "execution_count": null,
   "id": "86ae30d2-5e00-43c4-9994-66b20a81e6af",
   "metadata": {},
   "outputs": [],
   "source": []
  }
 ],
 "metadata": {
  "kernelspec": {
   "display_name": "Python 3 (ipykernel)",
   "language": "python",
   "name": "python3"
  },
  "language_info": {
   "codemirror_mode": {
    "name": "ipython",
    "version": 3
   },
   "file_extension": ".py",
   "mimetype": "text/x-python",
   "name": "python",
   "nbconvert_exporter": "python",
   "pygments_lexer": "ipython3",
   "version": "3.12.7"
  }
 },
 "nbformat": 4,
 "nbformat_minor": 5
}
